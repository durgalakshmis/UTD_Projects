{
 "cells": [
  {
   "cell_type": "code",
   "execution_count": null,
   "metadata": {},
   "outputs": [],
   "source": [
    "# <font color='green'>Project 1 \n",
    "## Group 26 \n",
    "### Members: \n",
    "Durgalakshmi Sundaraman(dxs190016)                                                                                         \n"
   ]
  },
  {
   "cell_type": "markdown",
   "metadata": {},
   "source": [
    "## <font color='green'> Regression"
   ]
  },
  {
   "cell_type": "markdown",
   "metadata": {},
   "source": [
    "### This project predicts life expectancy of a person in various country based on the living and health standards. Thus the models used in this are mainly:\n",
    "\n",
    "\n",
    "#### 1) KNN classification\n",
    "#### 2) Linear Regression\n",
    "#### 3) Decision Tree\n",
    "#### 4) Linear SVM\n",
    "#### 5) Kernel SVM (RBF, Linear, Poly)"
   ]
  },
  {
   "cell_type": "markdown",
   "metadata": {},
   "source": [
    "### Importing necessary libraries for the project"
   ]
  },
  {
   "cell_type": "code",
   "execution_count": 1,
   "metadata": {},
   "outputs": [],
   "source": [
    "#import neccessary libraries\n",
    "import numpy as np\n",
    "import pandas as pd\n",
    "import matplotlib.pyplot as plt\n",
    "import seaborn as sns\n",
    "from sklearn.neighbors import KNeighborsClassifier\n",
    "from sklearn.model_selection import train_test_split\n",
    "from sklearn.preprocessing import StandardScaler\n",
    "from sklearn.preprocessing import MinMaxScaler\n",
    "from sklearn.neighbors import KNeighborsRegressor\n",
    "from sklearn.linear_model import LinearRegression\n",
    "from sklearn.linear_model import Ridge\n",
    "from sklearn.linear_model import Lasso\n",
    "from sklearn.preprocessing import PolynomialFeatures\n",
    "from sklearn.preprocessing import StandardScaler\n",
    "from sklearn.preprocessing import MinMaxScaler\n",
    "from sklearn.model_selection import train_test_split\n",
    "from sklearn.svm import SVR\n",
    "from sklearn.svm import LinearSVR\n",
    "from sklearn.model_selection import GridSearchCV\n",
    "\n",
    "from sklearn import neighbors\n",
    "from sklearn.metrics import mean_squared_error \n",
    "from sklearn.metrics import mean_absolute_error\n",
    "from sklearn.metrics import r2_score\n",
    "from math import sqrt\n",
    "np.random.seed(42)"
   ]
  },
  {
   "cell_type": "markdown",
   "metadata": {},
   "source": [
    "### Importing the Dataset for classification\n"
   ]
  },
  {
   "cell_type": "code",
   "execution_count": 2,
   "metadata": {},
   "outputs": [
    {
     "data": {
      "text/plain": [
       "(1535, 22)"
      ]
     },
     "execution_count": 2,
     "metadata": {},
     "output_type": "execute_result"
    }
   ],
   "source": [
    "#reading the dataset\n",
    "df_life = pd.read_excel(\"C:\\\\Users\\\\sundh\\Desktop\\\\Project1_Regression_Data.xlsx\")\n",
    "df_life.shape"
   ]
  },
  {
   "cell_type": "markdown",
   "metadata": {},
   "source": [
    "This dataset is  taken from kaggle. It contains information of the living and health standards of people in various countries</b> in this is <b>life expectancy</b> variable . The model works to predict the life expectancy in years of an individual<br>\n",
    "The dataset has <b>1535</b> observations with <b>22</b> columns <br>\n"
   ]
  },
  {
   "cell_type": "markdown",
   "metadata": {},
   "source": [
    "<b>Column                         : Description</b><br>\n",
    "<b>Country </b>                    : Country the respondent is in<br>\n",
    "<b>Year  </b>                     : Year of the response <br>\n",
    "<b>Status</b>              : Status of the country<br>\n",
    "<b>Life expectancy </b>      : Average life expectancy as age<br>\n",
    "<b>Adult Mortality </b>      : Average Adult mortality rate<br>\n",
    "<b>infant deaths  </b>       : Average infant deaths <br>\n",
    "<b>Alcohol </b>         : Alcohol consumption<br>\n",
    "<b>percentage expenditure              </b>     : Average medicalExpenditure <br>\n",
    "<b>Hepatitis B         </b>               :  Hepatitis B immunisation among infants<br>\n",
    "<b>Measles         </b>                 : No. measles cases reported<br>\n",
    "<b>BMI            </b>                : BMI of population<br>\n",
    "<b>under-five deaths   </b>               :Number of under five deaths<br>\n",
    "<b>Polio </b>           : Polio coverage among<br>\n",
    "<b>Diphtheria   </b>             : Diphtheria immunisation<br>\n",
    "<b>HIV/AIDS    </b>                : HIV deaths per 1000<br>\n",
    "<b>GDP  </b>          : GDP of the country<br>\n",
    "<b>Population                   </b>Population of the country<br>\n",
    "<b>thinness  1-19 years   </b>  :  prevelance of thinness in 1-19 year age group<br>\n",
    "<b>thinness 5-9 years     </b>        : prevelance of thinness in 5-9 year age group<br>\n",
    "<b>Income composition of resources  </b>  : Income composition of population<br>\n",
    "<b>Schooling  </b>        : Number of years of schooling<br>\n",
    "\n",
    "\n"
   ]
  },
  {
   "cell_type": "markdown",
   "metadata": {},
   "source": [
    "## Exploratory Data Analysis"
   ]
  },
  {
   "cell_type": "markdown",
   "metadata": {},
   "source": [
    "The exploratory data analysis is performed on the dataset to understand the variations, range, detect outliers and collinearity if it exists in the dataset."
   ]
  },
  {
   "cell_type": "markdown",
   "metadata": {},
   "source": [
    "### <b>Check for null</b>"
   ]
  },
  {
   "cell_type": "markdown",
   "metadata": {},
   "source": [
    " Upon checking for null we find that 1385 of the data cells in the dataset have a randomly disbursed null presence"
   ]
  },
  {
   "cell_type": "code",
   "execution_count": 3,
   "metadata": {},
   "outputs": [
    {
     "name": "stdout",
     "output_type": "stream",
     "text": [
      "<class 'pandas.core.frame.DataFrame'>\n",
      "RangeIndex: 1535 entries, 0 to 1534\n",
      "Data columns (total 22 columns):\n",
      " #   Column                           Non-Null Count  Dtype  \n",
      "---  ------                           --------------  -----  \n",
      " 0   Country                          1534 non-null   object \n",
      " 1   Year                             1534 non-null   float64\n",
      " 2   Status                           1533 non-null   object \n",
      " 3   Life expectancy                  1527 non-null   float64\n",
      " 4   Adult Mortality                  1524 non-null   float64\n",
      " 5   infant deaths                    1534 non-null   float64\n",
      " 6   Alcohol                          1433 non-null   float64\n",
      " 7   percentage expenditure           1533 non-null   float64\n",
      " 8   Hepatitis B                      1229 non-null   float64\n",
      " 9   Measles                          1535 non-null   int64  \n",
      " 10  BMI                              1514 non-null   float64\n",
      " 11  under-five deaths                1535 non-null   int64  \n",
      " 12  Polio                            1521 non-null   float64\n",
      " 13  Total expenditure                1415 non-null   float64\n",
      " 14  Diphtheria                       1523 non-null   float64\n",
      " 15   HIV/AIDS                        1533 non-null   float64\n",
      " 16  GDP                              1304 non-null   float64\n",
      " 17  Population                       1197 non-null   float64\n",
      " 18  thinness  1-19 years             1515 non-null   float64\n",
      " 19  thinness 5-9 years               1515 non-null   float64\n",
      " 20  Income composition of resources  1448 non-null   float64\n",
      " 21  Schooling                        1449 non-null   float64\n",
      "dtypes: float64(18), int64(2), object(2)\n",
      "memory usage: 264.0+ KB\n"
     ]
    }
   ],
   "source": [
    "#check the datatypes\n",
    "df_life.info()"
   ]
  },
  {
   "cell_type": "code",
   "execution_count": 4,
   "metadata": {},
   "outputs": [
    {
     "data": {
      "text/plain": [
       "1385"
      ]
     },
     "execution_count": 4,
     "metadata": {},
     "output_type": "execute_result"
    }
   ],
   "source": [
    "#sum of the total nulls in dataset\n",
    "df_life.isna().sum().sum()"
   ]
  },
  {
   "cell_type": "code",
   "execution_count": 5,
   "metadata": {},
   "outputs": [
    {
     "data": {
      "text/plain": [
       "Index(['Country', 'Year', 'Status', 'Life expectancy', 'Adult Mortality',\n",
       "       'infant deaths', 'Alcohol', 'percentage expenditure', 'Hepatitis B',\n",
       "       'Measles', 'BMI', 'under-five deaths', 'Polio', 'Total expenditure',\n",
       "       'Diphtheria', 'HIV/AIDS', 'GDP', 'Population', 'thinness  1-19 years',\n",
       "       'thinness 5-9 years', 'Income composition of resources', 'Schooling'],\n",
       "      dtype='object')"
      ]
     },
     "execution_count": 5,
     "metadata": {},
     "output_type": "execute_result"
    }
   ],
   "source": [
    "#stripping blanks from column headers\n",
    "df_life.columns = df_life.columns[:].str.strip() #strip removes both start and end\n",
    "df_life.columns"
   ]
  },
  {
   "cell_type": "markdown",
   "metadata": {},
   "source": [
    "### Dropping unwanted columns"
   ]
  },
  {
   "cell_type": "markdown",
   "metadata": {},
   "source": [
    "The column country is dropped here as it doesnt add to our data prediction"
   ]
  },
  {
   "cell_type": "code",
   "execution_count": 6,
   "metadata": {},
   "outputs": [],
   "source": [
    "#droping column country\n",
    "df_life.drop(['Country'],inplace=True,axis=1)"
   ]
  },
  {
   "cell_type": "markdown",
   "metadata": {},
   "source": [
    "### Handling Null"
   ]
  },
  {
   "cell_type": "markdown",
   "metadata": {},
   "source": [
    "To handle the null we check the data in the first five rows"
   ]
  },
  {
   "cell_type": "code",
   "execution_count": 7,
   "metadata": {},
   "outputs": [
    {
     "data": {
      "text/html": [
       "<div>\n",
       "<style scoped>\n",
       "    .dataframe tbody tr th:only-of-type {\n",
       "        vertical-align: middle;\n",
       "    }\n",
       "\n",
       "    .dataframe tbody tr th {\n",
       "        vertical-align: top;\n",
       "    }\n",
       "\n",
       "    .dataframe thead th {\n",
       "        text-align: right;\n",
       "    }\n",
       "</style>\n",
       "<table border=\"1\" class=\"dataframe\">\n",
       "  <thead>\n",
       "    <tr style=\"text-align: right;\">\n",
       "      <th></th>\n",
       "      <th>Year</th>\n",
       "      <th>Status</th>\n",
       "      <th>Life expectancy</th>\n",
       "      <th>Adult Mortality</th>\n",
       "      <th>infant deaths</th>\n",
       "      <th>Alcohol</th>\n",
       "      <th>percentage expenditure</th>\n",
       "      <th>Hepatitis B</th>\n",
       "      <th>Measles</th>\n",
       "      <th>BMI</th>\n",
       "      <th>...</th>\n",
       "      <th>Polio</th>\n",
       "      <th>Total expenditure</th>\n",
       "      <th>Diphtheria</th>\n",
       "      <th>HIV/AIDS</th>\n",
       "      <th>GDP</th>\n",
       "      <th>Population</th>\n",
       "      <th>thinness  1-19 years</th>\n",
       "      <th>thinness 5-9 years</th>\n",
       "      <th>Income composition of resources</th>\n",
       "      <th>Schooling</th>\n",
       "    </tr>\n",
       "  </thead>\n",
       "  <tbody>\n",
       "    <tr>\n",
       "      <th>0</th>\n",
       "      <td>2011.0</td>\n",
       "      <td>Developed</td>\n",
       "      <td>73.7</td>\n",
       "      <td>144.0</td>\n",
       "      <td>1.0</td>\n",
       "      <td>10.67</td>\n",
       "      <td>875.149519</td>\n",
       "      <td>96.0</td>\n",
       "      <td>157</td>\n",
       "      <td>63.3</td>\n",
       "      <td>...</td>\n",
       "      <td>95.0</td>\n",
       "      <td>6.88</td>\n",
       "      <td>95.0</td>\n",
       "      <td>0.1</td>\n",
       "      <td>7813.834990</td>\n",
       "      <td>7348328.0</td>\n",
       "      <td>2.0</td>\n",
       "      <td>2.0</td>\n",
       "      <td>0.775</td>\n",
       "      <td>14.2</td>\n",
       "    </tr>\n",
       "    <tr>\n",
       "      <th>1</th>\n",
       "      <td>2008.0</td>\n",
       "      <td>Developing</td>\n",
       "      <td>61.4</td>\n",
       "      <td>217.0</td>\n",
       "      <td>8.0</td>\n",
       "      <td>0.02</td>\n",
       "      <td>61.762638</td>\n",
       "      <td>74.0</td>\n",
       "      <td>4</td>\n",
       "      <td>26.1</td>\n",
       "      <td>...</td>\n",
       "      <td>73.0</td>\n",
       "      <td>3.23</td>\n",
       "      <td>74.0</td>\n",
       "      <td>1.3</td>\n",
       "      <td>1167.535689</td>\n",
       "      <td>347541.0</td>\n",
       "      <td>9.2</td>\n",
       "      <td>8.9</td>\n",
       "      <td>0.475</td>\n",
       "      <td>7.2</td>\n",
       "    </tr>\n",
       "    <tr>\n",
       "      <th>2</th>\n",
       "      <td>2007.0</td>\n",
       "      <td>Developing</td>\n",
       "      <td>73.4</td>\n",
       "      <td>165.0</td>\n",
       "      <td>9.0</td>\n",
       "      <td>8.70</td>\n",
       "      <td>0.000000</td>\n",
       "      <td>62.0</td>\n",
       "      <td>32</td>\n",
       "      <td>57.6</td>\n",
       "      <td>...</td>\n",
       "      <td>67.0</td>\n",
       "      <td>5.25</td>\n",
       "      <td>62.0</td>\n",
       "      <td>0.1</td>\n",
       "      <td>NaN</td>\n",
       "      <td>NaN</td>\n",
       "      <td>1.6</td>\n",
       "      <td>1.5</td>\n",
       "      <td>0.728</td>\n",
       "      <td>12.9</td>\n",
       "    </tr>\n",
       "    <tr>\n",
       "      <th>3</th>\n",
       "      <td>2013.0</td>\n",
       "      <td>Developing</td>\n",
       "      <td>74.3</td>\n",
       "      <td>89.0</td>\n",
       "      <td>8.0</td>\n",
       "      <td>0.09</td>\n",
       "      <td>2047.113102</td>\n",
       "      <td>98.0</td>\n",
       "      <td>1164</td>\n",
       "      <td>66.4</td>\n",
       "      <td>...</td>\n",
       "      <td>NaN</td>\n",
       "      <td>4.25</td>\n",
       "      <td>98.0</td>\n",
       "      <td>0.1</td>\n",
       "      <td>24934.386140</td>\n",
       "      <td>NaN</td>\n",
       "      <td>7.6</td>\n",
       "      <td>7.5</td>\n",
       "      <td>0.830</td>\n",
       "      <td>15.2</td>\n",
       "    </tr>\n",
       "    <tr>\n",
       "      <th>4</th>\n",
       "      <td>2011.0</td>\n",
       "      <td>Developed</td>\n",
       "      <td>74.3</td>\n",
       "      <td>139.0</td>\n",
       "      <td>2.0</td>\n",
       "      <td>9.10</td>\n",
       "      <td>10.325889</td>\n",
       "      <td>96.0</td>\n",
       "      <td>4189</td>\n",
       "      <td>57.7</td>\n",
       "      <td>...</td>\n",
       "      <td>89.0</td>\n",
       "      <td>5.53</td>\n",
       "      <td>89.0</td>\n",
       "      <td>0.1</td>\n",
       "      <td>92.277825</td>\n",
       "      <td>2147528.0</td>\n",
       "      <td>2.9</td>\n",
       "      <td>3.1</td>\n",
       "      <td>0.798</td>\n",
       "      <td>15.7</td>\n",
       "    </tr>\n",
       "  </tbody>\n",
       "</table>\n",
       "<p>5 rows × 21 columns</p>\n",
       "</div>"
      ],
      "text/plain": [
       "     Year      Status  Life expectancy  Adult Mortality  infant deaths  \\\n",
       "0  2011.0   Developed             73.7            144.0            1.0   \n",
       "1  2008.0  Developing             61.4            217.0            8.0   \n",
       "2  2007.0  Developing             73.4            165.0            9.0   \n",
       "3  2013.0  Developing             74.3             89.0            8.0   \n",
       "4  2011.0   Developed             74.3            139.0            2.0   \n",
       "\n",
       "   Alcohol  percentage expenditure  Hepatitis B  Measles   BMI  ...  Polio  \\\n",
       "0    10.67              875.149519         96.0      157  63.3  ...   95.0   \n",
       "1     0.02               61.762638         74.0        4  26.1  ...   73.0   \n",
       "2     8.70                0.000000         62.0       32  57.6  ...   67.0   \n",
       "3     0.09             2047.113102         98.0     1164  66.4  ...    NaN   \n",
       "4     9.10               10.325889         96.0     4189  57.7  ...   89.0   \n",
       "\n",
       "   Total expenditure  Diphtheria  HIV/AIDS           GDP  Population  \\\n",
       "0               6.88        95.0       0.1   7813.834990   7348328.0   \n",
       "1               3.23        74.0       1.3   1167.535689    347541.0   \n",
       "2               5.25        62.0       0.1           NaN         NaN   \n",
       "3               4.25        98.0       0.1  24934.386140         NaN   \n",
       "4               5.53        89.0       0.1     92.277825   2147528.0   \n",
       "\n",
       "   thinness  1-19 years  thinness 5-9 years  Income composition of resources  \\\n",
       "0                   2.0                 2.0                            0.775   \n",
       "1                   9.2                 8.9                            0.475   \n",
       "2                   1.6                 1.5                            0.728   \n",
       "3                   7.6                 7.5                            0.830   \n",
       "4                   2.9                 3.1                            0.798   \n",
       "\n",
       "   Schooling  \n",
       "0       14.2  \n",
       "1        7.2  \n",
       "2       12.9  \n",
       "3       15.2  \n",
       "4       15.7  \n",
       "\n",
       "[5 rows x 21 columns]"
      ]
     },
     "execution_count": 7,
     "metadata": {},
     "output_type": "execute_result"
    }
   ],
   "source": [
    "#reading the first five rows in the dataset\n",
    "df_life.head()"
   ]
  },
  {
   "cell_type": "code",
   "execution_count": 8,
   "metadata": {},
   "outputs": [
    {
     "data": {
      "text/plain": [
       "Year                                 1\n",
       "Status                               2\n",
       "Life expectancy                      8\n",
       "Adult Mortality                     11\n",
       "infant deaths                        1\n",
       "Alcohol                            102\n",
       "percentage expenditure               2\n",
       "Hepatitis B                        306\n",
       "Measles                              0\n",
       "BMI                                 21\n",
       "under-five deaths                    0\n",
       "Polio                               14\n",
       "Total expenditure                  120\n",
       "Diphtheria                          12\n",
       "HIV/AIDS                             2\n",
       "GDP                                231\n",
       "Population                         338\n",
       "thinness  1-19 years                20\n",
       "thinness 5-9 years                  20\n",
       "Income composition of resources     87\n",
       "Schooling                           86\n",
       "dtype: int64"
      ]
     },
     "execution_count": 8,
     "metadata": {},
     "output_type": "execute_result"
    }
   ],
   "source": [
    "#sum of null by column\n",
    "df_life.isna().sum()"
   ]
  },
  {
   "cell_type": "markdown",
   "metadata": {},
   "source": [
    "<b>Handle Null</b>\n",
    "To handle the null, we choose to impute the mean value of the numeric columns and for categorical variables we have imputed the value with most count"
   ]
  },
  {
   "cell_type": "code",
   "execution_count": 9,
   "metadata": {},
   "outputs": [],
   "source": [
    "# Replacing null values with mean of the column values\n",
    "df_life['Life expectancy'].fillna(df_life['Life expectancy'].mean(), inplace=True)\n",
    "df_life['Adult Mortality'].fillna(df_life['Adult Mortality'].mean(), inplace=True)\n",
    "df_life['Alcohol'].fillna(df_life['Alcohol'].mean(), inplace=True)\n",
    "df_life['Hepatitis B'].fillna(df_life['Hepatitis B'].mean(), inplace=True)\n",
    "df_life['BMI'].fillna(df_life['BMI'].mean(), inplace=True)\n",
    "df_life['Polio'].fillna(df_life['Polio'].mean(), inplace=True)\n",
    "df_life['Total expenditure'].fillna(df_life['Total expenditure'].mean(), inplace=True)\n",
    "df_life['Diphtheria'].fillna(df_life['Diphtheria'].mean(), inplace=True)\n",
    "df_life['GDP'].fillna(df_life['GDP'].mean(), inplace=True)\n",
    "df_life['Population'].fillna(df_life['Population'].mean(), inplace=True)\n",
    "df_life['infant deaths'].fillna(df_life['infant deaths'].mean(), inplace=True)\n",
    "df_life['percentage expenditure'].fillna(df_life['percentage expenditure'].mean(), inplace=True)\n",
    "df_life['HIV/AIDS'].fillna(df_life['BMI'].mean(), inplace=True)\n",
    "\n",
    "df_life['thinness  1-19 years'].fillna(df_life['thinness  1-19 years'].mean(), inplace=True)\n",
    "df_life['thinness 5-9 years'].fillna(df_life['thinness 5-9 years'].mean(), inplace=True)\n",
    "df_life['Income composition of resources'].fillna(df_life['Income composition of resources'].mean(), inplace=True)\n",
    "df_life['Schooling'].fillna(df_life['Schooling'].mean(), inplace=True)\n",
    "df_life['Year'].fillna(df_life['Year'].value_counts().index[0], inplace=True)\n",
    "df_life['Status'].fillna(df_life['Status'].value_counts().index[0], inplace=True)"
   ]
  },
  {
   "cell_type": "code",
   "execution_count": 10,
   "metadata": {},
   "outputs": [
    {
     "data": {
      "text/plain": [
       "Year                               0\n",
       "Status                             0\n",
       "Life expectancy                    0\n",
       "Adult Mortality                    0\n",
       "infant deaths                      0\n",
       "Alcohol                            0\n",
       "percentage expenditure             0\n",
       "Hepatitis B                        0\n",
       "Measles                            0\n",
       "BMI                                0\n",
       "under-five deaths                  0\n",
       "Polio                              0\n",
       "Total expenditure                  0\n",
       "Diphtheria                         0\n",
       "HIV/AIDS                           0\n",
       "GDP                                0\n",
       "Population                         0\n",
       "thinness  1-19 years               0\n",
       "thinness 5-9 years                 0\n",
       "Income composition of resources    0\n",
       "Schooling                          0\n",
       "dtype: int64"
      ]
     },
     "execution_count": 10,
     "metadata": {},
     "output_type": "execute_result"
    }
   ],
   "source": [
    "#checking for nulls in each column\n",
    "df_life.isna().sum()"
   ]
  },
  {
   "cell_type": "markdown",
   "metadata": {},
   "source": [
    "### Data Visualisation"
   ]
  },
  {
   "cell_type": "markdown",
   "metadata": {},
   "source": [
    "We check the spread of the target variable Life expectancy."
   ]
  },
  {
   "cell_type": "markdown",
   "metadata": {},
   "source": [
    "The developed countries more life expectancy than developing countries"
   ]
  },
  {
   "cell_type": "code",
   "execution_count": 11,
   "metadata": {},
   "outputs": [
    {
     "data": {
      "image/png": "[encoded data removed]",
      "text/plain": [
       "<Figure size 432x288 with 1 Axes>"
      ]
     },
     "metadata": {
      "needs_background": "light"
     },
     "output_type": "display_data"
    }
   ],
   "source": [
    "#life expectancy in Developed and Developing countries\n",
    "#plt.figure(figsize=(16, 6))\n",
    "plot2=sns.barplot(data=df_life,x='Status',y='Life expectancy',color='Pink',ci=None)\n",
    "plot2.set(xlabel=\"Country status\", ylabel=\"Life expectancy\")\n",
    "plt.show()"
   ]
  },
  {
   "cell_type": "markdown",
   "metadata": {},
   "source": [
    "Over years the life expectancy has been gradually growing "
   ]
  },
  {
   "cell_type": "code",
   "execution_count": 12,
   "metadata": {},
   "outputs": [
    {
     "data": {
      "image/png": "[encoded data removed]",
      "text/plain": [
       "<Figure size 432x288 with 1 Axes>"
      ]
     },
     "metadata": {
      "needs_background": "light"
     },
     "output_type": "display_data"
    }
   ],
   "source": [
    "#life expectancy over the years\n",
    "#plt.figure(figsize=(16, 6))\n",
    "plot2=sns.lineplot(data=df_life,x='Year',y='Life expectancy',hue='Status',marker='o',ci=None)\n",
    "plot2.set(xlabel=\"Years\", ylabel=\"Life expectancy\")\n",
    "plt.show()"
   ]
  },
  {
   "cell_type": "markdown",
   "metadata": {},
   "source": [
    "Mortality rates of the developed countries are lesser  while in developing countries its dispersed\n",
    "The expenditure on fealth is more for developed countries"
   ]
  },
  {
   "cell_type": "code",
   "execution_count": 13,
   "metadata": {},
   "outputs": [
    {
     "data": {
      "image/png": "[encoded data removed]",
      "text/plain": [
       "<Figure size 1440x432 with 1 Axes>"
      ]
     },
     "metadata": {
      "needs_background": "light"
     },
     "output_type": "display_data"
    }
   ],
   "source": [
    "#PLotting the scatterplot to depict relationship between Adult Mortality and Percentage Expenditure on Health\n",
    "plt.figure(figsize=(20, 6))\n",
    "plot2=sns.scatterplot(data=df_life,x='Adult Mortality',y='percentage expenditure',hue='Status',color='Pink')#,order=[0,1]\n",
    "plot2.set(xlabel=\"Adult Mortality\", ylabel=\"Percentage Expenditure on Health\")\n",
    "plt.show()"
   ]
  },
  {
   "cell_type": "markdown",
   "metadata": {},
   "source": [
    "Immunisations for various diseases in both status of countries.  We can see that the developed countries are more immunised"
   ]
  },
  {
   "cell_type": "code",
   "execution_count": 14,
   "metadata": {},
   "outputs": [
    {
     "data": {
      "image/png": "[encoded data removed]",
      "text/plain": [
       "<Figure size 1440x504 with 3 Axes>"
      ]
     },
     "metadata": {
      "needs_background": "light"
     },
     "output_type": "display_data"
    }
   ],
   "source": [
    "#Plotting the number of different immunizations given in developing and developed countries\n",
    "fig, ax =plt.subplots(1,3,figsize=(20, 7),sharex=True)\n",
    "sns.despine(left=True)\n",
    "sns.stripplot(data=df_life,x='Hepatitis B',y='Status', ax=ax[0],color='Pink')\n",
    "sns.stripplot(data=df_life,x='Polio',y='Status', ax=ax[1],color='Yellow')\n",
    "sns.stripplot(data=df_life,x='Diphtheria',y='Status',ax=ax[2],color='Green')\n",
    "plt.show()"
   ]
  },
  {
   "cell_type": "markdown",
   "metadata": {},
   "source": [
    "Mortality rates are spread across  all BMI counts for developing countries"
   ]
  },
  {
   "cell_type": "code",
   "execution_count": 15,
   "metadata": {},
   "outputs": [
    {
     "data": {
      "image/png": "[encoded data removed]",
      "text/plain": [
       "<Figure size 1440x432 with 1 Axes>"
      ]
     },
     "metadata": {
      "needs_background": "light"
     },
     "output_type": "display_data"
    }
   ],
   "source": [
    "#PLotting the scatterplot of BMI and Adult Mortality\n",
    "plt.figure(figsize=(20, 6))\n",
    "plot2=sns.scatterplot(data=df_life,x='BMI',y='Adult Mortality',hue='Status',color='Pink')#,order=[0,1]\n",
    "plot2.set(xlabel=\"BMI\", ylabel=\"Adult Mortality\")\n",
    "plt.show()"
   ]
  },
  {
   "cell_type": "markdown",
   "metadata": {},
   "source": [
    "Distribution of various variables"
   ]
  },
  {
   "cell_type": "code",
   "execution_count": 16,
   "metadata": {},
   "outputs": [
    {
     "data": {
      "text/plain": [
       "array([[<matplotlib.axes._subplots.AxesSubplot object at 0x00000252E7864108>,\n",
       "        <matplotlib.axes._subplots.AxesSubplot object at 0x00000252E7961888>,\n",
       "        <matplotlib.axes._subplots.AxesSubplot object at 0x00000252E799C0C8>,\n",
       "        <matplotlib.axes._subplots.AxesSubplot object at 0x00000252E79D1B88>],\n",
       "       [<matplotlib.axes._subplots.AxesSubplot object at 0x00000252E7C39CC8>,\n",
       "        <matplotlib.axes._subplots.AxesSubplot object at 0x00000252E7C73D48>,\n",
       "        <matplotlib.axes._subplots.AxesSubplot object at 0x00000252E7CABE48>,\n",
       "        <matplotlib.axes._subplots.AxesSubplot object at 0x00000252E7CE2F88>],\n",
       "       [<matplotlib.axes._subplots.AxesSubplot object at 0x00000252E7CEEB88>,\n",
       "        <matplotlib.axes._subplots.AxesSubplot object at 0x00000252E7D25D48>,\n",
       "        <matplotlib.axes._subplots.AxesSubplot object at 0x00000252E7D92288>,\n",
       "        <matplotlib.axes._subplots.AxesSubplot object at 0x00000252E7DCB388>],\n",
       "       [<matplotlib.axes._subplots.AxesSubplot object at 0x00000252E7E04488>,\n",
       "        <matplotlib.axes._subplots.AxesSubplot object at 0x00000252E7E3C5C8>,\n",
       "        <matplotlib.axes._subplots.AxesSubplot object at 0x00000252E7E756C8>,\n",
       "        <matplotlib.axes._subplots.AxesSubplot object at 0x00000252E7EAD788>],\n",
       "       [<matplotlib.axes._subplots.AxesSubplot object at 0x00000252E7748E48>,\n",
       "        <matplotlib.axes._subplots.AxesSubplot object at 0x00000252E76BE248>,\n",
       "        <matplotlib.axes._subplots.AxesSubplot object at 0x00000252E766AB88>,\n",
       "        <matplotlib.axes._subplots.AxesSubplot object at 0x00000252E6D07348>]],\n",
       "      dtype=object)"
      ]
     },
     "execution_count": 16,
     "metadata": {},
     "output_type": "execute_result"
    },
    {
     "data": {
      "image/png": "[encoded data removed]",
      "text/plain": [
       "<Figure size 1152x1440 with 20 Axes>"
      ]
     },
     "metadata": {
      "needs_background": "light"
     },
     "output_type": "display_data"
    }
   ],
   "source": [
    "#Further exploration using histogram to check the distributions - EDA\n",
    "df_life.hist(figsize=(16, 20), bins=50, xlabelsize=8, ylabelsize=8)"
   ]
  },
  {
   "cell_type": "markdown",
   "metadata": {},
   "source": [
    "### Handle categorical variables"
   ]
  },
  {
   "cell_type": "markdown",
   "metadata": {},
   "source": [
    "The categorical variables need to be converted to dummy variables which add more columns. Categorical variables will be represented as 0 or 1 in the columns "
   ]
  },
  {
   "cell_type": "code",
   "execution_count": 17,
   "metadata": {},
   "outputs": [],
   "source": [
    "# creating dummy variables for the Status variable\n",
    "cols = pd.get_dummies(df_life['Status'], prefix= 'Status')\n",
    "df_life[cols.columns] = cols\n",
    "df_life.drop('Status', axis = 1, inplace = True)\n"
   ]
  },
  {
   "cell_type": "code",
   "execution_count": 18,
   "metadata": {},
   "outputs": [],
   "source": [
    "# creating dummy variables for the Year variable\n",
    "cols = pd.get_dummies(df_life['Year'], prefix= 'Year')\n",
    "df_life[cols.columns] = cols\n",
    "df_life.drop('Year', axis = 1, inplace = True)\n"
   ]
  },
  {
   "cell_type": "code",
   "execution_count": 19,
   "metadata": {},
   "outputs": [
    {
     "data": {
      "text/plain": [
       "(1535, 37)"
      ]
     },
     "execution_count": 19,
     "metadata": {},
     "output_type": "execute_result"
    }
   ],
   "source": [
    "#the shape of the df now changes because of addition of dummy variables\n",
    "df_life.shape"
   ]
  },
  {
   "cell_type": "code",
   "execution_count": 20,
   "metadata": {},
   "outputs": [
    {
     "name": "stdout",
     "output_type": "stream",
     "text": [
      "Life expectancy\n",
      "Adult Mortality\n",
      "infant deaths\n",
      "Alcohol\n",
      "percentage expenditure\n",
      "Hepatitis B\n",
      "Measles\n",
      "BMI\n",
      "under-five deaths\n",
      "Polio\n",
      "Total expenditure\n",
      "Diphtheria\n",
      "HIV/AIDS\n",
      "GDP\n",
      "Population\n",
      "thinness  1-19 years\n",
      "thinness 5-9 years\n",
      "Income composition of resources\n",
      "Schooling\n",
      "Status_Developed\n",
      "Status_Developing\n",
      "Year_2000.0\n",
      "Year_2001.0\n",
      "Year_2002.0\n",
      "Year_2003.0\n",
      "Year_2004.0\n",
      "Year_2005.0\n",
      "Year_2006.0\n",
      "Year_2007.0\n",
      "Year_2008.0\n",
      "Year_2009.0\n",
      "Year_2010.0\n",
      "Year_2011.0\n",
      "Year_2012.0\n",
      "Year_2013.0\n",
      "Year_2014.0\n",
      "Year_2015.0\n"
     ]
    }
   ],
   "source": [
    "#Checking the final list of columns\n",
    "for col in df_life.columns: \n",
    "    print(col) "
   ]
  },
  {
   "cell_type": "markdown",
   "metadata": {},
   "source": [
    "### Train and Test Split"
   ]
  },
  {
   "cell_type": "markdown",
   "metadata": {},
   "source": [
    "The test and train split is done with default of 0.25"
   ]
  },
  {
   "cell_type": "code",
   "execution_count": 21,
   "metadata": {},
   "outputs": [],
   "source": [
    "#assigning life expectancy as target column\n",
    "X = df_life.drop('Life expectancy',axis=1).values\n",
    "y=df_life['Life expectancy'].values"
   ]
  },
  {
   "cell_type": "code",
   "execution_count": 22,
   "metadata": {},
   "outputs": [
    {
     "data": {
      "text/plain": [
       "array([[1.440e+02, 1.000e+00, 1.067e+01, ..., 0.000e+00, 0.000e+00,\n",
       "        0.000e+00],\n",
       "       [2.170e+02, 8.000e+00, 2.000e-02, ..., 0.000e+00, 0.000e+00,\n",
       "        0.000e+00],\n",
       "       [1.650e+02, 9.000e+00, 8.700e+00, ..., 0.000e+00, 0.000e+00,\n",
       "        0.000e+00],\n",
       "       ...,\n",
       "       [7.300e+01, 0.000e+00, 7.530e+00, ..., 0.000e+00, 1.000e+00,\n",
       "        0.000e+00],\n",
       "       [2.500e+01, 1.000e+00, 5.800e+00, ..., 0.000e+00, 0.000e+00,\n",
       "        0.000e+00],\n",
       "       [1.400e+01, 1.000e+00, 4.170e+00, ..., 0.000e+00, 0.000e+00,\n",
       "        0.000e+00]])"
      ]
     },
     "execution_count": 22,
     "metadata": {},
     "output_type": "execute_result"
    }
   ],
   "source": [
    "#just checking the predictor variables\n",
    "X"
   ]
  },
  {
   "cell_type": "code",
   "execution_count": 23,
   "metadata": {},
   "outputs": [
    {
     "data": {
      "text/plain": [
       "array([73.7, 61.4, 73.4, ..., 88. , 66.3, 78. ])"
      ]
     },
     "execution_count": 23,
     "metadata": {},
     "output_type": "execute_result"
    }
   ],
   "source": [
    "#checking the target variable\n",
    "y"
   ]
  },
  {
   "cell_type": "code",
   "execution_count": 24,
   "metadata": {},
   "outputs": [],
   "source": [
    "#creating the formal X and y split\n",
    "X_train_org,X_test_org,y_train,y_test= train_test_split(X,y, random_state=0)"
   ]
  },
  {
   "cell_type": "code",
   "execution_count": 25,
   "metadata": {},
   "outputs": [
    {
     "data": {
      "text/plain": [
       "Life expectancy                    0\n",
       "Adult Mortality                    0\n",
       "infant deaths                      0\n",
       "Alcohol                            0\n",
       "percentage expenditure             0\n",
       "Hepatitis B                        0\n",
       "Measles                            0\n",
       "BMI                                0\n",
       "under-five deaths                  0\n",
       "Polio                              0\n",
       "Total expenditure                  0\n",
       "Diphtheria                         0\n",
       "HIV/AIDS                           0\n",
       "GDP                                0\n",
       "Population                         0\n",
       "thinness  1-19 years               0\n",
       "thinness 5-9 years                 0\n",
       "Income composition of resources    0\n",
       "Schooling                          0\n",
       "Status_Developed                   0\n",
       "Status_Developing                  0\n",
       "Year_2000.0                        0\n",
       "Year_2001.0                        0\n",
       "Year_2002.0                        0\n",
       "Year_2003.0                        0\n",
       "Year_2004.0                        0\n",
       "Year_2005.0                        0\n",
       "Year_2006.0                        0\n",
       "Year_2007.0                        0\n",
       "Year_2008.0                        0\n",
       "Year_2009.0                        0\n",
       "Year_2010.0                        0\n",
       "Year_2011.0                        0\n",
       "Year_2012.0                        0\n",
       "Year_2013.0                        0\n",
       "Year_2014.0                        0\n",
       "Year_2015.0                        0\n",
       "dtype: int64"
      ]
     },
     "execution_count": 25,
     "metadata": {},
     "output_type": "execute_result"
    }
   ],
   "source": [
    "df_life.isna().sum()"
   ]
  },
  {
   "cell_type": "markdown",
   "metadata": {},
   "source": [
    "### Scaling\n",
    "Scaling is done with MinMax scaler which scales the data with respect to the minimum and maximum values, this is better than the standard scaler which will mostly incline towards the mean of the data."
   ]
  },
  {
   "cell_type": "code",
   "execution_count": 26,
   "metadata": {},
   "outputs": [],
   "source": [
    "#scaling and transform of X_train and X_test\n",
    "scaler= MinMaxScaler()\n",
    "scaler.fit(X_train_org)\n",
    "X_train= scaler.transform(X_train_org)\n",
    "X_test= scaler.transform(X_test_org)\n",
    "\n",
    "\n",
    "#Scores\n",
    "train_score=[]\n",
    "test_score=[]"
   ]
  },
  {
   "cell_type": "markdown",
   "metadata": {},
   "source": [
    "### REGRESSION MODELS"
   ]
  },
  {
   "cell_type": "markdown",
   "metadata": {},
   "source": [
    "### K Nearest Neighbors"
   ]
  },
  {
   "cell_type": "markdown",
   "metadata": {},
   "source": [
    "The KNN model is run on the dataframe with checking for neighbours upto 10 to find a suitable neighbour to run.\n",
    "N=1 provides a overfitting model in training but will not do well in test. While a large nighbour will smoothen the classification boundary"
   ]
  },
  {
   "cell_type": "code",
   "execution_count": 27,
   "metadata": {},
   "outputs": [
    {
     "name": "stdout",
     "output_type": "stream",
     "text": [
      "Training score: 0.8479717810493225\n",
      "Best cross-validation score: 0.6959601407471275\n",
      "Best parameters: {'n_neighbors': 4}\n"
     ]
    }
   ],
   "source": [
    "#running K Neighbors Regressor for variety of neighbors\n",
    "from sklearn.model_selection import GridSearchCV\n",
    "from sklearn.neighbors import KNeighborsRegressor\n",
    "param_grid5 = {'n_neighbors': [1,2,3,4,5,6,7] }\n",
    "kn=GridSearchCV(KNeighborsRegressor(),param_grid5, cv=3,return_train_score=True)\n",
    "kn.fit(X_train,y_train)\n",
    "train=kn.cv_results_['mean_train_score']\n",
    "print(\"Training score: {}\".format(train.mean()))\n",
    "print(\"Best cross-validation score: {}\".format(kn.best_score_))\n",
    "print(\"Best parameters: {}\".format(kn.best_params_))\n",
    "\n"
   ]
  },
  {
   "cell_type": "markdown",
   "metadata": {},
   "source": [
    "Upon checking best fit for KNN neighbours we use 4 as the best neighbour number"
   ]
  },
  {
   "cell_type": "code",
   "execution_count": 28,
   "metadata": {},
   "outputs": [
    {
     "name": "stdout",
     "output_type": "stream",
     "text": [
      "train_score for KNeigbors Regressor: 0.8406676296678313\n",
      "test_score for KNeigbors Regressor: 0.7362000512387651\n"
     ]
    }
   ],
   "source": [
    "#General Model and we are fitting the 4 neigbors as best from the above run\n",
    "knn=KNeighborsRegressor(n_neighbors=4)\n",
    "knn_model=knn.fit(X_train,y_train)\n",
    "\n",
    "print(\"train_score for KNeigbors Regressor:\",knn_model.score(X_train,y_train))\n",
    "print(\"test_score for KNeigbors Regressor:\", knn_model.score(X_test,y_test))"
   ]
  },
  {
   "cell_type": "code",
   "execution_count": 29,
   "metadata": {},
   "outputs": [
    {
     "name": "stdout",
     "output_type": "stream",
     "text": [
      "Accuracy: 71.71 %\n"
     ]
    }
   ],
   "source": [
    "#calculating the accuracies\n",
    "from sklearn.model_selection import cross_val_score\n",
    "\n",
    "knn_accuracies = cross_val_score(estimator = knn_model, X = X_train, y = y_train, cv = 10)\n",
    "print(\"Accuracy: {:.2f} %\".format(knn_accuracies.mean()*100))"
   ]
  },
  {
   "cell_type": "markdown",
   "metadata": {},
   "source": [
    "### Linear Regression"
   ]
  },
  {
   "cell_type": "markdown",
   "metadata": {},
   "source": [
    "Linear regression is used to predict a linear equation which can be used to predict with the error margin less"
   ]
  },
  {
   "cell_type": "code",
   "execution_count": 30,
   "metadata": {},
   "outputs": [
    {
     "name": "stdout",
     "output_type": "stream",
     "text": [
      "train_score for Linear Regression: 0.8141305971695001\n",
      "test_score: for Linear Regression 0.8049653723725213\n"
     ]
    }
   ],
   "source": [
    "#Since this model has no scaling parameter, we directly apply grid search\n",
    "\n",
    "lreg = LinearRegression()\n",
    "\n",
    "#Scaled train test\n",
    "l_model=lreg.fit(X_train, y_train)\n",
    "train_linear=round(l_model.score(X_train, y_train),2)\n",
    "test_linear=round(l_model.score(X_test, y_test),2)\n",
    "\n",
    "\n",
    "print(\"train_score for Linear Regression:\",l_model.score(X_train, y_train))\n",
    "print(\"test_score: for Linear Regression\", l_model.score(X_test, y_test))"
   ]
  },
  {
   "cell_type": "code",
   "execution_count": 31,
   "metadata": {},
   "outputs": [
    {
     "name": "stdout",
     "output_type": "stream",
     "text": [
      "Accuracy: 79.63 %\n"
     ]
    }
   ],
   "source": [
    "#calculating the accuracies\n",
    "lg_accuracies = cross_val_score(estimator = l_model, X = X_train, y = y_train, cv = 10)\n",
    "print(\"Accuracy: {:.2f} %\".format(lg_accuracies.mean()*100))"
   ]
  },
  {
   "cell_type": "markdown",
   "metadata": {},
   "source": [
    "### Ridge Regression\n",
    "Alpha is introduced to penalise the coefficients "
   ]
  },
  {
   "cell_type": "code",
   "execution_count": 32,
   "metadata": {},
   "outputs": [
    {
     "name": "stdout",
     "output_type": "stream",
     "text": [
      "{'alpha': 0.01}\n",
      "validation score:  0.7971327090229876\n"
     ]
    }
   ],
   "source": [
    "#running Ridge Regression on the dataset\n",
    "np.random.seed(0)\n",
    "x_range_2 = [0.01, 0.1, 1, 10, 100]\n",
    "tuned_parameters = [{'alpha':x_range_2}]\n",
    "\n",
    "#Grid model\n",
    "ridge = Ridge(max_iter=1000,tol=0.1,random_state=0)\n",
    "grid_ridge=GridSearchCV(ridge,tuned_parameters,cv=5, return_train_score= True)\n",
    "grid_model_ridge=grid_ridge.fit(X_train,y_train)\n",
    "\n",
    "print(grid_model_ridge.best_params_)\n",
    "print('validation score: ', grid_model_ridge.best_score_)"
   ]
  },
  {
   "cell_type": "code",
   "execution_count": 33,
   "metadata": {},
   "outputs": [
    {
     "name": "stdout",
     "output_type": "stream",
     "text": [
      "train_score for ridge regression: 0.8130718162553723\n",
      "test_score for ridge regression: 0.8051285517009011\n"
     ]
    }
   ],
   "source": [
    "#General model based on the alpha condition populated above\n",
    "ridge_1=Ridge(alpha=0.01)\n",
    "ridge_model=ridge_1.fit(X_train,y_train)\n",
    "\n",
    "print(\"train_score for ridge regression:\",ridge_model.score(X_train,y_train))\n",
    "print(\"test_score for ridge regression:\",ridge_model.score(X_test,y_test))"
   ]
  },
  {
   "cell_type": "code",
   "execution_count": 34,
   "metadata": {},
   "outputs": [
    {
     "name": "stdout",
     "output_type": "stream",
     "text": [
      "Accuracy: 79.52 %\n"
     ]
    }
   ],
   "source": [
    "#calculating the accuracies\n",
    "rg_accuracies = cross_val_score(estimator = ridge_model, X = X_train, y = y_train, cv = 10)\n",
    "print(\"Accuracy: {:.2f} %\".format(rg_accuracies.mean()*100))"
   ]
  },
  {
   "cell_type": "markdown",
   "metadata": {},
   "source": [
    "### Lasso Regression\n",
    "The lasso regression run with different alpha parameters to check the best"
   ]
  },
  {
   "cell_type": "code",
   "execution_count": 35,
   "metadata": {},
   "outputs": [
    {
     "name": "stdout",
     "output_type": "stream",
     "text": [
      "{'alpha': 0.01}\n",
      "validation score:  0.7869084091191033\n"
     ]
    }
   ],
   "source": [
    "#running Lasso Regression on the dataset\n",
    "np.random.seed(0)    \n",
    "x_range_3 = [0.01, 0.1, 1, 10]\n",
    "tuned_parameters = [{'alpha':x_range_3}]\n",
    "\n",
    "#Grid model\n",
    "lasso = Lasso(max_iter=1000,tol=0.1,random_state=0)\n",
    "grid_lasso=GridSearchCV(lasso,tuned_parameters,cv=5, return_train_score= True)\n",
    "grid_model_lasso=grid_lasso.fit(X_train,y_train)\n",
    "\n",
    "print(grid_model_lasso.best_params_)\n",
    "print('validation score: ', grid_model_lasso.best_score_)"
   ]
  },
  {
   "cell_type": "code",
   "execution_count": 36,
   "metadata": {},
   "outputs": [
    {
     "name": "stdout",
     "output_type": "stream",
     "text": [
      "train_score for Lasso Regression: 0.8048581932948329\n",
      "test_score for Lasso Regression: 0.8060485256129097\n"
     ]
    }
   ],
   "source": [
    "#General model based on the alpha condition populated above\n",
    "lasso_1=Lasso(alpha=0.01, tol=0.01)\n",
    "lasso_model=lasso_1.fit(X_train,y_train)\n",
    "train_score.append(lasso_model.score(X_train,y_train))\n",
    "test_score.append(lasso_model.score(X_test,y_test))\n",
    "\n",
    "test=round(lasso_model.score(X_test,y_test),2)\n",
    "\n",
    "print(\"train_score for Lasso Regression:\",lasso_model.score(X_train,y_train))\n",
    "print(\"test_score for Lasso Regression:\",lasso_model.score(X_test,y_test))"
   ]
  },
  {
   "cell_type": "code",
   "execution_count": 37,
   "metadata": {},
   "outputs": [
    {
     "name": "stdout",
     "output_type": "stream",
     "text": [
      "Accuracy: 78.88 %\n"
     ]
    }
   ],
   "source": [
    "#calculating the accuracies\n",
    "lasg_accuracies = cross_val_score(estimator = lasso_model, X = X_train, y = y_train, cv = 10)\n",
    "print(\"Accuracy: {:.2f} %\".format(lasg_accuracies.mean()*100))"
   ]
  },
  {
   "cell_type": "markdown",
   "metadata": {},
   "source": [
    "### Polynomial Regression"
   ]
  },
  {
   "cell_type": "markdown",
   "metadata": {},
   "source": [
    "The polynomial regression is used to provide a curve to fit the data point instead of line"
   ]
  },
  {
   "cell_type": "code",
   "execution_count": 38,
   "metadata": {},
   "outputs": [],
   "source": [
    "#running Polynomial Regression on the dataset\n",
    "\n",
    "from sklearn.preprocessing import PolynomialFeatures\n",
    "from sklearn.pipeline import make_pipeline\n",
    "pipe = make_pipeline(\n",
    "    StandardScaler(),\n",
    "  PolynomialFeatures(),\n",
    "    Ridge())\n",
    "param_grid = {'polynomialfeatures__degree': [2, 3],\n",
    "              'ridge__alpha': [0.001, 0.01, 0.1, 1, 10, 100]}"
   ]
  },
  {
   "cell_type": "code",
   "execution_count": 39,
   "metadata": {},
   "outputs": [
    {
     "name": "stdout",
     "output_type": "stream",
     "text": [
      "Best cross-validation score: 0.8126260561143539\n",
      "Best parameters: {'polynomialfeatures__degree': 2, 'ridge__alpha': 100}\n",
      "0.98\n",
      "0.81\n"
     ]
    }
   ],
   "source": [
    "#using gridsearch\n",
    "poly = GridSearchCV(pipe, param_grid=param_grid, cv=3, n_jobs=-1,return_train_score=True)\n",
    "poly.fit(X_train, y_train)\n",
    "train=poly.cv_results_['mean_train_score']\n",
    "print(\"Best cross-validation score: {}\".format(poly.best_score_))\n",
    "print(\"Best parameters: {}\".format(poly.best_params_))\n",
    "\n",
    "poly_train = print(round(train.mean(),2))\n",
    "poly_test = print(round(test.mean(),2))"
   ]
  },
  {
   "cell_type": "markdown",
   "metadata": {},
   "source": [
    "Running with polynomial features of degree 2 this allows for x0, x1 , x2"
   ]
  },
  {
   "cell_type": "code",
   "execution_count": 40,
   "metadata": {},
   "outputs": [
    {
     "name": "stdout",
     "output_type": "stream",
     "text": [
      "Accuracy: 79.63 %\n"
     ]
    }
   ],
   "source": [
    "#calculating the accuracy\n",
    "log=LinearRegression()\n",
    "\n",
    "poly = PolynomialFeatures(degree=2)\n",
    "X_train_poly = poly.fit_transform(X_train)\n",
    "X_test_poly = poly.transform(X_test)\n",
    "log_model=log.fit(X_train_poly, y_train)\n",
    "pg_accuracies = cross_val_score(estimator = log_model, X = X_train, y = y_train, cv = 10)\n",
    "print(\"Accuracy: {:.2f} %\".format(pg_accuracies.mean()*100))"
   ]
  },
  {
   "cell_type": "markdown",
   "metadata": {},
   "source": [
    "### Linear SVM"
   ]
  },
  {
   "cell_type": "code",
   "execution_count": 41,
   "metadata": {},
   "outputs": [],
   "source": [
    "grid_parms_svrl = {'C': [0.01, 0.1, 1, 10, 100], 'epsilon' : [0.01, 0.1, 1, 10, 100]}"
   ]
  },
  {
   "cell_type": "code",
   "execution_count": 42,
   "metadata": {},
   "outputs": [],
   "source": [
    "linearsvr = LinearSVR(max_iter=10000000)\n",
    "grid_svrl = GridSearchCV(estimator = linearsvr,param_grid = grid_parms_svrl,return_train_score=True,n_jobs= -1,cv=10)"
   ]
  },
  {
   "cell_type": "code",
   "execution_count": 43,
   "metadata": {},
   "outputs": [
    {
     "data": {
      "text/plain": [
       "GridSearchCV(cv=10, error_score=nan,\n",
       "             estimator=LinearSVR(C=1.0, dual=True, epsilon=0.0,\n",
       "                                 fit_intercept=True, intercept_scaling=1.0,\n",
       "                                 loss='epsilon_insensitive', max_iter=10000000,\n",
       "                                 random_state=None, tol=0.0001, verbose=0),\n",
       "             iid='deprecated', n_jobs=-1,\n",
       "             param_grid={'C': [0.01, 0.1, 1, 10, 100],\n",
       "                         'epsilon': [0.01, 0.1, 1, 10, 100]},\n",
       "             pre_dispatch='2*n_jobs', refit=True, return_train_score=True,\n",
       "             scoring=None, verbose=0)"
      ]
     },
     "execution_count": 43,
     "metadata": {},
     "output_type": "execute_result"
    }
   ],
   "source": [
    "grid_svrl.fit(X_train,y_train)"
   ]
  },
  {
   "cell_type": "code",
   "execution_count": 44,
   "metadata": {},
   "outputs": [
    {
     "name": "stdout",
     "output_type": "stream",
     "text": [
      "Best parameters: {'C': 100, 'epsilon': 1}\n",
      "Best cross-validation score: 0.7927\n"
     ]
    }
   ],
   "source": [
    "print(\"Best parameters: {}\".format(grid_svrl.best_params_))\n",
    "print(\"Best cross-validation score: {:.4f}\".format(grid_svrl.best_score_))"
   ]
  },
  {
   "cell_type": "code",
   "execution_count": 45,
   "metadata": {},
   "outputs": [
    {
     "name": "stdout",
     "output_type": "stream",
     "text": [
      "0.805215051097228\n",
      "0.8073131635959772\n"
     ]
    }
   ],
   "source": [
    "lsvr = LinearSVR(C = 100, epsilon = 1,max_iter=10000000)\n",
    "        \n",
    "lsvr.fit(X_train, y_train)\n",
    "\n",
    "print(lsvr.score(X_train, y_train))\n",
    "print(lsvr.score(X_test, y_test))"
   ]
  },
  {
   "cell_type": "code",
   "execution_count": 46,
   "metadata": {},
   "outputs": [
    {
     "name": "stdout",
     "output_type": "stream",
     "text": [
      "Cross-validation scores:\n",
      "[0.8165389  0.76845916 0.76050453 0.78944496 0.76002587 0.83386802\n",
      " 0.79932163 0.80845022 0.84508553 0.74503732]\n",
      "0.7927049975739628\n"
     ]
    }
   ],
   "source": [
    "#kfold valiation is done with split 10\n",
    "from sklearn.model_selection import KFold\n",
    "from sklearn.model_selection import cross_val_score\n",
    "\n",
    "  \n",
    "kfold = KFold(n_splits=10)\n",
    "print(\"Cross-validation scores:\\n{}\".format(cross_val_score(lsvr , X_train, y_train, cv=kfold)))\n",
    "scores = cross_val_score(lsvr, X_train, y_train, cv=kfold)\n",
    "print(np.mean(scores))"
   ]
  },
  {
   "cell_type": "code",
   "execution_count": 47,
   "metadata": {},
   "outputs": [
    {
     "name": "stdout",
     "output_type": "stream",
     "text": [
      "Accuracy: 79.13 %\n"
     ]
    }
   ],
   "source": [
    "#calculating the accuracy\n",
    "linsvm_accuracies = cross_val_score(estimator = lsvr, X = X_train, y = y_train, cv = 2)\n",
    "print(\"Accuracy: {:.2f} %\".format(linsvm_accuracies.mean()*100))"
   ]
  },
  {
   "cell_type": "code",
   "execution_count": 48,
   "metadata": {},
   "outputs": [
    {
     "name": "stdout",
     "output_type": "stream",
     "text": [
      "Cross-validation scores:\n",
      "[0.81643091 0.76867957 0.76016899 0.7892932  0.75998655 0.83386353\n",
      " 0.79947078 0.80848704 0.84505269 0.7451443 ]\n",
      "0.7926810688069825\n"
     ]
    }
   ],
   "source": [
    "from sklearn.model_selection import KFold\n",
    "from sklearn.model_selection import cross_val_score\n",
    "\n",
    "  \n",
    "kfold = KFold(n_splits=10)\n",
    "print(\"Cross-validation scores:\\n{}\".format(cross_val_score(lsvr , X_train, y_train, cv=kfold)))\n",
    "scores = cross_val_score(lsvr, X_train, y_train, cv=kfold)\n",
    "print(np.mean(scores))"
   ]
  },
  {
   "cell_type": "code",
   "execution_count": 49,
   "metadata": {},
   "outputs": [
    {
     "data": {
      "text/html": [
       "<div>\n",
       "<style scoped>\n",
       "    .dataframe tbody tr th:only-of-type {\n",
       "        vertical-align: middle;\n",
       "    }\n",
       "\n",
       "    .dataframe tbody tr th {\n",
       "        vertical-align: top;\n",
       "    }\n",
       "\n",
       "    .dataframe thead th {\n",
       "        text-align: right;\n",
       "    }\n",
       "</style>\n",
       "<table border=\"1\" class=\"dataframe\">\n",
       "  <thead>\n",
       "    <tr style=\"text-align: right;\">\n",
       "      <th></th>\n",
       "      <th>mean_fit_time</th>\n",
       "      <th>std_fit_time</th>\n",
       "      <th>mean_score_time</th>\n",
       "      <th>std_score_time</th>\n",
       "      <th>param_C</th>\n",
       "      <th>param_epsilon</th>\n",
       "      <th>params</th>\n",
       "      <th>split0_test_score</th>\n",
       "      <th>split1_test_score</th>\n",
       "      <th>split2_test_score</th>\n",
       "      <th>...</th>\n",
       "      <th>split2_train_score</th>\n",
       "      <th>split3_train_score</th>\n",
       "      <th>split4_train_score</th>\n",
       "      <th>split5_train_score</th>\n",
       "      <th>split6_train_score</th>\n",
       "      <th>split7_train_score</th>\n",
       "      <th>split8_train_score</th>\n",
       "      <th>split9_train_score</th>\n",
       "      <th>mean_train_score</th>\n",
       "      <th>std_train_score</th>\n",
       "    </tr>\n",
       "  </thead>\n",
       "  <tbody>\n",
       "    <tr>\n",
       "      <th>0</th>\n",
       "      <td>0.002593</td>\n",
       "      <td>0.000489</td>\n",
       "      <td>0.001098</td>\n",
       "      <td>0.000300</td>\n",
       "      <td>0.01</td>\n",
       "      <td>0.01</td>\n",
       "      <td>{'C': 0.01, 'epsilon': 0.01}</td>\n",
       "      <td>-4.301743</td>\n",
       "      <td>-3.981407</td>\n",
       "      <td>-3.411643</td>\n",
       "      <td>...</td>\n",
       "      <td>-3.735390</td>\n",
       "      <td>-3.830203</td>\n",
       "      <td>-3.727266</td>\n",
       "      <td>-3.794222</td>\n",
       "      <td>-3.737749</td>\n",
       "      <td>-3.827021</td>\n",
       "      <td>-3.762942</td>\n",
       "      <td>-3.715520</td>\n",
       "      <td>-3.775476</td>\n",
       "      <td>0.043381</td>\n",
       "    </tr>\n",
       "    <tr>\n",
       "      <th>1</th>\n",
       "      <td>0.001924</td>\n",
       "      <td>0.001138</td>\n",
       "      <td>0.000499</td>\n",
       "      <td>0.000499</td>\n",
       "      <td>0.01</td>\n",
       "      <td>0.1</td>\n",
       "      <td>{'C': 0.01, 'epsilon': 0.1}</td>\n",
       "      <td>-4.283300</td>\n",
       "      <td>-3.968050</td>\n",
       "      <td>-3.411643</td>\n",
       "      <td>...</td>\n",
       "      <td>-3.735390</td>\n",
       "      <td>-3.830203</td>\n",
       "      <td>-3.712613</td>\n",
       "      <td>-3.794222</td>\n",
       "      <td>-3.734093</td>\n",
       "      <td>-3.827021</td>\n",
       "      <td>-3.762942</td>\n",
       "      <td>-3.699517</td>\n",
       "      <td>-3.769165</td>\n",
       "      <td>0.045468</td>\n",
       "    </tr>\n",
       "    <tr>\n",
       "      <th>2</th>\n",
       "      <td>0.001562</td>\n",
       "      <td>0.004686</td>\n",
       "      <td>0.000000</td>\n",
       "      <td>0.000000</td>\n",
       "      <td>0.01</td>\n",
       "      <td>1</td>\n",
       "      <td>{'C': 0.01, 'epsilon': 1}</td>\n",
       "      <td>-4.247950</td>\n",
       "      <td>-3.939127</td>\n",
       "      <td>-3.411202</td>\n",
       "      <td>...</td>\n",
       "      <td>-3.734237</td>\n",
       "      <td>-3.863618</td>\n",
       "      <td>-3.690750</td>\n",
       "      <td>-3.793907</td>\n",
       "      <td>-3.699461</td>\n",
       "      <td>-3.826680</td>\n",
       "      <td>-3.751202</td>\n",
       "      <td>-3.704448</td>\n",
       "      <td>-3.760138</td>\n",
       "      <td>0.054331</td>\n",
       "    </tr>\n",
       "    <tr>\n",
       "      <th>3</th>\n",
       "      <td>0.003125</td>\n",
       "      <td>0.006251</td>\n",
       "      <td>0.001563</td>\n",
       "      <td>0.004688</td>\n",
       "      <td>0.01</td>\n",
       "      <td>10</td>\n",
       "      <td>{'C': 0.01, 'epsilon': 10}</td>\n",
       "      <td>-5.132970</td>\n",
       "      <td>-4.708905</td>\n",
       "      <td>-4.152053</td>\n",
       "      <td>...</td>\n",
       "      <td>-4.555747</td>\n",
       "      <td>-4.617328</td>\n",
       "      <td>-4.474899</td>\n",
       "      <td>-4.587319</td>\n",
       "      <td>-4.524664</td>\n",
       "      <td>-4.638368</td>\n",
       "      <td>-4.556243</td>\n",
       "      <td>-4.494120</td>\n",
       "      <td>-4.548652</td>\n",
       "      <td>0.051980</td>\n",
       "    </tr>\n",
       "    <tr>\n",
       "      <th>4</th>\n",
       "      <td>0.000000</td>\n",
       "      <td>0.000000</td>\n",
       "      <td>0.001562</td>\n",
       "      <td>0.004685</td>\n",
       "      <td>0.01</td>\n",
       "      <td>100</td>\n",
       "      <td>{'C': 0.01, 'epsilon': 100}</td>\n",
       "      <td>-61.949839</td>\n",
       "      <td>-54.397029</td>\n",
       "      <td>-48.841274</td>\n",
       "      <td>...</td>\n",
       "      <td>-53.860610</td>\n",
       "      <td>-54.896779</td>\n",
       "      <td>-51.805479</td>\n",
       "      <td>-54.190603</td>\n",
       "      <td>-52.399540</td>\n",
       "      <td>-54.792132</td>\n",
       "      <td>-53.288060</td>\n",
       "      <td>-52.317455</td>\n",
       "      <td>-53.328274</td>\n",
       "      <td>1.025613</td>\n",
       "    </tr>\n",
       "    <tr>\n",
       "      <th>5</th>\n",
       "      <td>0.003124</td>\n",
       "      <td>0.006248</td>\n",
       "      <td>0.001562</td>\n",
       "      <td>0.004687</td>\n",
       "      <td>0.1</td>\n",
       "      <td>0.01</td>\n",
       "      <td>{'C': 0.1, 'epsilon': 0.01}</td>\n",
       "      <td>0.511079</td>\n",
       "      <td>0.496064</td>\n",
       "      <td>0.372888</td>\n",
       "      <td>...</td>\n",
       "      <td>0.526541</td>\n",
       "      <td>0.505876</td>\n",
       "      <td>0.517218</td>\n",
       "      <td>0.497464</td>\n",
       "      <td>0.512837</td>\n",
       "      <td>0.506613</td>\n",
       "      <td>0.501164</td>\n",
       "      <td>0.518314</td>\n",
       "      <td>0.510430</td>\n",
       "      <td>0.008191</td>\n",
       "    </tr>\n",
       "    <tr>\n",
       "      <th>6</th>\n",
       "      <td>0.003123</td>\n",
       "      <td>0.006247</td>\n",
       "      <td>0.001562</td>\n",
       "      <td>0.004685</td>\n",
       "      <td>0.1</td>\n",
       "      <td>0.1</td>\n",
       "      <td>{'C': 0.1, 'epsilon': 0.1}</td>\n",
       "      <td>0.511310</td>\n",
       "      <td>0.494511</td>\n",
       "      <td>0.372024</td>\n",
       "      <td>...</td>\n",
       "      <td>0.525306</td>\n",
       "      <td>0.506706</td>\n",
       "      <td>0.517236</td>\n",
       "      <td>0.497663</td>\n",
       "      <td>0.511869</td>\n",
       "      <td>0.507970</td>\n",
       "      <td>0.501616</td>\n",
       "      <td>0.519554</td>\n",
       "      <td>0.510424</td>\n",
       "      <td>0.007907</td>\n",
       "    </tr>\n",
       "    <tr>\n",
       "      <th>7</th>\n",
       "      <td>0.000000</td>\n",
       "      <td>0.000000</td>\n",
       "      <td>0.000000</td>\n",
       "      <td>0.000000</td>\n",
       "      <td>0.1</td>\n",
       "      <td>1</td>\n",
       "      <td>{'C': 0.1, 'epsilon': 1}</td>\n",
       "      <td>0.518059</td>\n",
       "      <td>0.500397</td>\n",
       "      <td>0.372855</td>\n",
       "      <td>...</td>\n",
       "      <td>0.525574</td>\n",
       "      <td>0.505596</td>\n",
       "      <td>0.517509</td>\n",
       "      <td>0.500164</td>\n",
       "      <td>0.513204</td>\n",
       "      <td>0.506149</td>\n",
       "      <td>0.504633</td>\n",
       "      <td>0.518898</td>\n",
       "      <td>0.511164</td>\n",
       "      <td>0.007312</td>\n",
       "    </tr>\n",
       "    <tr>\n",
       "      <th>8</th>\n",
       "      <td>0.000000</td>\n",
       "      <td>0.000000</td>\n",
       "      <td>0.001562</td>\n",
       "      <td>0.004687</td>\n",
       "      <td>0.1</td>\n",
       "      <td>10</td>\n",
       "      <td>{'C': 0.1, 'epsilon': 10}</td>\n",
       "      <td>0.290183</td>\n",
       "      <td>0.216059</td>\n",
       "      <td>0.135546</td>\n",
       "      <td>...</td>\n",
       "      <td>0.255475</td>\n",
       "      <td>0.220336</td>\n",
       "      <td>0.264664</td>\n",
       "      <td>0.235325</td>\n",
       "      <td>0.238457</td>\n",
       "      <td>0.226807</td>\n",
       "      <td>0.240459</td>\n",
       "      <td>0.246813</td>\n",
       "      <td>0.242804</td>\n",
       "      <td>0.012648</td>\n",
       "    </tr>\n",
       "    <tr>\n",
       "      <th>9</th>\n",
       "      <td>0.000000</td>\n",
       "      <td>0.000000</td>\n",
       "      <td>0.003125</td>\n",
       "      <td>0.006249</td>\n",
       "      <td>0.1</td>\n",
       "      <td>100</td>\n",
       "      <td>{'C': 0.1, 'epsilon': 100}</td>\n",
       "      <td>-61.949839</td>\n",
       "      <td>-54.397029</td>\n",
       "      <td>-48.841274</td>\n",
       "      <td>...</td>\n",
       "      <td>-53.860610</td>\n",
       "      <td>-54.896779</td>\n",
       "      <td>-51.805479</td>\n",
       "      <td>-54.190603</td>\n",
       "      <td>-52.399540</td>\n",
       "      <td>-54.792132</td>\n",
       "      <td>-53.288060</td>\n",
       "      <td>-52.317455</td>\n",
       "      <td>-53.328274</td>\n",
       "      <td>1.025613</td>\n",
       "    </tr>\n",
       "    <tr>\n",
       "      <th>10</th>\n",
       "      <td>0.006248</td>\n",
       "      <td>0.007652</td>\n",
       "      <td>0.000000</td>\n",
       "      <td>0.000000</td>\n",
       "      <td>1</td>\n",
       "      <td>0.01</td>\n",
       "      <td>{'C': 1, 'epsilon': 0.01}</td>\n",
       "      <td>0.802774</td>\n",
       "      <td>0.756561</td>\n",
       "      <td>0.709583</td>\n",
       "      <td>...</td>\n",
       "      <td>0.785732</td>\n",
       "      <td>0.782798</td>\n",
       "      <td>0.786615</td>\n",
       "      <td>0.774434</td>\n",
       "      <td>0.780724</td>\n",
       "      <td>0.777013</td>\n",
       "      <td>0.775884</td>\n",
       "      <td>0.786301</td>\n",
       "      <td>0.781189</td>\n",
       "      <td>0.004139</td>\n",
       "    </tr>\n",
       "    <tr>\n",
       "      <th>11</th>\n",
       "      <td>0.007810</td>\n",
       "      <td>0.007810</td>\n",
       "      <td>0.000000</td>\n",
       "      <td>0.000000</td>\n",
       "      <td>1</td>\n",
       "      <td>0.1</td>\n",
       "      <td>{'C': 1, 'epsilon': 0.1}</td>\n",
       "      <td>0.802773</td>\n",
       "      <td>0.755204</td>\n",
       "      <td>0.709255</td>\n",
       "      <td>...</td>\n",
       "      <td>0.785803</td>\n",
       "      <td>0.782314</td>\n",
       "      <td>0.786389</td>\n",
       "      <td>0.774343</td>\n",
       "      <td>0.781517</td>\n",
       "      <td>0.777661</td>\n",
       "      <td>0.776040</td>\n",
       "      <td>0.785633</td>\n",
       "      <td>0.781216</td>\n",
       "      <td>0.003960</td>\n",
       "    </tr>\n",
       "    <tr>\n",
       "      <th>12</th>\n",
       "      <td>0.004686</td>\n",
       "      <td>0.007159</td>\n",
       "      <td>0.001562</td>\n",
       "      <td>0.004687</td>\n",
       "      <td>1</td>\n",
       "      <td>1</td>\n",
       "      <td>{'C': 1, 'epsilon': 1}</td>\n",
       "      <td>0.801315</td>\n",
       "      <td>0.750029</td>\n",
       "      <td>0.707541</td>\n",
       "      <td>...</td>\n",
       "      <td>0.784883</td>\n",
       "      <td>0.780113</td>\n",
       "      <td>0.784118</td>\n",
       "      <td>0.772114</td>\n",
       "      <td>0.778741</td>\n",
       "      <td>0.774336</td>\n",
       "      <td>0.775591</td>\n",
       "      <td>0.783608</td>\n",
       "      <td>0.779077</td>\n",
       "      <td>0.004086</td>\n",
       "    </tr>\n",
       "    <tr>\n",
       "      <th>13</th>\n",
       "      <td>0.003124</td>\n",
       "      <td>0.006249</td>\n",
       "      <td>0.000000</td>\n",
       "      <td>0.000000</td>\n",
       "      <td>1</td>\n",
       "      <td>10</td>\n",
       "      <td>{'C': 1, 'epsilon': 10}</td>\n",
       "      <td>0.671849</td>\n",
       "      <td>0.642492</td>\n",
       "      <td>0.552905</td>\n",
       "      <td>...</td>\n",
       "      <td>0.664594</td>\n",
       "      <td>0.666797</td>\n",
       "      <td>0.670131</td>\n",
       "      <td>0.662382</td>\n",
       "      <td>0.662686</td>\n",
       "      <td>0.653429</td>\n",
       "      <td>0.655504</td>\n",
       "      <td>0.671129</td>\n",
       "      <td>0.662764</td>\n",
       "      <td>0.005984</td>\n",
       "    </tr>\n",
       "    <tr>\n",
       "      <th>14</th>\n",
       "      <td>0.001562</td>\n",
       "      <td>0.004686</td>\n",
       "      <td>0.001562</td>\n",
       "      <td>0.004686</td>\n",
       "      <td>1</td>\n",
       "      <td>100</td>\n",
       "      <td>{'C': 1, 'epsilon': 100}</td>\n",
       "      <td>-61.949839</td>\n",
       "      <td>-54.397029</td>\n",
       "      <td>-48.841274</td>\n",
       "      <td>...</td>\n",
       "      <td>-53.860610</td>\n",
       "      <td>-54.896779</td>\n",
       "      <td>-51.805479</td>\n",
       "      <td>-54.190603</td>\n",
       "      <td>-52.399540</td>\n",
       "      <td>-54.792132</td>\n",
       "      <td>-53.288060</td>\n",
       "      <td>-52.317455</td>\n",
       "      <td>-53.328274</td>\n",
       "      <td>1.025613</td>\n",
       "    </tr>\n",
       "    <tr>\n",
       "      <th>15</th>\n",
       "      <td>0.021870</td>\n",
       "      <td>0.007653</td>\n",
       "      <td>0.004687</td>\n",
       "      <td>0.007159</td>\n",
       "      <td>10</td>\n",
       "      <td>0.01</td>\n",
       "      <td>{'C': 10, 'epsilon': 0.01}</td>\n",
       "      <td>0.814960</td>\n",
       "      <td>0.772075</td>\n",
       "      <td>0.747095</td>\n",
       "      <td>...</td>\n",
       "      <td>0.806696</td>\n",
       "      <td>0.804108</td>\n",
       "      <td>0.805955</td>\n",
       "      <td>0.797231</td>\n",
       "      <td>0.802513</td>\n",
       "      <td>0.797926</td>\n",
       "      <td>0.798474</td>\n",
       "      <td>0.806942</td>\n",
       "      <td>0.802213</td>\n",
       "      <td>0.003460</td>\n",
       "    </tr>\n",
       "    <tr>\n",
       "      <th>16</th>\n",
       "      <td>0.032805</td>\n",
       "      <td>0.004687</td>\n",
       "      <td>0.001562</td>\n",
       "      <td>0.004686</td>\n",
       "      <td>10</td>\n",
       "      <td>0.1</td>\n",
       "      <td>{'C': 10, 'epsilon': 0.1}</td>\n",
       "      <td>0.815388</td>\n",
       "      <td>0.770396</td>\n",
       "      <td>0.748093</td>\n",
       "      <td>...</td>\n",
       "      <td>0.807144</td>\n",
       "      <td>0.803857</td>\n",
       "      <td>0.805873</td>\n",
       "      <td>0.797100</td>\n",
       "      <td>0.802174</td>\n",
       "      <td>0.798192</td>\n",
       "      <td>0.798853</td>\n",
       "      <td>0.807377</td>\n",
       "      <td>0.802373</td>\n",
       "      <td>0.003495</td>\n",
       "    </tr>\n",
       "    <tr>\n",
       "      <th>17</th>\n",
       "      <td>0.040615</td>\n",
       "      <td>0.014317</td>\n",
       "      <td>0.001562</td>\n",
       "      <td>0.004686</td>\n",
       "      <td>10</td>\n",
       "      <td>1</td>\n",
       "      <td>{'C': 10, 'epsilon': 1}</td>\n",
       "      <td>0.816669</td>\n",
       "      <td>0.768611</td>\n",
       "      <td>0.752906</td>\n",
       "      <td>...</td>\n",
       "      <td>0.807105</td>\n",
       "      <td>0.804694</td>\n",
       "      <td>0.806387</td>\n",
       "      <td>0.798090</td>\n",
       "      <td>0.803212</td>\n",
       "      <td>0.798373</td>\n",
       "      <td>0.799039</td>\n",
       "      <td>0.808484</td>\n",
       "      <td>0.803295</td>\n",
       "      <td>0.003531</td>\n",
       "    </tr>\n",
       "    <tr>\n",
       "      <th>18</th>\n",
       "      <td>0.004687</td>\n",
       "      <td>0.007159</td>\n",
       "      <td>0.000000</td>\n",
       "      <td>0.000000</td>\n",
       "      <td>10</td>\n",
       "      <td>10</td>\n",
       "      <td>{'C': 10, 'epsilon': 10}</td>\n",
       "      <td>0.699356</td>\n",
       "      <td>0.730863</td>\n",
       "      <td>0.682319</td>\n",
       "      <td>...</td>\n",
       "      <td>0.742473</td>\n",
       "      <td>0.742607</td>\n",
       "      <td>0.743452</td>\n",
       "      <td>0.743001</td>\n",
       "      <td>0.742770</td>\n",
       "      <td>0.728262</td>\n",
       "      <td>0.749594</td>\n",
       "      <td>0.740322</td>\n",
       "      <td>0.742264</td>\n",
       "      <td>0.006031</td>\n",
       "    </tr>\n",
       "    <tr>\n",
       "      <th>19</th>\n",
       "      <td>0.001562</td>\n",
       "      <td>0.004687</td>\n",
       "      <td>0.003124</td>\n",
       "      <td>0.006249</td>\n",
       "      <td>10</td>\n",
       "      <td>100</td>\n",
       "      <td>{'C': 10, 'epsilon': 100}</td>\n",
       "      <td>-61.949839</td>\n",
       "      <td>-54.397029</td>\n",
       "      <td>-48.841274</td>\n",
       "      <td>...</td>\n",
       "      <td>-53.860610</td>\n",
       "      <td>-54.896779</td>\n",
       "      <td>-51.805479</td>\n",
       "      <td>-54.190603</td>\n",
       "      <td>-52.399540</td>\n",
       "      <td>-54.792132</td>\n",
       "      <td>-53.288060</td>\n",
       "      <td>-52.317455</td>\n",
       "      <td>-53.328274</td>\n",
       "      <td>1.025613</td>\n",
       "    </tr>\n",
       "    <tr>\n",
       "      <th>20</th>\n",
       "      <td>0.179404</td>\n",
       "      <td>0.036361</td>\n",
       "      <td>0.001562</td>\n",
       "      <td>0.004687</td>\n",
       "      <td>100</td>\n",
       "      <td>0.01</td>\n",
       "      <td>{'C': 100, 'epsilon': 0.01}</td>\n",
       "      <td>0.815577</td>\n",
       "      <td>0.764377</td>\n",
       "      <td>0.753200</td>\n",
       "      <td>...</td>\n",
       "      <td>0.807922</td>\n",
       "      <td>0.804639</td>\n",
       "      <td>0.808835</td>\n",
       "      <td>0.797853</td>\n",
       "      <td>0.804831</td>\n",
       "      <td>0.799014</td>\n",
       "      <td>0.801199</td>\n",
       "      <td>0.807651</td>\n",
       "      <td>0.804249</td>\n",
       "      <td>0.003593</td>\n",
       "    </tr>\n",
       "    <tr>\n",
       "      <th>21</th>\n",
       "      <td>0.204227</td>\n",
       "      <td>0.027254</td>\n",
       "      <td>0.000000</td>\n",
       "      <td>0.000000</td>\n",
       "      <td>100</td>\n",
       "      <td>0.1</td>\n",
       "      <td>{'C': 100, 'epsilon': 0.1}</td>\n",
       "      <td>0.815297</td>\n",
       "      <td>0.762946</td>\n",
       "      <td>0.754552</td>\n",
       "      <td>...</td>\n",
       "      <td>0.809104</td>\n",
       "      <td>0.805373</td>\n",
       "      <td>0.809150</td>\n",
       "      <td>0.798590</td>\n",
       "      <td>0.804890</td>\n",
       "      <td>0.799051</td>\n",
       "      <td>0.801034</td>\n",
       "      <td>0.808242</td>\n",
       "      <td>0.804653</td>\n",
       "      <td>0.003732</td>\n",
       "    </tr>\n",
       "    <tr>\n",
       "      <th>22</th>\n",
       "      <td>0.246506</td>\n",
       "      <td>0.042869</td>\n",
       "      <td>0.000000</td>\n",
       "      <td>0.000000</td>\n",
       "      <td>100</td>\n",
       "      <td>1</td>\n",
       "      <td>{'C': 100, 'epsilon': 1}</td>\n",
       "      <td>0.816348</td>\n",
       "      <td>0.768386</td>\n",
       "      <td>0.760832</td>\n",
       "      <td>...</td>\n",
       "      <td>0.810409</td>\n",
       "      <td>0.805506</td>\n",
       "      <td>0.808777</td>\n",
       "      <td>0.799532</td>\n",
       "      <td>0.805888</td>\n",
       "      <td>0.801072</td>\n",
       "      <td>0.801235</td>\n",
       "      <td>0.810228</td>\n",
       "      <td>0.805552</td>\n",
       "      <td>0.003712</td>\n",
       "    </tr>\n",
       "    <tr>\n",
       "      <th>23</th>\n",
       "      <td>0.073248</td>\n",
       "      <td>0.030382</td>\n",
       "      <td>0.001562</td>\n",
       "      <td>0.004687</td>\n",
       "      <td>100</td>\n",
       "      <td>10</td>\n",
       "      <td>{'C': 100, 'epsilon': 10}</td>\n",
       "      <td>0.754421</td>\n",
       "      <td>0.740460</td>\n",
       "      <td>0.729893</td>\n",
       "      <td>...</td>\n",
       "      <td>0.766403</td>\n",
       "      <td>0.743990</td>\n",
       "      <td>0.765409</td>\n",
       "      <td>0.761525</td>\n",
       "      <td>0.764728</td>\n",
       "      <td>0.755175</td>\n",
       "      <td>0.747618</td>\n",
       "      <td>0.757488</td>\n",
       "      <td>0.758658</td>\n",
       "      <td>0.007494</td>\n",
       "    </tr>\n",
       "    <tr>\n",
       "      <th>24</th>\n",
       "      <td>0.000000</td>\n",
       "      <td>0.000000</td>\n",
       "      <td>0.000000</td>\n",
       "      <td>0.000000</td>\n",
       "      <td>100</td>\n",
       "      <td>100</td>\n",
       "      <td>{'C': 100, 'epsilon': 100}</td>\n",
       "      <td>-61.949839</td>\n",
       "      <td>-54.397029</td>\n",
       "      <td>-48.841274</td>\n",
       "      <td>...</td>\n",
       "      <td>-53.860610</td>\n",
       "      <td>-54.896779</td>\n",
       "      <td>-51.805479</td>\n",
       "      <td>-54.190603</td>\n",
       "      <td>-52.399540</td>\n",
       "      <td>-54.792132</td>\n",
       "      <td>-53.288060</td>\n",
       "      <td>-52.317455</td>\n",
       "      <td>-53.328274</td>\n",
       "      <td>1.025613</td>\n",
       "    </tr>\n",
       "  </tbody>\n",
       "</table>\n",
       "<p>25 rows × 32 columns</p>\n",
       "</div>"
      ],
      "text/plain": [
       "    mean_fit_time  std_fit_time  mean_score_time  std_score_time param_C  \\\n",
       "0        0.002593      0.000489         0.001098        0.000300    0.01   \n",
       "1        0.001924      0.001138         0.000499        0.000499    0.01   \n",
       "2        0.001562      0.004686         0.000000        0.000000    0.01   \n",
       "3        0.003125      0.006251         0.001563        0.004688    0.01   \n",
       "4        0.000000      0.000000         0.001562        0.004685    0.01   \n",
       "5        0.003124      0.006248         0.001562        0.004687     0.1   \n",
       "6        0.003123      0.006247         0.001562        0.004685     0.1   \n",
       "7        0.000000      0.000000         0.000000        0.000000     0.1   \n",
       "8        0.000000      0.000000         0.001562        0.004687     0.1   \n",
       "9        0.000000      0.000000         0.003125        0.006249     0.1   \n",
       "10       0.006248      0.007652         0.000000        0.000000       1   \n",
       "11       0.007810      0.007810         0.000000        0.000000       1   \n",
       "12       0.004686      0.007159         0.001562        0.004687       1   \n",
       "13       0.003124      0.006249         0.000000        0.000000       1   \n",
       "14       0.001562      0.004686         0.001562        0.004686       1   \n",
       "15       0.021870      0.007653         0.004687        0.007159      10   \n",
       "16       0.032805      0.004687         0.001562        0.004686      10   \n",
       "17       0.040615      0.014317         0.001562        0.004686      10   \n",
       "18       0.004687      0.007159         0.000000        0.000000      10   \n",
       "19       0.001562      0.004687         0.003124        0.006249      10   \n",
       "20       0.179404      0.036361         0.001562        0.004687     100   \n",
       "21       0.204227      0.027254         0.000000        0.000000     100   \n",
       "22       0.246506      0.042869         0.000000        0.000000     100   \n",
       "23       0.073248      0.030382         0.001562        0.004687     100   \n",
       "24       0.000000      0.000000         0.000000        0.000000     100   \n",
       "\n",
       "   param_epsilon                        params  split0_test_score  \\\n",
       "0           0.01  {'C': 0.01, 'epsilon': 0.01}          -4.301743   \n",
       "1            0.1   {'C': 0.01, 'epsilon': 0.1}          -4.283300   \n",
       "2              1     {'C': 0.01, 'epsilon': 1}          -4.247950   \n",
       "3             10    {'C': 0.01, 'epsilon': 10}          -5.132970   \n",
       "4            100   {'C': 0.01, 'epsilon': 100}         -61.949839   \n",
       "5           0.01   {'C': 0.1, 'epsilon': 0.01}           0.511079   \n",
       "6            0.1    {'C': 0.1, 'epsilon': 0.1}           0.511310   \n",
       "7              1      {'C': 0.1, 'epsilon': 1}           0.518059   \n",
       "8             10     {'C': 0.1, 'epsilon': 10}           0.290183   \n",
       "9            100    {'C': 0.1, 'epsilon': 100}         -61.949839   \n",
       "10          0.01     {'C': 1, 'epsilon': 0.01}           0.802774   \n",
       "11           0.1      {'C': 1, 'epsilon': 0.1}           0.802773   \n",
       "12             1        {'C': 1, 'epsilon': 1}           0.801315   \n",
       "13            10       {'C': 1, 'epsilon': 10}           0.671849   \n",
       "14           100      {'C': 1, 'epsilon': 100}         -61.949839   \n",
       "15          0.01    {'C': 10, 'epsilon': 0.01}           0.814960   \n",
       "16           0.1     {'C': 10, 'epsilon': 0.1}           0.815388   \n",
       "17             1       {'C': 10, 'epsilon': 1}           0.816669   \n",
       "18            10      {'C': 10, 'epsilon': 10}           0.699356   \n",
       "19           100     {'C': 10, 'epsilon': 100}         -61.949839   \n",
       "20          0.01   {'C': 100, 'epsilon': 0.01}           0.815577   \n",
       "21           0.1    {'C': 100, 'epsilon': 0.1}           0.815297   \n",
       "22             1      {'C': 100, 'epsilon': 1}           0.816348   \n",
       "23            10     {'C': 100, 'epsilon': 10}           0.754421   \n",
       "24           100    {'C': 100, 'epsilon': 100}         -61.949839   \n",
       "\n",
       "    split1_test_score  split2_test_score  ...  split2_train_score  \\\n",
       "0           -3.981407          -3.411643  ...           -3.735390   \n",
       "1           -3.968050          -3.411643  ...           -3.735390   \n",
       "2           -3.939127          -3.411202  ...           -3.734237   \n",
       "3           -4.708905          -4.152053  ...           -4.555747   \n",
       "4          -54.397029         -48.841274  ...          -53.860610   \n",
       "5            0.496064           0.372888  ...            0.526541   \n",
       "6            0.494511           0.372024  ...            0.525306   \n",
       "7            0.500397           0.372855  ...            0.525574   \n",
       "8            0.216059           0.135546  ...            0.255475   \n",
       "9          -54.397029         -48.841274  ...          -53.860610   \n",
       "10           0.756561           0.709583  ...            0.785732   \n",
       "11           0.755204           0.709255  ...            0.785803   \n",
       "12           0.750029           0.707541  ...            0.784883   \n",
       "13           0.642492           0.552905  ...            0.664594   \n",
       "14         -54.397029         -48.841274  ...          -53.860610   \n",
       "15           0.772075           0.747095  ...            0.806696   \n",
       "16           0.770396           0.748093  ...            0.807144   \n",
       "17           0.768611           0.752906  ...            0.807105   \n",
       "18           0.730863           0.682319  ...            0.742473   \n",
       "19         -54.397029         -48.841274  ...          -53.860610   \n",
       "20           0.764377           0.753200  ...            0.807922   \n",
       "21           0.762946           0.754552  ...            0.809104   \n",
       "22           0.768386           0.760832  ...            0.810409   \n",
       "23           0.740460           0.729893  ...            0.766403   \n",
       "24         -54.397029         -48.841274  ...          -53.860610   \n",
       "\n",
       "    split3_train_score  split4_train_score  split5_train_score  \\\n",
       "0            -3.830203           -3.727266           -3.794222   \n",
       "1            -3.830203           -3.712613           -3.794222   \n",
       "2            -3.863618           -3.690750           -3.793907   \n",
       "3            -4.617328           -4.474899           -4.587319   \n",
       "4           -54.896779          -51.805479          -54.190603   \n",
       "5             0.505876            0.517218            0.497464   \n",
       "6             0.506706            0.517236            0.497663   \n",
       "7             0.505596            0.517509            0.500164   \n",
       "8             0.220336            0.264664            0.235325   \n",
       "9           -54.896779          -51.805479          -54.190603   \n",
       "10            0.782798            0.786615            0.774434   \n",
       "11            0.782314            0.786389            0.774343   \n",
       "12            0.780113            0.784118            0.772114   \n",
       "13            0.666797            0.670131            0.662382   \n",
       "14          -54.896779          -51.805479          -54.190603   \n",
       "15            0.804108            0.805955            0.797231   \n",
       "16            0.803857            0.805873            0.797100   \n",
       "17            0.804694            0.806387            0.798090   \n",
       "18            0.742607            0.743452            0.743001   \n",
       "19          -54.896779          -51.805479          -54.190603   \n",
       "20            0.804639            0.808835            0.797853   \n",
       "21            0.805373            0.809150            0.798590   \n",
       "22            0.805506            0.808777            0.799532   \n",
       "23            0.743990            0.765409            0.761525   \n",
       "24          -54.896779          -51.805479          -54.190603   \n",
       "\n",
       "    split6_train_score  split7_train_score  split8_train_score  \\\n",
       "0            -3.737749           -3.827021           -3.762942   \n",
       "1            -3.734093           -3.827021           -3.762942   \n",
       "2            -3.699461           -3.826680           -3.751202   \n",
       "3            -4.524664           -4.638368           -4.556243   \n",
       "4           -52.399540          -54.792132          -53.288060   \n",
       "5             0.512837            0.506613            0.501164   \n",
       "6             0.511869            0.507970            0.501616   \n",
       "7             0.513204            0.506149            0.504633   \n",
       "8             0.238457            0.226807            0.240459   \n",
       "9           -52.399540          -54.792132          -53.288060   \n",
       "10            0.780724            0.777013            0.775884   \n",
       "11            0.781517            0.777661            0.776040   \n",
       "12            0.778741            0.774336            0.775591   \n",
       "13            0.662686            0.653429            0.655504   \n",
       "14          -52.399540          -54.792132          -53.288060   \n",
       "15            0.802513            0.797926            0.798474   \n",
       "16            0.802174            0.798192            0.798853   \n",
       "17            0.803212            0.798373            0.799039   \n",
       "18            0.742770            0.728262            0.749594   \n",
       "19          -52.399540          -54.792132          -53.288060   \n",
       "20            0.804831            0.799014            0.801199   \n",
       "21            0.804890            0.799051            0.801034   \n",
       "22            0.805888            0.801072            0.801235   \n",
       "23            0.764728            0.755175            0.747618   \n",
       "24          -52.399540          -54.792132          -53.288060   \n",
       "\n",
       "    split9_train_score  mean_train_score  std_train_score  \n",
       "0            -3.715520         -3.775476         0.043381  \n",
       "1            -3.699517         -3.769165         0.045468  \n",
       "2            -3.704448         -3.760138         0.054331  \n",
       "3            -4.494120         -4.548652         0.051980  \n",
       "4           -52.317455        -53.328274         1.025613  \n",
       "5             0.518314          0.510430         0.008191  \n",
       "6             0.519554          0.510424         0.007907  \n",
       "7             0.518898          0.511164         0.007312  \n",
       "8             0.246813          0.242804         0.012648  \n",
       "9           -52.317455        -53.328274         1.025613  \n",
       "10            0.786301          0.781189         0.004139  \n",
       "11            0.785633          0.781216         0.003960  \n",
       "12            0.783608          0.779077         0.004086  \n",
       "13            0.671129          0.662764         0.005984  \n",
       "14          -52.317455        -53.328274         1.025613  \n",
       "15            0.806942          0.802213         0.003460  \n",
       "16            0.807377          0.802373         0.003495  \n",
       "17            0.808484          0.803295         0.003531  \n",
       "18            0.740322          0.742264         0.006031  \n",
       "19          -52.317455        -53.328274         1.025613  \n",
       "20            0.807651          0.804249         0.003593  \n",
       "21            0.808242          0.804653         0.003732  \n",
       "22            0.810228          0.805552         0.003712  \n",
       "23            0.757488          0.758658         0.007494  \n",
       "24          -52.317455        -53.328274         1.025613  \n",
       "\n",
       "[25 rows x 32 columns]"
      ]
     },
     "execution_count": 49,
     "metadata": {},
     "output_type": "execute_result"
    }
   ],
   "source": [
    "#result for each grid printed\n",
    "result_linearsvr = pd.DataFrame(grid_svrl.cv_results_)\n",
    "result_linearsvr"
   ]
  },
  {
   "cell_type": "markdown",
   "metadata": {},
   "source": [
    "### SVR with Kernal Linear\n",
    "Various c parameters are tried to find the best"
   ]
  },
  {
   "cell_type": "code",
   "execution_count": 50,
   "metadata": {},
   "outputs": [],
   "source": [
    "grid_parms_linear = {'C': [0.01,0.1, 1, 10, 100]}"
   ]
  },
  {
   "cell_type": "code",
   "execution_count": 51,
   "metadata": {},
   "outputs": [],
   "source": [
    "svr_linear = SVR(kernel='linear')\n",
    "grid_svr_linear = GridSearchCV(estimator = svr_linear,param_grid = grid_parms_linear,return_train_score=True,n_jobs= -1,cv=6)"
   ]
  },
  {
   "cell_type": "code",
   "execution_count": 52,
   "metadata": {},
   "outputs": [
    {
     "data": {
      "text/plain": [
       "GridSearchCV(cv=6, error_score=nan,\n",
       "             estimator=SVR(C=1.0, cache_size=200, coef0=0.0, degree=3,\n",
       "                           epsilon=0.1, gamma='scale', kernel='linear',\n",
       "                           max_iter=-1, shrinking=True, tol=0.001,\n",
       "                           verbose=False),\n",
       "             iid='deprecated', n_jobs=-1,\n",
       "             param_grid={'C': [0.01, 0.1, 1, 10, 100]}, pre_dispatch='2*n_jobs',\n",
       "             refit=True, return_train_score=True, scoring=None, verbose=0)"
      ]
     },
     "execution_count": 52,
     "metadata": {},
     "output_type": "execute_result"
    }
   ],
   "source": [
    "grid_svr_linear.fit(X_train,y_train)"
   ]
  },
  {
   "cell_type": "code",
   "execution_count": 53,
   "metadata": {},
   "outputs": [
    {
     "name": "stdout",
     "output_type": "stream",
     "text": [
      "Best parameters: {'C': 100}\n",
      "Best cross-validation score: 0.7886\n"
     ]
    }
   ],
   "source": [
    "print(\"Best parameters: {}\".format(grid_svr_linear.best_params_))\n",
    "print(\"Best cross-validation score: {:.4f}\".format(grid_svr_linear.best_score_))"
   ]
  },
  {
   "cell_type": "markdown",
   "metadata": {},
   "source": [
    "C=100 is run with linear kernel trick"
   ]
  },
  {
   "cell_type": "code",
   "execution_count": 54,
   "metadata": {},
   "outputs": [
    {
     "name": "stdout",
     "output_type": "stream",
     "text": [
      "0.8055968786945975\n",
      "0.8052564055276314\n"
     ]
    }
   ],
   "source": [
    "svr = SVR(kernel = 'linear',C = 100)\n",
    "        \n",
    "        #train the model\n",
    "svr.fit(X_train, y_train)\n",
    "        \n",
    "        #evaluate the model\n",
    "print(svr.score(X_train, y_train))\n",
    "print(svr.score(X_test, y_test))"
   ]
  },
  {
   "cell_type": "code",
   "execution_count": 55,
   "metadata": {},
   "outputs": [
    {
     "name": "stdout",
     "output_type": "stream",
     "text": [
      "Cross-validation scores:\n",
      "[0.77063336 0.78477796 0.76801928 0.81898445 0.80407389 0.78517341]\n",
      "0.7886103911297093\n"
     ]
    }
   ],
   "source": [
    "from sklearn.model_selection import KFold\n",
    "from sklearn.model_selection import cross_val_score\n",
    "\n",
    "kfold = KFold(n_splits=6)\n",
    "print(\"Cross-validation scores:\\n{}\".format(cross_val_score(svr , X_train, y_train, cv=kfold)))\n",
    "scores = cross_val_score(svr , X_train, y_train, cv=kfold)\n",
    "print(np.mean(scores))"
   ]
  },
  {
   "cell_type": "code",
   "execution_count": 56,
   "metadata": {},
   "outputs": [
    {
     "data": {
      "text/html": [
       "<div>\n",
       "<style scoped>\n",
       "    .dataframe tbody tr th:only-of-type {\n",
       "        vertical-align: middle;\n",
       "    }\n",
       "\n",
       "    .dataframe tbody tr th {\n",
       "        vertical-align: top;\n",
       "    }\n",
       "\n",
       "    .dataframe thead th {\n",
       "        text-align: right;\n",
       "    }\n",
       "</style>\n",
       "<table border=\"1\" class=\"dataframe\">\n",
       "  <thead>\n",
       "    <tr style=\"text-align: right;\">\n",
       "      <th></th>\n",
       "      <th>mean_fit_time</th>\n",
       "      <th>std_fit_time</th>\n",
       "      <th>mean_score_time</th>\n",
       "      <th>std_score_time</th>\n",
       "      <th>param_C</th>\n",
       "      <th>params</th>\n",
       "      <th>split0_test_score</th>\n",
       "      <th>split1_test_score</th>\n",
       "      <th>split2_test_score</th>\n",
       "      <th>split3_test_score</th>\n",
       "      <th>...</th>\n",
       "      <th>std_test_score</th>\n",
       "      <th>rank_test_score</th>\n",
       "      <th>split0_train_score</th>\n",
       "      <th>split1_train_score</th>\n",
       "      <th>split2_train_score</th>\n",
       "      <th>split3_train_score</th>\n",
       "      <th>split4_train_score</th>\n",
       "      <th>split5_train_score</th>\n",
       "      <th>mean_train_score</th>\n",
       "      <th>std_train_score</th>\n",
       "    </tr>\n",
       "  </thead>\n",
       "  <tbody>\n",
       "    <tr>\n",
       "      <th>0</th>\n",
       "      <td>0.085282</td>\n",
       "      <td>0.009012</td>\n",
       "      <td>0.012022</td>\n",
       "      <td>0.002569</td>\n",
       "      <td>0.01</td>\n",
       "      <td>{'C': 0.01}</td>\n",
       "      <td>0.188792</td>\n",
       "      <td>0.177014</td>\n",
       "      <td>0.180120</td>\n",
       "      <td>0.182447</td>\n",
       "      <td>...</td>\n",
       "      <td>0.011878</td>\n",
       "      <td>5</td>\n",
       "      <td>0.193110</td>\n",
       "      <td>0.192519</td>\n",
       "      <td>0.188692</td>\n",
       "      <td>0.177610</td>\n",
       "      <td>0.171812</td>\n",
       "      <td>0.171641</td>\n",
       "      <td>0.182564</td>\n",
       "      <td>0.009195</td>\n",
       "    </tr>\n",
       "    <tr>\n",
       "      <th>1</th>\n",
       "      <td>0.080663</td>\n",
       "      <td>0.018989</td>\n",
       "      <td>0.011642</td>\n",
       "      <td>0.008449</td>\n",
       "      <td>0.1</td>\n",
       "      <td>{'C': 0.1}</td>\n",
       "      <td>0.653200</td>\n",
       "      <td>0.642872</td>\n",
       "      <td>0.632760</td>\n",
       "      <td>0.692796</td>\n",
       "      <td>...</td>\n",
       "      <td>0.021244</td>\n",
       "      <td>4</td>\n",
       "      <td>0.668620</td>\n",
       "      <td>0.674179</td>\n",
       "      <td>0.674229</td>\n",
       "      <td>0.665925</td>\n",
       "      <td>0.659070</td>\n",
       "      <td>0.667242</td>\n",
       "      <td>0.668211</td>\n",
       "      <td>0.005192</td>\n",
       "    </tr>\n",
       "    <tr>\n",
       "      <th>2</th>\n",
       "      <td>0.110019</td>\n",
       "      <td>0.023009</td>\n",
       "      <td>0.015622</td>\n",
       "      <td>0.009019</td>\n",
       "      <td>1</td>\n",
       "      <td>{'C': 1}</td>\n",
       "      <td>0.792236</td>\n",
       "      <td>0.764297</td>\n",
       "      <td>0.759432</td>\n",
       "      <td>0.797988</td>\n",
       "      <td>...</td>\n",
       "      <td>0.015868</td>\n",
       "      <td>3</td>\n",
       "      <td>0.790521</td>\n",
       "      <td>0.793293</td>\n",
       "      <td>0.796655</td>\n",
       "      <td>0.784603</td>\n",
       "      <td>0.786210</td>\n",
       "      <td>0.790422</td>\n",
       "      <td>0.790284</td>\n",
       "      <td>0.004053</td>\n",
       "    </tr>\n",
       "    <tr>\n",
       "      <th>3</th>\n",
       "      <td>0.153610</td>\n",
       "      <td>0.020990</td>\n",
       "      <td>0.013018</td>\n",
       "      <td>0.005822</td>\n",
       "      <td>10</td>\n",
       "      <td>{'C': 10}</td>\n",
       "      <td>0.777472</td>\n",
       "      <td>0.780181</td>\n",
       "      <td>0.766102</td>\n",
       "      <td>0.814197</td>\n",
       "      <td>...</td>\n",
       "      <td>0.016725</td>\n",
       "      <td>2</td>\n",
       "      <td>0.805159</td>\n",
       "      <td>0.801743</td>\n",
       "      <td>0.810140</td>\n",
       "      <td>0.796023</td>\n",
       "      <td>0.796865</td>\n",
       "      <td>0.802216</td>\n",
       "      <td>0.802024</td>\n",
       "      <td>0.004803</td>\n",
       "    </tr>\n",
       "    <tr>\n",
       "      <th>4</th>\n",
       "      <td>0.558448</td>\n",
       "      <td>0.126555</td>\n",
       "      <td>0.010969</td>\n",
       "      <td>0.005689</td>\n",
       "      <td>100</td>\n",
       "      <td>{'C': 100}</td>\n",
       "      <td>0.770633</td>\n",
       "      <td>0.784778</td>\n",
       "      <td>0.768019</td>\n",
       "      <td>0.818984</td>\n",
       "      <td>...</td>\n",
       "      <td>0.017960</td>\n",
       "      <td>1</td>\n",
       "      <td>0.808135</td>\n",
       "      <td>0.805400</td>\n",
       "      <td>0.811455</td>\n",
       "      <td>0.797703</td>\n",
       "      <td>0.798020</td>\n",
       "      <td>0.805502</td>\n",
       "      <td>0.804369</td>\n",
       "      <td>0.005025</td>\n",
       "    </tr>\n",
       "  </tbody>\n",
       "</table>\n",
       "<p>5 rows × 23 columns</p>\n",
       "</div>"
      ],
      "text/plain": [
       "   mean_fit_time  std_fit_time  mean_score_time  std_score_time param_C  \\\n",
       "0       0.085282      0.009012         0.012022        0.002569    0.01   \n",
       "1       0.080663      0.018989         0.011642        0.008449     0.1   \n",
       "2       0.110019      0.023009         0.015622        0.009019       1   \n",
       "3       0.153610      0.020990         0.013018        0.005822      10   \n",
       "4       0.558448      0.126555         0.010969        0.005689     100   \n",
       "\n",
       "        params  split0_test_score  split1_test_score  split2_test_score  \\\n",
       "0  {'C': 0.01}           0.188792           0.177014           0.180120   \n",
       "1   {'C': 0.1}           0.653200           0.642872           0.632760   \n",
       "2     {'C': 1}           0.792236           0.764297           0.759432   \n",
       "3    {'C': 10}           0.777472           0.780181           0.766102   \n",
       "4   {'C': 100}           0.770633           0.784778           0.768019   \n",
       "\n",
       "   split3_test_score  ...  std_test_score  rank_test_score  \\\n",
       "0           0.182447  ...        0.011878                5   \n",
       "1           0.692796  ...        0.021244                4   \n",
       "2           0.797988  ...        0.015868                3   \n",
       "3           0.814197  ...        0.016725                2   \n",
       "4           0.818984  ...        0.017960                1   \n",
       "\n",
       "   split0_train_score  split1_train_score  split2_train_score  \\\n",
       "0            0.193110            0.192519            0.188692   \n",
       "1            0.668620            0.674179            0.674229   \n",
       "2            0.790521            0.793293            0.796655   \n",
       "3            0.805159            0.801743            0.810140   \n",
       "4            0.808135            0.805400            0.811455   \n",
       "\n",
       "   split3_train_score  split4_train_score  split5_train_score  \\\n",
       "0            0.177610            0.171812            0.171641   \n",
       "1            0.665925            0.659070            0.667242   \n",
       "2            0.784603            0.786210            0.790422   \n",
       "3            0.796023            0.796865            0.802216   \n",
       "4            0.797703            0.798020            0.805502   \n",
       "\n",
       "   mean_train_score  std_train_score  \n",
       "0          0.182564         0.009195  \n",
       "1          0.668211         0.005192  \n",
       "2          0.790284         0.004053  \n",
       "3          0.802024         0.004803  \n",
       "4          0.804369         0.005025  \n",
       "\n",
       "[5 rows x 23 columns]"
      ]
     },
     "execution_count": 56,
     "metadata": {},
     "output_type": "execute_result"
    }
   ],
   "source": [
    "result_svr_linear = pd.DataFrame(grid_svr_linear.cv_results_)\n",
    "result_svr_linear"
   ]
  },
  {
   "cell_type": "code",
   "execution_count": 57,
   "metadata": {},
   "outputs": [
    {
     "data": {
      "text/plain": [
       "Text(0.5, 0, 'C')"
      ]
     },
     "execution_count": 57,
     "metadata": {},
     "output_type": "execute_result"
    },
    {
     "data": {
      "image/png": "[encoded data removed]",
      "text/plain": [
       "<Figure size 432x288 with 1 Axes>"
      ]
     },
     "metadata": {
      "needs_background": "light"
     },
     "output_type": "display_data"
    }
   ],
   "source": [
    "plt.plot(range(result_svr_linear.shape[0]), result_svr_linear['mean_train_score'], label = 'mean train score')\n",
    "plt.plot(range(result_svr_linear.shape[0]), result_svr_linear['mean_test_score'], label = 'mean test score')\n",
    "plt.xticks(range(result_svr_linear.shape[0]), result_svr_linear['param_C'], rotation = 90)\n",
    "plt.plot([grid_svr_linear.best_index_], result_svr_linear['mean_train_score'][grid_svr_linear.best_index_], 'o', markersize = 10, fillstyle = \"none\")\n",
    "plt.plot([grid_svr_linear.best_index_], result_svr_linear['mean_test_score'][grid_svr_linear.best_index_], 'o', markersize = 10, fillstyle = \"none\")\n",
    "plt.grid()\n",
    "plt.legend()\n",
    "plt.xlabel('C')"
   ]
  },
  {
   "cell_type": "code",
   "execution_count": 58,
   "metadata": {},
   "outputs": [
    {
     "name": "stdout",
     "output_type": "stream",
     "text": [
      "Accuracy: 78.56 %\n"
     ]
    }
   ],
   "source": [
    "#calculating the accuracy\n",
    "ksvml_accuracies = cross_val_score(estimator = svr, X = X_train, y = y_train, cv = 2)\n",
    "print(\"Accuracy: {:.2f} %\".format(ksvml_accuracies.mean()*100))"
   ]
  },
  {
   "cell_type": "markdown",
   "metadata": {},
   "source": [
    "### SVR with Kernal 'Poly'"
   ]
  },
  {
   "cell_type": "code",
   "execution_count": 59,
   "metadata": {},
   "outputs": [],
   "source": [
    "#grid parameters are written\n",
    "grid_parms_svrp = {'C': [1, 10, 100],'degree':[1,3]}"
   ]
  },
  {
   "cell_type": "code",
   "execution_count": 60,
   "metadata": {},
   "outputs": [],
   "source": [
    "#kernel poly function is craeted\n",
    "svr_poly = SVR(kernel='poly')\n",
    "grid_svr_poly = GridSearchCV(estimator = svr_poly,param_grid = grid_parms_svrp,return_train_score=True,n_jobs= -1,cv=3)"
   ]
  },
  {
   "cell_type": "code",
   "execution_count": 61,
   "metadata": {},
   "outputs": [
    {
     "data": {
      "text/plain": [
       "GridSearchCV(cv=3, error_score=nan,\n",
       "             estimator=SVR(C=1.0, cache_size=200, coef0=0.0, degree=3,\n",
       "                           epsilon=0.1, gamma='scale', kernel='poly',\n",
       "                           max_iter=-1, shrinking=True, tol=0.001,\n",
       "                           verbose=False),\n",
       "             iid='deprecated', n_jobs=-1,\n",
       "             param_grid={'C': [1, 10, 100], 'degree': [1, 3]},\n",
       "             pre_dispatch='2*n_jobs', refit=True, return_train_score=True,\n",
       "             scoring=None, verbose=0)"
      ]
     },
     "execution_count": 61,
     "metadata": {},
     "output_type": "execute_result"
    }
   ],
   "source": [
    "#the poly kernel with params is fit\n",
    "grid_svr_poly.fit(X_train,y_train)"
   ]
  },
  {
   "cell_type": "code",
   "execution_count": 62,
   "metadata": {},
   "outputs": [
    {
     "name": "stdout",
     "output_type": "stream",
     "text": [
      "Best parameters: {'C': 100, 'degree': 3}\n",
      "Best cross-validation score: 0.8149\n"
     ]
    },
    {
     "data": {
      "text/html": [
       "<div>\n",
       "<style scoped>\n",
       "    .dataframe tbody tr th:only-of-type {\n",
       "        vertical-align: middle;\n",
       "    }\n",
       "\n",
       "    .dataframe tbody tr th {\n",
       "        vertical-align: top;\n",
       "    }\n",
       "\n",
       "    .dataframe thead th {\n",
       "        text-align: right;\n",
       "    }\n",
       "</style>\n",
       "<table border=\"1\" class=\"dataframe\">\n",
       "  <thead>\n",
       "    <tr style=\"text-align: right;\">\n",
       "      <th></th>\n",
       "      <th>mean_fit_time</th>\n",
       "      <th>std_fit_time</th>\n",
       "      <th>mean_score_time</th>\n",
       "      <th>std_score_time</th>\n",
       "      <th>param_C</th>\n",
       "      <th>param_degree</th>\n",
       "      <th>params</th>\n",
       "      <th>split0_test_score</th>\n",
       "      <th>split1_test_score</th>\n",
       "      <th>split2_test_score</th>\n",
       "      <th>mean_test_score</th>\n",
       "      <th>std_test_score</th>\n",
       "      <th>rank_test_score</th>\n",
       "      <th>split0_train_score</th>\n",
       "      <th>split1_train_score</th>\n",
       "      <th>split2_train_score</th>\n",
       "      <th>mean_train_score</th>\n",
       "      <th>std_train_score</th>\n",
       "    </tr>\n",
       "  </thead>\n",
       "  <tbody>\n",
       "    <tr>\n",
       "      <th>0</th>\n",
       "      <td>0.055189</td>\n",
       "      <td>0.003415</td>\n",
       "      <td>0.009891</td>\n",
       "      <td>4.133651e-03</td>\n",
       "      <td>1</td>\n",
       "      <td>1</td>\n",
       "      <td>{'C': 1, 'degree': 1}</td>\n",
       "      <td>0.713477</td>\n",
       "      <td>0.727243</td>\n",
       "      <td>0.739547</td>\n",
       "      <td>0.726756</td>\n",
       "      <td>0.010649</td>\n",
       "      <td>6</td>\n",
       "      <td>0.737613</td>\n",
       "      <td>0.739215</td>\n",
       "      <td>0.725262</td>\n",
       "      <td>0.734030</td>\n",
       "      <td>0.006234</td>\n",
       "    </tr>\n",
       "    <tr>\n",
       "      <th>1</th>\n",
       "      <td>0.054231</td>\n",
       "      <td>0.001244</td>\n",
       "      <td>0.031244</td>\n",
       "      <td>2.209192e-02</td>\n",
       "      <td>1</td>\n",
       "      <td>3</td>\n",
       "      <td>{'C': 1, 'degree': 3}</td>\n",
       "      <td>0.738328</td>\n",
       "      <td>0.760574</td>\n",
       "      <td>0.766010</td>\n",
       "      <td>0.754971</td>\n",
       "      <td>0.011976</td>\n",
       "      <td>5</td>\n",
       "      <td>0.781862</td>\n",
       "      <td>0.781485</td>\n",
       "      <td>0.777130</td>\n",
       "      <td>0.780159</td>\n",
       "      <td>0.002148</td>\n",
       "    </tr>\n",
       "    <tr>\n",
       "      <th>2</th>\n",
       "      <td>0.087781</td>\n",
       "      <td>0.021316</td>\n",
       "      <td>0.015621</td>\n",
       "      <td>1.857014e-06</td>\n",
       "      <td>10</td>\n",
       "      <td>1</td>\n",
       "      <td>{'C': 10, 'degree': 1}</td>\n",
       "      <td>0.782647</td>\n",
       "      <td>0.782088</td>\n",
       "      <td>0.791873</td>\n",
       "      <td>0.785536</td>\n",
       "      <td>0.004487</td>\n",
       "      <td>4</td>\n",
       "      <td>0.801161</td>\n",
       "      <td>0.797594</td>\n",
       "      <td>0.790903</td>\n",
       "      <td>0.796552</td>\n",
       "      <td>0.004252</td>\n",
       "    </tr>\n",
       "    <tr>\n",
       "      <th>3</th>\n",
       "      <td>0.109349</td>\n",
       "      <td>0.000001</td>\n",
       "      <td>0.020828</td>\n",
       "      <td>7.363841e-03</td>\n",
       "      <td>10</td>\n",
       "      <td>3</td>\n",
       "      <td>{'C': 10, 'degree': 3}</td>\n",
       "      <td>0.805368</td>\n",
       "      <td>0.805718</td>\n",
       "      <td>0.802802</td>\n",
       "      <td>0.804630</td>\n",
       "      <td>0.001300</td>\n",
       "      <td>2</td>\n",
       "      <td>0.871103</td>\n",
       "      <td>0.868348</td>\n",
       "      <td>0.865924</td>\n",
       "      <td>0.868458</td>\n",
       "      <td>0.002116</td>\n",
       "    </tr>\n",
       "    <tr>\n",
       "      <th>4</th>\n",
       "      <td>0.151014</td>\n",
       "      <td>0.019488</td>\n",
       "      <td>0.020821</td>\n",
       "      <td>7.361033e-03</td>\n",
       "      <td>100</td>\n",
       "      <td>1</td>\n",
       "      <td>{'C': 100, 'degree': 1}</td>\n",
       "      <td>0.781732</td>\n",
       "      <td>0.789267</td>\n",
       "      <td>0.792321</td>\n",
       "      <td>0.787773</td>\n",
       "      <td>0.004450</td>\n",
       "      <td>3</td>\n",
       "      <td>0.808159</td>\n",
       "      <td>0.804648</td>\n",
       "      <td>0.794842</td>\n",
       "      <td>0.802550</td>\n",
       "      <td>0.005636</td>\n",
       "    </tr>\n",
       "    <tr>\n",
       "      <th>5</th>\n",
       "      <td>0.359291</td>\n",
       "      <td>0.022092</td>\n",
       "      <td>0.015621</td>\n",
       "      <td>3.371748e-07</td>\n",
       "      <td>100</td>\n",
       "      <td>3</td>\n",
       "      <td>{'C': 100, 'degree': 3}</td>\n",
       "      <td>0.807252</td>\n",
       "      <td>0.817907</td>\n",
       "      <td>0.819477</td>\n",
       "      <td>0.814879</td>\n",
       "      <td>0.005431</td>\n",
       "      <td>1</td>\n",
       "      <td>0.947302</td>\n",
       "      <td>0.943471</td>\n",
       "      <td>0.936893</td>\n",
       "      <td>0.942555</td>\n",
       "      <td>0.004298</td>\n",
       "    </tr>\n",
       "  </tbody>\n",
       "</table>\n",
       "</div>"
      ],
      "text/plain": [
       "   mean_fit_time  std_fit_time  mean_score_time  std_score_time param_C  \\\n",
       "0       0.055189      0.003415         0.009891    4.133651e-03       1   \n",
       "1       0.054231      0.001244         0.031244    2.209192e-02       1   \n",
       "2       0.087781      0.021316         0.015621    1.857014e-06      10   \n",
       "3       0.109349      0.000001         0.020828    7.363841e-03      10   \n",
       "4       0.151014      0.019488         0.020821    7.361033e-03     100   \n",
       "5       0.359291      0.022092         0.015621    3.371748e-07     100   \n",
       "\n",
       "  param_degree                   params  split0_test_score  split1_test_score  \\\n",
       "0            1    {'C': 1, 'degree': 1}           0.713477           0.727243   \n",
       "1            3    {'C': 1, 'degree': 3}           0.738328           0.760574   \n",
       "2            1   {'C': 10, 'degree': 1}           0.782647           0.782088   \n",
       "3            3   {'C': 10, 'degree': 3}           0.805368           0.805718   \n",
       "4            1  {'C': 100, 'degree': 1}           0.781732           0.789267   \n",
       "5            3  {'C': 100, 'degree': 3}           0.807252           0.817907   \n",
       "\n",
       "   split2_test_score  mean_test_score  std_test_score  rank_test_score  \\\n",
       "0           0.739547         0.726756        0.010649                6   \n",
       "1           0.766010         0.754971        0.011976                5   \n",
       "2           0.791873         0.785536        0.004487                4   \n",
       "3           0.802802         0.804630        0.001300                2   \n",
       "4           0.792321         0.787773        0.004450                3   \n",
       "5           0.819477         0.814879        0.005431                1   \n",
       "\n",
       "   split0_train_score  split1_train_score  split2_train_score  \\\n",
       "0            0.737613            0.739215            0.725262   \n",
       "1            0.781862            0.781485            0.777130   \n",
       "2            0.801161            0.797594            0.790903   \n",
       "3            0.871103            0.868348            0.865924   \n",
       "4            0.808159            0.804648            0.794842   \n",
       "5            0.947302            0.943471            0.936893   \n",
       "\n",
       "   mean_train_score  std_train_score  \n",
       "0          0.734030         0.006234  \n",
       "1          0.780159         0.002148  \n",
       "2          0.796552         0.004252  \n",
       "3          0.868458         0.002116  \n",
       "4          0.802550         0.005636  \n",
       "5          0.942555         0.004298  "
      ]
     },
     "execution_count": 62,
     "metadata": {},
     "output_type": "execute_result"
    }
   ],
   "source": [
    "print(\"Best parameters: {}\".format(grid_svr_poly.best_params_))\n",
    "print(\"Best cross-validation score: {:.4f}\".format(grid_svr_poly.best_score_))\n",
    "pd.DataFrame(grid_svr_poly.cv_results_)"
   ]
  },
  {
   "cell_type": "markdown",
   "metadata": {},
   "source": [
    "C=100 and degree =3 is run with poly kernel"
   ]
  },
  {
   "cell_type": "code",
   "execution_count": 63,
   "metadata": {},
   "outputs": [
    {
     "data": {
      "text/plain": [
       "0.8130048785997941"
      ]
     },
     "execution_count": 63,
     "metadata": {},
     "output_type": "execute_result"
    }
   ],
   "source": [
    "# svm poly is run with c=100, degree=3\n",
    "svr_p = SVR(kernel='poly',C=100,degree = 3)\n",
    "svr_p.fit(X_train, y_train)\n",
    "svr_p.score(X_train, y_train)\n",
    "svr_p.score(X_test, y_test)"
   ]
  },
  {
   "cell_type": "code",
   "execution_count": 64,
   "metadata": {},
   "outputs": [
    {
     "name": "stdout",
     "output_type": "stream",
     "text": [
      "Cross-validation scores:\n",
      "[0.77701791 0.8448449  0.85448195 0.85032265 0.87026105 0.8304498 ]\n",
      "0.8378963776022396\n"
     ]
    }
   ],
   "source": [
    "from sklearn.model_selection import KFold\n",
    "from sklearn.model_selection import cross_val_score\n",
    "#scores = cross_val_score(logreg, iris.data, iris.target)\n",
    "kfold = KFold(n_splits=6)\n",
    "print(\"Cross-validation scores:\\n{}\".format(cross_val_score(svr_p, X_train, y_train, cv=kfold)))\n",
    "scores = cross_val_score(svr_p, X_train, y_train, cv=kfold)\n",
    "print(np.mean(scores))"
   ]
  },
  {
   "cell_type": "code",
   "execution_count": 65,
   "metadata": {},
   "outputs": [
    {
     "data": {
      "text/html": [
       "<div>\n",
       "<style scoped>\n",
       "    .dataframe tbody tr th:only-of-type {\n",
       "        vertical-align: middle;\n",
       "    }\n",
       "\n",
       "    .dataframe tbody tr th {\n",
       "        vertical-align: top;\n",
       "    }\n",
       "\n",
       "    .dataframe thead th {\n",
       "        text-align: right;\n",
       "    }\n",
       "</style>\n",
       "<table border=\"1\" class=\"dataframe\">\n",
       "  <thead>\n",
       "    <tr style=\"text-align: right;\">\n",
       "      <th></th>\n",
       "      <th>mean_fit_time</th>\n",
       "      <th>std_fit_time</th>\n",
       "      <th>mean_score_time</th>\n",
       "      <th>std_score_time</th>\n",
       "      <th>param_C</th>\n",
       "      <th>param_degree</th>\n",
       "      <th>params</th>\n",
       "      <th>split0_test_score</th>\n",
       "      <th>split1_test_score</th>\n",
       "      <th>split2_test_score</th>\n",
       "      <th>mean_test_score</th>\n",
       "      <th>std_test_score</th>\n",
       "      <th>rank_test_score</th>\n",
       "      <th>split0_train_score</th>\n",
       "      <th>split1_train_score</th>\n",
       "      <th>split2_train_score</th>\n",
       "      <th>mean_train_score</th>\n",
       "      <th>std_train_score</th>\n",
       "    </tr>\n",
       "  </thead>\n",
       "  <tbody>\n",
       "    <tr>\n",
       "      <th>0</th>\n",
       "      <td>0.055189</td>\n",
       "      <td>0.003415</td>\n",
       "      <td>0.009891</td>\n",
       "      <td>4.133651e-03</td>\n",
       "      <td>1</td>\n",
       "      <td>1</td>\n",
       "      <td>{'C': 1, 'degree': 1}</td>\n",
       "      <td>0.713477</td>\n",
       "      <td>0.727243</td>\n",
       "      <td>0.739547</td>\n",
       "      <td>0.726756</td>\n",
       "      <td>0.010649</td>\n",
       "      <td>6</td>\n",
       "      <td>0.737613</td>\n",
       "      <td>0.739215</td>\n",
       "      <td>0.725262</td>\n",
       "      <td>0.734030</td>\n",
       "      <td>0.006234</td>\n",
       "    </tr>\n",
       "    <tr>\n",
       "      <th>1</th>\n",
       "      <td>0.054231</td>\n",
       "      <td>0.001244</td>\n",
       "      <td>0.031244</td>\n",
       "      <td>2.209192e-02</td>\n",
       "      <td>1</td>\n",
       "      <td>3</td>\n",
       "      <td>{'C': 1, 'degree': 3}</td>\n",
       "      <td>0.738328</td>\n",
       "      <td>0.760574</td>\n",
       "      <td>0.766010</td>\n",
       "      <td>0.754971</td>\n",
       "      <td>0.011976</td>\n",
       "      <td>5</td>\n",
       "      <td>0.781862</td>\n",
       "      <td>0.781485</td>\n",
       "      <td>0.777130</td>\n",
       "      <td>0.780159</td>\n",
       "      <td>0.002148</td>\n",
       "    </tr>\n",
       "    <tr>\n",
       "      <th>2</th>\n",
       "      <td>0.087781</td>\n",
       "      <td>0.021316</td>\n",
       "      <td>0.015621</td>\n",
       "      <td>1.857014e-06</td>\n",
       "      <td>10</td>\n",
       "      <td>1</td>\n",
       "      <td>{'C': 10, 'degree': 1}</td>\n",
       "      <td>0.782647</td>\n",
       "      <td>0.782088</td>\n",
       "      <td>0.791873</td>\n",
       "      <td>0.785536</td>\n",
       "      <td>0.004487</td>\n",
       "      <td>4</td>\n",
       "      <td>0.801161</td>\n",
       "      <td>0.797594</td>\n",
       "      <td>0.790903</td>\n",
       "      <td>0.796552</td>\n",
       "      <td>0.004252</td>\n",
       "    </tr>\n",
       "    <tr>\n",
       "      <th>3</th>\n",
       "      <td>0.109349</td>\n",
       "      <td>0.000001</td>\n",
       "      <td>0.020828</td>\n",
       "      <td>7.363841e-03</td>\n",
       "      <td>10</td>\n",
       "      <td>3</td>\n",
       "      <td>{'C': 10, 'degree': 3}</td>\n",
       "      <td>0.805368</td>\n",
       "      <td>0.805718</td>\n",
       "      <td>0.802802</td>\n",
       "      <td>0.804630</td>\n",
       "      <td>0.001300</td>\n",
       "      <td>2</td>\n",
       "      <td>0.871103</td>\n",
       "      <td>0.868348</td>\n",
       "      <td>0.865924</td>\n",
       "      <td>0.868458</td>\n",
       "      <td>0.002116</td>\n",
       "    </tr>\n",
       "    <tr>\n",
       "      <th>4</th>\n",
       "      <td>0.151014</td>\n",
       "      <td>0.019488</td>\n",
       "      <td>0.020821</td>\n",
       "      <td>7.361033e-03</td>\n",
       "      <td>100</td>\n",
       "      <td>1</td>\n",
       "      <td>{'C': 100, 'degree': 1}</td>\n",
       "      <td>0.781732</td>\n",
       "      <td>0.789267</td>\n",
       "      <td>0.792321</td>\n",
       "      <td>0.787773</td>\n",
       "      <td>0.004450</td>\n",
       "      <td>3</td>\n",
       "      <td>0.808159</td>\n",
       "      <td>0.804648</td>\n",
       "      <td>0.794842</td>\n",
       "      <td>0.802550</td>\n",
       "      <td>0.005636</td>\n",
       "    </tr>\n",
       "    <tr>\n",
       "      <th>5</th>\n",
       "      <td>0.359291</td>\n",
       "      <td>0.022092</td>\n",
       "      <td>0.015621</td>\n",
       "      <td>3.371748e-07</td>\n",
       "      <td>100</td>\n",
       "      <td>3</td>\n",
       "      <td>{'C': 100, 'degree': 3}</td>\n",
       "      <td>0.807252</td>\n",
       "      <td>0.817907</td>\n",
       "      <td>0.819477</td>\n",
       "      <td>0.814879</td>\n",
       "      <td>0.005431</td>\n",
       "      <td>1</td>\n",
       "      <td>0.947302</td>\n",
       "      <td>0.943471</td>\n",
       "      <td>0.936893</td>\n",
       "      <td>0.942555</td>\n",
       "      <td>0.004298</td>\n",
       "    </tr>\n",
       "  </tbody>\n",
       "</table>\n",
       "</div>"
      ],
      "text/plain": [
       "   mean_fit_time  std_fit_time  mean_score_time  std_score_time param_C  \\\n",
       "0       0.055189      0.003415         0.009891    4.133651e-03       1   \n",
       "1       0.054231      0.001244         0.031244    2.209192e-02       1   \n",
       "2       0.087781      0.021316         0.015621    1.857014e-06      10   \n",
       "3       0.109349      0.000001         0.020828    7.363841e-03      10   \n",
       "4       0.151014      0.019488         0.020821    7.361033e-03     100   \n",
       "5       0.359291      0.022092         0.015621    3.371748e-07     100   \n",
       "\n",
       "  param_degree                   params  split0_test_score  split1_test_score  \\\n",
       "0            1    {'C': 1, 'degree': 1}           0.713477           0.727243   \n",
       "1            3    {'C': 1, 'degree': 3}           0.738328           0.760574   \n",
       "2            1   {'C': 10, 'degree': 1}           0.782647           0.782088   \n",
       "3            3   {'C': 10, 'degree': 3}           0.805368           0.805718   \n",
       "4            1  {'C': 100, 'degree': 1}           0.781732           0.789267   \n",
       "5            3  {'C': 100, 'degree': 3}           0.807252           0.817907   \n",
       "\n",
       "   split2_test_score  mean_test_score  std_test_score  rank_test_score  \\\n",
       "0           0.739547         0.726756        0.010649                6   \n",
       "1           0.766010         0.754971        0.011976                5   \n",
       "2           0.791873         0.785536        0.004487                4   \n",
       "3           0.802802         0.804630        0.001300                2   \n",
       "4           0.792321         0.787773        0.004450                3   \n",
       "5           0.819477         0.814879        0.005431                1   \n",
       "\n",
       "   split0_train_score  split1_train_score  split2_train_score  \\\n",
       "0            0.737613            0.739215            0.725262   \n",
       "1            0.781862            0.781485            0.777130   \n",
       "2            0.801161            0.797594            0.790903   \n",
       "3            0.871103            0.868348            0.865924   \n",
       "4            0.808159            0.804648            0.794842   \n",
       "5            0.947302            0.943471            0.936893   \n",
       "\n",
       "   mean_train_score  std_train_score  \n",
       "0          0.734030         0.006234  \n",
       "1          0.780159         0.002148  \n",
       "2          0.796552         0.004252  \n",
       "3          0.868458         0.002116  \n",
       "4          0.802550         0.005636  \n",
       "5          0.942555         0.004298  "
      ]
     },
     "execution_count": 65,
     "metadata": {},
     "output_type": "execute_result"
    }
   ],
   "source": [
    "result_svr_poly= pd.DataFrame(grid_svr_poly.cv_results_)\n",
    "result_svr_poly"
   ]
  },
  {
   "cell_type": "code",
   "execution_count": 66,
   "metadata": {},
   "outputs": [
    {
     "data": {
      "text/plain": [
       "<matplotlib.legend.Legend at 0x252e9105d08>"
      ]
     },
     "execution_count": 66,
     "metadata": {},
     "output_type": "execute_result"
    },
    {
     "data": {
      "image/png": "[encoded data removed]",
      "text/plain": [
       "<Figure size 432x288 with 1 Axes>"
      ]
     },
     "metadata": {
      "needs_background": "light"
     },
     "output_type": "display_data"
    }
   ],
   "source": [
    "plt.plot(range(result_svr_poly.shape[0]), result_svr_poly['mean_train_score'], label = 'mean train score')\n",
    "plt.plot(range(result_svr_poly.shape[0]), result_svr_poly['mean_test_score'], label = 'mean test score')\n",
    "plt.xticks(range(result_svr_poly.shape[0]), result_svr_poly['param_C'], rotation = 90)\n",
    "plt.plot([grid_svr_poly.best_index_], result_svr_poly['mean_train_score'][grid_svr_poly.best_index_], 'o', markersize = 10, fillstyle = \"none\")\n",
    "plt.plot([grid_svr_poly.best_index_], result_svr_poly['mean_test_score'][grid_svr_poly.best_index_], 'o', markersize = 10, fillstyle = \"none\")\n",
    "plt.grid()\n",
    "plt.legend()"
   ]
  },
  {
   "cell_type": "code",
   "execution_count": 67,
   "metadata": {},
   "outputs": [
    {
     "name": "stdout",
     "output_type": "stream",
     "text": [
      "Accuracy: 77.86 %\n"
     ]
    }
   ],
   "source": [
    "#calculating the accuracy\n",
    "ksvmp_accuracies = cross_val_score(estimator = svr_p, X = X_train, y = y_train, cv = 2)\n",
    "print(\"Accuracy: {:.2f} %\".format(ksvmp_accuracies.mean()*100))"
   ]
  },
  {
   "cell_type": "markdown",
   "metadata": {},
   "source": [
    "### SVR Kernal with 'rbf'\n",
    "has  a c and a penalising factor"
   ]
  },
  {
   "cell_type": "code",
   "execution_count": 68,
   "metadata": {},
   "outputs": [],
   "source": [
    "#grid params are created\n",
    "grid_parms_rbf = {'C': [0.1, 1, 10, 100],'gamma':[0.1, 1, 10, 100]}"
   ]
  },
  {
   "cell_type": "code",
   "execution_count": 69,
   "metadata": {},
   "outputs": [],
   "source": [
    "# rbf kernel is created\n",
    "svr_rbf = SVR(kernel='rbf')\n",
    "grid_svr_rbf = GridSearchCV(estimator = svr_rbf,param_grid = grid_parms_rbf,return_train_score=True,n_jobs= -1,cv=3)"
   ]
  },
  {
   "cell_type": "code",
   "execution_count": 70,
   "metadata": {},
   "outputs": [
    {
     "data": {
      "text/plain": [
       "GridSearchCV(cv=3, error_score=nan,\n",
       "             estimator=SVR(C=1.0, cache_size=200, coef0=0.0, degree=3,\n",
       "                           epsilon=0.1, gamma='scale', kernel='rbf',\n",
       "                           max_iter=-1, shrinking=True, tol=0.001,\n",
       "                           verbose=False),\n",
       "             iid='deprecated', n_jobs=-1,\n",
       "             param_grid={'C': [0.1, 1, 10, 100], 'gamma': [0.1, 1, 10, 100]},\n",
       "             pre_dispatch='2*n_jobs', refit=True, return_train_score=True,\n",
       "             scoring=None, verbose=0)"
      ]
     },
     "execution_count": 70,
     "metadata": {},
     "output_type": "execute_result"
    }
   ],
   "source": [
    "#svm kernel is fit on train\n",
    "grid_svr_rbf.fit(X_train,y_train)"
   ]
  },
  {
   "cell_type": "code",
   "execution_count": 71,
   "metadata": {},
   "outputs": [
    {
     "name": "stdout",
     "output_type": "stream",
     "text": [
      "Best parameters: {'C': 100, 'gamma': 0.1}\n",
      "Best cross-validation score: 0.8365\n"
     ]
    }
   ],
   "source": [
    "print(\"Best parameters: {}\".format(grid_svr_rbf.best_params_))\n",
    "print(\"Best cross-validation score: {:.4f}\".format(grid_svr_rbf.best_score_))"
   ]
  },
  {
   "cell_type": "markdown",
   "metadata": {},
   "source": [
    "Best parameter c=100, gamma:0.1 is used"
   ]
  },
  {
   "cell_type": "code",
   "execution_count": 72,
   "metadata": {},
   "outputs": [
    {
     "data": {
      "text/plain": [
       "0.8437185943204758"
      ]
     },
     "execution_count": 72,
     "metadata": {},
     "output_type": "execute_result"
    }
   ],
   "source": [
    "#svm is run with the best params\n",
    "svr_rbf = SVR(kernel='rbf',C=100,gamma=0.1)\n",
    "svr_rbf.fit(X_train, y_train)\n",
    "svr_rbf.score(X_train, y_train)\n",
    "svr_rbf.score(X_test, y_test)"
   ]
  },
  {
   "cell_type": "code",
   "execution_count": 73,
   "metadata": {},
   "outputs": [
    {
     "name": "stdout",
     "output_type": "stream",
     "text": [
      "Cross-validation scores:\n",
      "[0.81434111 0.8484286  0.82455796 0.85511342 0.86504082 0.8498043 ]\n",
      "0.84288103462407\n"
     ]
    }
   ],
   "source": [
    "#k fold validation is done\n",
    "from sklearn.model_selection import KFold\n",
    "from sklearn.model_selection import cross_val_score\n",
    "kfold = KFold(n_splits=6)\n",
    "print(\"Cross-validation scores:\\n{}\".format(cross_val_score(svr_rbf, X_train, y_train, cv=kfold)))\n",
    "scores = cross_val_score(svr_rbf, X_train, y_train, cv=kfold)\n",
    "print(np.mean(scores))"
   ]
  },
  {
   "cell_type": "code",
   "execution_count": 74,
   "metadata": {},
   "outputs": [
    {
     "data": {
      "text/html": [
       "<div>\n",
       "<style scoped>\n",
       "    .dataframe tbody tr th:only-of-type {\n",
       "        vertical-align: middle;\n",
       "    }\n",
       "\n",
       "    .dataframe tbody tr th {\n",
       "        vertical-align: top;\n",
       "    }\n",
       "\n",
       "    .dataframe thead th {\n",
       "        text-align: right;\n",
       "    }\n",
       "</style>\n",
       "<table border=\"1\" class=\"dataframe\">\n",
       "  <thead>\n",
       "    <tr style=\"text-align: right;\">\n",
       "      <th></th>\n",
       "      <th>mean_fit_time</th>\n",
       "      <th>std_fit_time</th>\n",
       "      <th>mean_score_time</th>\n",
       "      <th>std_score_time</th>\n",
       "      <th>param_C</th>\n",
       "      <th>param_gamma</th>\n",
       "      <th>params</th>\n",
       "      <th>split0_test_score</th>\n",
       "      <th>split1_test_score</th>\n",
       "      <th>split2_test_score</th>\n",
       "      <th>mean_test_score</th>\n",
       "      <th>std_test_score</th>\n",
       "      <th>rank_test_score</th>\n",
       "      <th>split0_train_score</th>\n",
       "      <th>split1_train_score</th>\n",
       "      <th>split2_train_score</th>\n",
       "      <th>mean_train_score</th>\n",
       "      <th>std_train_score</th>\n",
       "    </tr>\n",
       "  </thead>\n",
       "  <tbody>\n",
       "    <tr>\n",
       "      <th>0</th>\n",
       "      <td>0.071152</td>\n",
       "      <td>4.031929e-03</td>\n",
       "      <td>0.028725</td>\n",
       "      <td>1.285336e-02</td>\n",
       "      <td>0.1</td>\n",
       "      <td>0.1</td>\n",
       "      <td>{'C': 0.1, 'gamma': 0.1}</td>\n",
       "      <td>0.205970</td>\n",
       "      <td>0.194301</td>\n",
       "      <td>0.182884</td>\n",
       "      <td>0.194385</td>\n",
       "      <td>0.009425</td>\n",
       "      <td>9</td>\n",
       "      <td>0.218345</td>\n",
       "      <td>0.198564</td>\n",
       "      <td>0.177066</td>\n",
       "      <td>0.197991</td>\n",
       "      <td>1.685706e-02</td>\n",
       "    </tr>\n",
       "    <tr>\n",
       "      <th>1</th>\n",
       "      <td>0.082817</td>\n",
       "      <td>1.450693e-02</td>\n",
       "      <td>0.020829</td>\n",
       "      <td>7.364291e-03</td>\n",
       "      <td>0.1</td>\n",
       "      <td>1</td>\n",
       "      <td>{'C': 0.1, 'gamma': 1}</td>\n",
       "      <td>0.107500</td>\n",
       "      <td>0.093024</td>\n",
       "      <td>0.075152</td>\n",
       "      <td>0.091892</td>\n",
       "      <td>0.013230</td>\n",
       "      <td>10</td>\n",
       "      <td>0.118506</td>\n",
       "      <td>0.107117</td>\n",
       "      <td>0.089050</td>\n",
       "      <td>0.104891</td>\n",
       "      <td>1.212788e-02</td>\n",
       "    </tr>\n",
       "    <tr>\n",
       "      <th>2</th>\n",
       "      <td>0.109054</td>\n",
       "      <td>1.371924e-02</td>\n",
       "      <td>0.020828</td>\n",
       "      <td>7.365302e-03</td>\n",
       "      <td>0.1</td>\n",
       "      <td>10</td>\n",
       "      <td>{'C': 0.1, 'gamma': 10}</td>\n",
       "      <td>-0.052917</td>\n",
       "      <td>-0.064603</td>\n",
       "      <td>-0.084735</td>\n",
       "      <td>-0.067418</td>\n",
       "      <td>0.013141</td>\n",
       "      <td>14</td>\n",
       "      <td>-0.039915</td>\n",
       "      <td>-0.050002</td>\n",
       "      <td>-0.063458</td>\n",
       "      <td>-0.051125</td>\n",
       "      <td>9.644315e-03</td>\n",
       "    </tr>\n",
       "    <tr>\n",
       "      <th>3</th>\n",
       "      <td>0.098934</td>\n",
       "      <td>4.100098e-02</td>\n",
       "      <td>0.036449</td>\n",
       "      <td>1.948387e-02</td>\n",
       "      <td>0.1</td>\n",
       "      <td>100</td>\n",
       "      <td>{'C': 0.1, 'gamma': 100}</td>\n",
       "      <td>-0.065537</td>\n",
       "      <td>-0.076694</td>\n",
       "      <td>-0.096042</td>\n",
       "      <td>-0.079424</td>\n",
       "      <td>0.012602</td>\n",
       "      <td>16</td>\n",
       "      <td>-0.051703</td>\n",
       "      <td>-0.060815</td>\n",
       "      <td>-0.075964</td>\n",
       "      <td>-0.062827</td>\n",
       "      <td>1.000620e-02</td>\n",
       "    </tr>\n",
       "    <tr>\n",
       "      <th>4</th>\n",
       "      <td>0.104146</td>\n",
       "      <td>7.366035e-03</td>\n",
       "      <td>0.057274</td>\n",
       "      <td>2.654645e-02</td>\n",
       "      <td>1</td>\n",
       "      <td>0.1</td>\n",
       "      <td>{'C': 1, 'gamma': 0.1}</td>\n",
       "      <td>0.676014</td>\n",
       "      <td>0.687840</td>\n",
       "      <td>0.699335</td>\n",
       "      <td>0.687729</td>\n",
       "      <td>0.009521</td>\n",
       "      <td>5</td>\n",
       "      <td>0.704595</td>\n",
       "      <td>0.699479</td>\n",
       "      <td>0.685472</td>\n",
       "      <td>0.696515</td>\n",
       "      <td>8.083482e-03</td>\n",
       "    </tr>\n",
       "    <tr>\n",
       "      <th>5</th>\n",
       "      <td>0.096692</td>\n",
       "      <td>3.116402e-02</td>\n",
       "      <td>0.042930</td>\n",
       "      <td>1.652730e-02</td>\n",
       "      <td>1</td>\n",
       "      <td>1</td>\n",
       "      <td>{'C': 1, 'gamma': 1}</td>\n",
       "      <td>0.630480</td>\n",
       "      <td>0.628598</td>\n",
       "      <td>0.624711</td>\n",
       "      <td>0.627930</td>\n",
       "      <td>0.002402</td>\n",
       "      <td>6</td>\n",
       "      <td>0.681413</td>\n",
       "      <td>0.680426</td>\n",
       "      <td>0.665199</td>\n",
       "      <td>0.675679</td>\n",
       "      <td>7.421829e-03</td>\n",
       "    </tr>\n",
       "    <tr>\n",
       "      <th>6</th>\n",
       "      <td>0.083279</td>\n",
       "      <td>7.380983e-03</td>\n",
       "      <td>0.026036</td>\n",
       "      <td>7.362886e-03</td>\n",
       "      <td>1</td>\n",
       "      <td>10</td>\n",
       "      <td>{'C': 1, 'gamma': 10}</td>\n",
       "      <td>0.045873</td>\n",
       "      <td>0.048247</td>\n",
       "      <td>0.018858</td>\n",
       "      <td>0.037660</td>\n",
       "      <td>0.013330</td>\n",
       "      <td>11</td>\n",
       "      <td>0.183775</td>\n",
       "      <td>0.178112</td>\n",
       "      <td>0.177399</td>\n",
       "      <td>0.179762</td>\n",
       "      <td>2.852534e-03</td>\n",
       "    </tr>\n",
       "    <tr>\n",
       "      <th>7</th>\n",
       "      <td>0.081791</td>\n",
       "      <td>8.644008e-03</td>\n",
       "      <td>0.031243</td>\n",
       "      <td>1.403771e-06</td>\n",
       "      <td>1</td>\n",
       "      <td>100</td>\n",
       "      <td>{'C': 1, 'gamma': 100}</td>\n",
       "      <td>-0.062100</td>\n",
       "      <td>-0.071709</td>\n",
       "      <td>-0.092622</td>\n",
       "      <td>-0.075477</td>\n",
       "      <td>0.012742</td>\n",
       "      <td>15</td>\n",
       "      <td>0.091486</td>\n",
       "      <td>0.082132</td>\n",
       "      <td>0.066568</td>\n",
       "      <td>0.080062</td>\n",
       "      <td>1.027744e-02</td>\n",
       "    </tr>\n",
       "    <tr>\n",
       "      <th>8</th>\n",
       "      <td>0.097109</td>\n",
       "      <td>1.311219e-02</td>\n",
       "      <td>0.046864</td>\n",
       "      <td>6.257699e-07</td>\n",
       "      <td>10</td>\n",
       "      <td>0.1</td>\n",
       "      <td>{'C': 10, 'gamma': 0.1}</td>\n",
       "      <td>0.804398</td>\n",
       "      <td>0.799159</td>\n",
       "      <td>0.816324</td>\n",
       "      <td>0.806627</td>\n",
       "      <td>0.007183</td>\n",
       "      <td>2</td>\n",
       "      <td>0.830389</td>\n",
       "      <td>0.829842</td>\n",
       "      <td>0.818442</td>\n",
       "      <td>0.826224</td>\n",
       "      <td>5.507144e-03</td>\n",
       "    </tr>\n",
       "    <tr>\n",
       "      <th>9</th>\n",
       "      <td>0.129153</td>\n",
       "      <td>2.800608e-02</td>\n",
       "      <td>0.031243</td>\n",
       "      <td>9.798072e-07</td>\n",
       "      <td>10</td>\n",
       "      <td>1</td>\n",
       "      <td>{'C': 10, 'gamma': 1}</td>\n",
       "      <td>0.797272</td>\n",
       "      <td>0.779430</td>\n",
       "      <td>0.795597</td>\n",
       "      <td>0.790766</td>\n",
       "      <td>0.008045</td>\n",
       "      <td>3</td>\n",
       "      <td>0.925280</td>\n",
       "      <td>0.926094</td>\n",
       "      <td>0.921315</td>\n",
       "      <td>0.924230</td>\n",
       "      <td>2.087658e-03</td>\n",
       "    </tr>\n",
       "    <tr>\n",
       "      <th>10</th>\n",
       "      <td>0.109350</td>\n",
       "      <td>1.946680e-07</td>\n",
       "      <td>0.046863</td>\n",
       "      <td>2.209091e-02</td>\n",
       "      <td>10</td>\n",
       "      <td>10</td>\n",
       "      <td>{'C': 10, 'gamma': 10}</td>\n",
       "      <td>0.316968</td>\n",
       "      <td>0.342667</td>\n",
       "      <td>0.291284</td>\n",
       "      <td>0.316973</td>\n",
       "      <td>0.020977</td>\n",
       "      <td>8</td>\n",
       "      <td>0.912056</td>\n",
       "      <td>0.908021</td>\n",
       "      <td>0.915556</td>\n",
       "      <td>0.911878</td>\n",
       "      <td>3.078518e-03</td>\n",
       "    </tr>\n",
       "    <tr>\n",
       "      <th>11</th>\n",
       "      <td>0.141324</td>\n",
       "      <td>2.262669e-02</td>\n",
       "      <td>0.031243</td>\n",
       "      <td>7.867412e-07</td>\n",
       "      <td>10</td>\n",
       "      <td>100</td>\n",
       "      <td>{'C': 10, 'gamma': 100}</td>\n",
       "      <td>0.003757</td>\n",
       "      <td>0.004545</td>\n",
       "      <td>-0.001459</td>\n",
       "      <td>0.002281</td>\n",
       "      <td>0.002664</td>\n",
       "      <td>13</td>\n",
       "      <td>0.857624</td>\n",
       "      <td>0.854386</td>\n",
       "      <td>0.856473</td>\n",
       "      <td>0.856161</td>\n",
       "      <td>1.339901e-03</td>\n",
       "    </tr>\n",
       "    <tr>\n",
       "      <th>12</th>\n",
       "      <td>0.164475</td>\n",
       "      <td>2.755086e-02</td>\n",
       "      <td>0.031243</td>\n",
       "      <td>3.371748e-07</td>\n",
       "      <td>100</td>\n",
       "      <td>0.1</td>\n",
       "      <td>{'C': 100, 'gamma': 0.1}</td>\n",
       "      <td>0.835084</td>\n",
       "      <td>0.831814</td>\n",
       "      <td>0.842526</td>\n",
       "      <td>0.836475</td>\n",
       "      <td>0.004482</td>\n",
       "      <td>1</td>\n",
       "      <td>0.889844</td>\n",
       "      <td>0.891336</td>\n",
       "      <td>0.887400</td>\n",
       "      <td>0.889526</td>\n",
       "      <td>1.622387e-03</td>\n",
       "    </tr>\n",
       "    <tr>\n",
       "      <th>13</th>\n",
       "      <td>0.236431</td>\n",
       "      <td>6.533246e-02</td>\n",
       "      <td>0.029460</td>\n",
       "      <td>1.838670e-03</td>\n",
       "      <td>100</td>\n",
       "      <td>1</td>\n",
       "      <td>{'C': 100, 'gamma': 1}</td>\n",
       "      <td>0.754731</td>\n",
       "      <td>0.773154</td>\n",
       "      <td>0.767180</td>\n",
       "      <td>0.765022</td>\n",
       "      <td>0.007675</td>\n",
       "      <td>4</td>\n",
       "      <td>0.990298</td>\n",
       "      <td>0.993430</td>\n",
       "      <td>0.986869</td>\n",
       "      <td>0.990199</td>\n",
       "      <td>2.679274e-03</td>\n",
       "    </tr>\n",
       "    <tr>\n",
       "      <th>14</th>\n",
       "      <td>0.139165</td>\n",
       "      <td>2.505133e-02</td>\n",
       "      <td>0.029043</td>\n",
       "      <td>3.109033e-03</td>\n",
       "      <td>100</td>\n",
       "      <td>10</td>\n",
       "      <td>{'C': 100, 'gamma': 10}</td>\n",
       "      <td>0.351896</td>\n",
       "      <td>0.378628</td>\n",
       "      <td>0.319721</td>\n",
       "      <td>0.350081</td>\n",
       "      <td>0.024083</td>\n",
       "      <td>7</td>\n",
       "      <td>0.999891</td>\n",
       "      <td>0.999889</td>\n",
       "      <td>0.999888</td>\n",
       "      <td>0.999889</td>\n",
       "      <td>1.269826e-06</td>\n",
       "    </tr>\n",
       "    <tr>\n",
       "      <th>15</th>\n",
       "      <td>0.104411</td>\n",
       "      <td>7.305179e-03</td>\n",
       "      <td>0.020828</td>\n",
       "      <td>7.363841e-03</td>\n",
       "      <td>100</td>\n",
       "      <td>100</td>\n",
       "      <td>{'C': 100, 'gamma': 100}</td>\n",
       "      <td>0.012189</td>\n",
       "      <td>0.016798</td>\n",
       "      <td>0.013006</td>\n",
       "      <td>0.013998</td>\n",
       "      <td>0.002008</td>\n",
       "      <td>12</td>\n",
       "      <td>0.999890</td>\n",
       "      <td>0.999889</td>\n",
       "      <td>0.999888</td>\n",
       "      <td>0.999889</td>\n",
       "      <td>9.352191e-07</td>\n",
       "    </tr>\n",
       "  </tbody>\n",
       "</table>\n",
       "</div>"
      ],
      "text/plain": [
       "    mean_fit_time  std_fit_time  mean_score_time  std_score_time param_C  \\\n",
       "0        0.071152  4.031929e-03         0.028725    1.285336e-02     0.1   \n",
       "1        0.082817  1.450693e-02         0.020829    7.364291e-03     0.1   \n",
       "2        0.109054  1.371924e-02         0.020828    7.365302e-03     0.1   \n",
       "3        0.098934  4.100098e-02         0.036449    1.948387e-02     0.1   \n",
       "4        0.104146  7.366035e-03         0.057274    2.654645e-02       1   \n",
       "5        0.096692  3.116402e-02         0.042930    1.652730e-02       1   \n",
       "6        0.083279  7.380983e-03         0.026036    7.362886e-03       1   \n",
       "7        0.081791  8.644008e-03         0.031243    1.403771e-06       1   \n",
       "8        0.097109  1.311219e-02         0.046864    6.257699e-07      10   \n",
       "9        0.129153  2.800608e-02         0.031243    9.798072e-07      10   \n",
       "10       0.109350  1.946680e-07         0.046863    2.209091e-02      10   \n",
       "11       0.141324  2.262669e-02         0.031243    7.867412e-07      10   \n",
       "12       0.164475  2.755086e-02         0.031243    3.371748e-07     100   \n",
       "13       0.236431  6.533246e-02         0.029460    1.838670e-03     100   \n",
       "14       0.139165  2.505133e-02         0.029043    3.109033e-03     100   \n",
       "15       0.104411  7.305179e-03         0.020828    7.363841e-03     100   \n",
       "\n",
       "   param_gamma                    params  split0_test_score  \\\n",
       "0          0.1  {'C': 0.1, 'gamma': 0.1}           0.205970   \n",
       "1            1    {'C': 0.1, 'gamma': 1}           0.107500   \n",
       "2           10   {'C': 0.1, 'gamma': 10}          -0.052917   \n",
       "3          100  {'C': 0.1, 'gamma': 100}          -0.065537   \n",
       "4          0.1    {'C': 1, 'gamma': 0.1}           0.676014   \n",
       "5            1      {'C': 1, 'gamma': 1}           0.630480   \n",
       "6           10     {'C': 1, 'gamma': 10}           0.045873   \n",
       "7          100    {'C': 1, 'gamma': 100}          -0.062100   \n",
       "8          0.1   {'C': 10, 'gamma': 0.1}           0.804398   \n",
       "9            1     {'C': 10, 'gamma': 1}           0.797272   \n",
       "10          10    {'C': 10, 'gamma': 10}           0.316968   \n",
       "11         100   {'C': 10, 'gamma': 100}           0.003757   \n",
       "12         0.1  {'C': 100, 'gamma': 0.1}           0.835084   \n",
       "13           1    {'C': 100, 'gamma': 1}           0.754731   \n",
       "14          10   {'C': 100, 'gamma': 10}           0.351896   \n",
       "15         100  {'C': 100, 'gamma': 100}           0.012189   \n",
       "\n",
       "    split1_test_score  split2_test_score  mean_test_score  std_test_score  \\\n",
       "0            0.194301           0.182884         0.194385        0.009425   \n",
       "1            0.093024           0.075152         0.091892        0.013230   \n",
       "2           -0.064603          -0.084735        -0.067418        0.013141   \n",
       "3           -0.076694          -0.096042        -0.079424        0.012602   \n",
       "4            0.687840           0.699335         0.687729        0.009521   \n",
       "5            0.628598           0.624711         0.627930        0.002402   \n",
       "6            0.048247           0.018858         0.037660        0.013330   \n",
       "7           -0.071709          -0.092622        -0.075477        0.012742   \n",
       "8            0.799159           0.816324         0.806627        0.007183   \n",
       "9            0.779430           0.795597         0.790766        0.008045   \n",
       "10           0.342667           0.291284         0.316973        0.020977   \n",
       "11           0.004545          -0.001459         0.002281        0.002664   \n",
       "12           0.831814           0.842526         0.836475        0.004482   \n",
       "13           0.773154           0.767180         0.765022        0.007675   \n",
       "14           0.378628           0.319721         0.350081        0.024083   \n",
       "15           0.016798           0.013006         0.013998        0.002008   \n",
       "\n",
       "    rank_test_score  split0_train_score  split1_train_score  \\\n",
       "0                 9            0.218345            0.198564   \n",
       "1                10            0.118506            0.107117   \n",
       "2                14           -0.039915           -0.050002   \n",
       "3                16           -0.051703           -0.060815   \n",
       "4                 5            0.704595            0.699479   \n",
       "5                 6            0.681413            0.680426   \n",
       "6                11            0.183775            0.178112   \n",
       "7                15            0.091486            0.082132   \n",
       "8                 2            0.830389            0.829842   \n",
       "9                 3            0.925280            0.926094   \n",
       "10                8            0.912056            0.908021   \n",
       "11               13            0.857624            0.854386   \n",
       "12                1            0.889844            0.891336   \n",
       "13                4            0.990298            0.993430   \n",
       "14                7            0.999891            0.999889   \n",
       "15               12            0.999890            0.999889   \n",
       "\n",
       "    split2_train_score  mean_train_score  std_train_score  \n",
       "0             0.177066          0.197991     1.685706e-02  \n",
       "1             0.089050          0.104891     1.212788e-02  \n",
       "2            -0.063458         -0.051125     9.644315e-03  \n",
       "3            -0.075964         -0.062827     1.000620e-02  \n",
       "4             0.685472          0.696515     8.083482e-03  \n",
       "5             0.665199          0.675679     7.421829e-03  \n",
       "6             0.177399          0.179762     2.852534e-03  \n",
       "7             0.066568          0.080062     1.027744e-02  \n",
       "8             0.818442          0.826224     5.507144e-03  \n",
       "9             0.921315          0.924230     2.087658e-03  \n",
       "10            0.915556          0.911878     3.078518e-03  \n",
       "11            0.856473          0.856161     1.339901e-03  \n",
       "12            0.887400          0.889526     1.622387e-03  \n",
       "13            0.986869          0.990199     2.679274e-03  \n",
       "14            0.999888          0.999889     1.269826e-06  \n",
       "15            0.999888          0.999889     9.352191e-07  "
      ]
     },
     "execution_count": 74,
     "metadata": {},
     "output_type": "execute_result"
    }
   ],
   "source": [
    "result_rbf = pd.DataFrame(grid_svr_rbf.cv_results_)\n",
    "result_rbf"
   ]
  },
  {
   "cell_type": "code",
   "execution_count": 75,
   "metadata": {},
   "outputs": [
    {
     "data": {
      "text/plain": [
       "<matplotlib.legend.Legend at 0x252e9155d08>"
      ]
     },
     "execution_count": 75,
     "metadata": {},
     "output_type": "execute_result"
    },
    {
     "data": {
      "image/png": "[encoded data removed]",
      "text/plain": [
       "<Figure size 432x288 with 1 Axes>"
      ]
     },
     "metadata": {
      "needs_background": "light"
     },
     "output_type": "display_data"
    }
   ],
   "source": [
    "#Plot the train and test score\n",
    "plt.plot(range(result_rbf.shape[0]), result_rbf['mean_train_score'], label = 'mean train score')\n",
    "plt.plot(range(result_rbf.shape[0]), result_rbf['mean_test_score'], label = 'mean test score')\n",
    "plt.xticks(range(result_svr_poly.shape[0]), result_rbf['param_C'], rotation = 90)\n",
    "plt.plot([grid_svr_rbf.best_index_], result_rbf['mean_train_score'][grid_svr_rbf.best_index_], 'o', markersize = 10, fillstyle = \"none\")\n",
    "plt.plot([grid_svr_rbf.best_index_], result_rbf['mean_test_score'][grid_svr_rbf.best_index_], 'o', markersize = 10, fillstyle = \"none\")\n",
    "plt.grid()\n",
    "plt.legend()"
   ]
  },
  {
   "cell_type": "code",
   "execution_count": 76,
   "metadata": {},
   "outputs": [
    {
     "name": "stdout",
     "output_type": "stream",
     "text": [
      "Accuracy: 82.43 %\n"
     ]
    }
   ],
   "source": [
    "#calculating the accuracy\n",
    "rbf_accuracies = cross_val_score(estimator = svr_rbf, X = X_train, y = y_train, cv = 2)\n",
    "print(\"Accuracy: {:.2f} %\".format(rbf_accuracies.mean()*100))"
   ]
  },
  {
   "cell_type": "markdown",
   "metadata": {},
   "source": [
    "### Decision Tree\n",
    "Decision tree model builds a parent - child node based tree to map the values a varible can take to land up at a conclusion \n",
    "We check with varying depths to take the best depth which would give a good accuracy."
   ]
  },
  {
   "cell_type": "code",
   "execution_count": 77,
   "metadata": {},
   "outputs": [],
   "source": [
    "# decision tree with parameters\n",
    "from sklearn.tree import DecisionTreeRegressor\n",
    "\n",
    "dtree_clf = DecisionTreeRegressor(random_state=0)\n",
    "parameters = { 'max_depth' : [1,2,3,4,5,6,7,8,9,10]}"
   ]
  },
  {
   "cell_type": "code",
   "execution_count": 78,
   "metadata": {},
   "outputs": [
    {
     "data": {
      "text/plain": [
       "GridSearchCV(cv=6, error_score=nan,\n",
       "             estimator=DecisionTreeRegressor(ccp_alpha=0.0, criterion='mse',\n",
       "                                             max_depth=None, max_features=None,\n",
       "                                             max_leaf_nodes=None,\n",
       "                                             min_impurity_decrease=0.0,\n",
       "                                             min_impurity_split=None,\n",
       "                                             min_samples_leaf=1,\n",
       "                                             min_samples_split=2,\n",
       "                                             min_weight_fraction_leaf=0.0,\n",
       "                                             presort='deprecated',\n",
       "                                             random_state=0, splitter='best'),\n",
       "             iid='deprecated', n_jobs=None,\n",
       "             param_grid={'max_depth': [1, 2, 3, 4, 5, 6, 7, 8, 9, 10]},\n",
       "             pre_dispatch='2*n_jobs', refit=True, return_train_score=True,\n",
       "             scoring=None, verbose=0)"
      ]
     },
     "execution_count": 78,
     "metadata": {},
     "output_type": "execute_result"
    }
   ],
   "source": [
    "#decision tree \n",
    "grid_search = GridSearchCV(dtree_clf,parameters, cv=6, return_train_score=True)\n",
    "grid_search.fit(X_train, y_train)"
   ]
  },
  {
   "cell_type": "code",
   "execution_count": 79,
   "metadata": {},
   "outputs": [
    {
     "name": "stdout",
     "output_type": "stream",
     "text": [
      "Best parameters: {'max_depth': 10}\n",
      "Best cross-validation score: 0.88\n"
     ]
    }
   ],
   "source": [
    "print(\"Best parameters: {}\".format(grid_search.best_params_))\n",
    "print(\"Best cross-validation score: {:.2f}\".format(grid_search.best_score_))"
   ]
  },
  {
   "cell_type": "code",
   "execution_count": 80,
   "metadata": {},
   "outputs": [
    {
     "name": "stdout",
     "output_type": "stream",
     "text": [
      "Accuracy on training set: 0.993\n",
      "Accuracy on test set: 0.900\n"
     ]
    }
   ],
   "source": [
    "# decision tree with parameters\n",
    "dtree = DecisionTreeRegressor(max_depth=10)\n",
    "dtree.fit(X_train, y_train)\n",
    "\n",
    "print(\"Accuracy on training set: {:.3f}\".format(dtree.score(X_train, y_train)))\n",
    "print(\"Accuracy on test set: {:.3f}\".format(dtree.score(X_test, y_test)))"
   ]
  },
  {
   "cell_type": "code",
   "execution_count": 81,
   "metadata": {},
   "outputs": [
    {
     "name": "stdout",
     "output_type": "stream",
     "text": [
      "Accuracy: 83.06 %\n"
     ]
    }
   ],
   "source": [
    "#calculating the accuracy\n",
    "dtree_accuracies = cross_val_score(estimator = dtree, X = X_train, y = y_train, cv = 2)\n",
    "print(\"Accuracy: {:.2f} %\".format(dtree_accuracies.mean()*100))"
   ]
  },
  {
   "cell_type": "markdown",
   "metadata": {},
   "source": [
    "## All Models at a Glance"
   ]
  },
  {
   "cell_type": "code",
   "execution_count": 82,
   "metadata": {},
   "outputs": [],
   "source": [
    "models_reg=[]\n",
    "models_reg.append({'Model Name' : 'KNN Regression','Train score': round(knn_model.score(X_train,y_train),2),\n",
    "               'Test score': round(knn_model.score(X_test,y_test),2),'Accuracy Score' : (knn_accuracies.mean()*100) })\n",
    "\n",
    "models_reg.append({'Model Name' : 'Linear Regression','Train score': round(l_model.score(X_train, y_train),2),\n",
    "               'Test score': round(l_model.score(X_test, y_test),2),'Accuracy Score' : (lg_accuracies.mean()*100)})\n",
    "\n",
    "models_reg.append({'Model Name' : 'Ridge Regression','Train score': round(ridge_model.score(X_train,y_train),2),\n",
    "                         'Test score': round(ridge_model.score(X_test,y_test),2), 'Accuracy Score' : (rg_accuracies.mean()*100)})\n",
    "\n",
    "models_reg.append({'Model Name' : 'Lasso Regression','Train score': round(lasso_model.score(X_train,y_train),2),\n",
    "                         'Test score': round(lasso_model.score(X_test,y_test),2), 'Accuracy Score' : (lasg_accuracies.mean()*100)})\n",
    "\n",
    "models_reg.append({'Model Name' : 'Polynomial Regression','Train score': (round(train.mean(),2)),\n",
    "                         'Test score': (round(test.mean(),2)), 'Accuracy Score' : (pg_accuracies.mean()*100)})\n",
    "\n",
    "models_reg.append({'Model Name' : 'Linear SVM','Train score': round(lsvr.score(X_train,y_train),2),\n",
    "                         'Test score': round(lsvr.score(X_test,y_test),2),'Accuracy Score' : (linsvm_accuracies.mean()*100)})\n",
    "\n",
    "models_reg.append({'Model Name' : 'Kernel SVM RBF','Train score': round(grid_svr_rbf.score(X_train,y_train),2),\n",
    "                         'Test score': round(grid_svr_rbf.score(X_test,y_test),2),'Accuracy Score' : (rbf_accuracies.mean()*100)})\n",
    "\n",
    "models_reg.append({'Model Name' : 'Kernel SVM Poly','Train score': round(svr_p.score(X_train,y_train),2),\n",
    "                         'Test score': round(svr_p.score(X_test,y_test),2),'Accuracy Score' : (ksvmp_accuracies.mean()*100)})\n",
    "\n",
    "models_reg.append({'Model Name' : 'Kernel SVM Linear','Train score': round(grid_svr_linear.score(X_train,y_train),2),\n",
    "                         'Test score': round(grid_svr_linear.score(X_test,y_test),2),'Accuracy Score' : (ksvml_accuracies.mean()*100)})"
   ]
  },
  {
   "cell_type": "code",
   "execution_count": 83,
   "metadata": {},
   "outputs": [
    {
     "data": {
      "text/html": [
       "<div>\n",
       "<style scoped>\n",
       "    .dataframe tbody tr th:only-of-type {\n",
       "        vertical-align: middle;\n",
       "    }\n",
       "\n",
       "    .dataframe tbody tr th {\n",
       "        vertical-align: top;\n",
       "    }\n",
       "\n",
       "    .dataframe thead th {\n",
       "        text-align: right;\n",
       "    }\n",
       "</style>\n",
       "<table border=\"1\" class=\"dataframe\">\n",
       "  <thead>\n",
       "    <tr style=\"text-align: right;\">\n",
       "      <th></th>\n",
       "      <th>Train score</th>\n",
       "      <th>Test score</th>\n",
       "      <th>Accuracy Score</th>\n",
       "    </tr>\n",
       "    <tr>\n",
       "      <th>Model Name</th>\n",
       "      <th></th>\n",
       "      <th></th>\n",
       "      <th></th>\n",
       "    </tr>\n",
       "  </thead>\n",
       "  <tbody>\n",
       "    <tr>\n",
       "      <th>KNN Regression</th>\n",
       "      <td>0.84</td>\n",
       "      <td>0.74</td>\n",
       "      <td>71.711058</td>\n",
       "    </tr>\n",
       "    <tr>\n",
       "      <th>Linear Regression</th>\n",
       "      <td>0.81</td>\n",
       "      <td>0.80</td>\n",
       "      <td>79.632961</td>\n",
       "    </tr>\n",
       "    <tr>\n",
       "      <th>Ridge Regression</th>\n",
       "      <td>0.81</td>\n",
       "      <td>0.81</td>\n",
       "      <td>79.517436</td>\n",
       "    </tr>\n",
       "    <tr>\n",
       "      <th>Lasso Regression</th>\n",
       "      <td>0.80</td>\n",
       "      <td>0.81</td>\n",
       "      <td>78.884871</td>\n",
       "    </tr>\n",
       "    <tr>\n",
       "      <th>Polynomial Regression</th>\n",
       "      <td>0.98</td>\n",
       "      <td>0.81</td>\n",
       "      <td>79.632961</td>\n",
       "    </tr>\n",
       "    <tr>\n",
       "      <th>Linear SVM</th>\n",
       "      <td>0.81</td>\n",
       "      <td>0.81</td>\n",
       "      <td>79.129671</td>\n",
       "    </tr>\n",
       "    <tr>\n",
       "      <th>Kernel SVM RBF</th>\n",
       "      <td>0.89</td>\n",
       "      <td>0.84</td>\n",
       "      <td>82.430094</td>\n",
       "    </tr>\n",
       "    <tr>\n",
       "      <th>Kernel SVM Poly</th>\n",
       "      <td>0.94</td>\n",
       "      <td>0.81</td>\n",
       "      <td>77.859857</td>\n",
       "    </tr>\n",
       "    <tr>\n",
       "      <th>Kernel SVM Linear</th>\n",
       "      <td>0.81</td>\n",
       "      <td>0.81</td>\n",
       "      <td>78.559665</td>\n",
       "    </tr>\n",
       "  </tbody>\n",
       "</table>\n",
       "</div>"
      ],
      "text/plain": [
       "                       Train score  Test score  Accuracy Score\n",
       "Model Name                                                    \n",
       "KNN Regression                0.84        0.74       71.711058\n",
       "Linear Regression             0.81        0.80       79.632961\n",
       "Ridge Regression              0.81        0.81       79.517436\n",
       "Lasso Regression              0.80        0.81       78.884871\n",
       "Polynomial Regression         0.98        0.81       79.632961\n",
       "Linear SVM                    0.81        0.81       79.129671\n",
       "Kernel SVM RBF                0.89        0.84       82.430094\n",
       "Kernel SVM Poly               0.94        0.81       77.859857\n",
       "Kernel SVM Linear             0.81        0.81       78.559665"
      ]
     },
     "execution_count": 83,
     "metadata": {},
     "output_type": "execute_result"
    }
   ],
   "source": [
    "model_reg = pd.DataFrame(models_reg)\n",
    "model_reg.set_index('Model Name', inplace = True)\n",
    "model_reg"
   ]
  },
  {
   "cell_type": "markdown",
   "metadata": {},
   "source": [
    "Thus choosing Kernel SV RBF as the best model , we select the best parameters we had found before as c=100 and gamma =0.1\n",
    "We run the prediction using this.\n",
    "\n",
    "Gamma =0.1 provides a good classification boundary for the region but a higher value of gamma would end up forming islands\n",
    "while a much lower value will not give a good boundary for the regions\n",
    "\n",
    "C=100 the kernel is little intolerant created towards misclassifcation with a good boundary while a higher value will create closer boundaries"
   ]
  },
  {
   "cell_type": "code",
   "execution_count": 84,
   "metadata": {},
   "outputs": [
    {
     "data": {
      "text/plain": [
       "0.8437185943204758"
      ]
     },
     "execution_count": 84,
     "metadata": {},
     "output_type": "execute_result"
    }
   ],
   "source": [
    "#svm is run with the best params\n",
    "svr_rbf = SVR(kernel='rbf',C=100,gamma=0.1)\n",
    "svr_rbf.fit(X_train, y_train)\n",
    "svr_rbf.score(X_train, y_train)\n",
    "svr_rbf.score(X_test, y_test)"
   ]
  },
  {
   "cell_type": "code",
   "execution_count": 85,
   "metadata": {},
   "outputs": [
    {
     "name": "stdout",
     "output_type": "stream",
     "text": [
      "Cross-validation scores:\n",
      "[0.81434111 0.8484286  0.82455796 0.85511342 0.86504082 0.8498043 ]\n",
      "0.84288103462407\n"
     ]
    }
   ],
   "source": [
    "#k fold validation is done\n",
    "from sklearn.model_selection import KFold\n",
    "from sklearn.model_selection import cross_val_score\n",
    "kfold = KFold(n_splits=6)\n",
    "print(\"Cross-validation scores:\\n{}\".format(cross_val_score(svr_rbf, X_train, y_train, cv=kfold)))\n",
    "scores = cross_val_score(svr_rbf, X_train, y_train, cv=kfold)\n",
    "print(np.mean(scores))"
   ]
  },
  {
   "cell_type": "code",
   "execution_count": 86,
   "metadata": {},
   "outputs": [
    {
     "name": "stdout",
     "output_type": "stream",
     "text": [
      "Accuracy: 82.43 %\n"
     ]
    }
   ],
   "source": [
    "#calculating the accuracy\n",
    "rbf_accuracies = cross_val_score(estimator = svr_rbf, X = X_train, y = y_train, cv = 2)\n",
    "print(\"Accuracy: {:.2f} %\".format(rbf_accuracies.mean()*100))"
   ]
  },
  {
   "cell_type": "markdown",
   "metadata": {},
   "source": [
    "Therefore our best model which is <b>SV RBF model</b> predicts the <b>Life expectancy</b> of each country with an accuracy of <b>82.43%</b>"
   ]
  },
  {
   "cell_type": "code",
   "execution_count": null,
   "metadata": {},
   "outputs": [],
   "source": []
  }
 ],
 "metadata": {
  "kernelspec": {
   "display_name": "Python 3",
   "language": "python",
   "name": "python3"
  },
  "language_info": {
   "codemirror_mode": {
    "name": "ipython",
    "version": 3
   },
   "file_extension": ".py",
   "mimetype": "text/x-python",
   "name": "python",
   "nbconvert_exporter": "python",
   "pygments_lexer": "ipython3",
   "version": "3.8.8"
  }
 },
 "nbformat": 4,
 "nbformat_minor": 4
}
