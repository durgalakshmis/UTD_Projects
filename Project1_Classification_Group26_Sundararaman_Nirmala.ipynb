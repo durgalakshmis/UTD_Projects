{
 "cells": [
  {
   "cell_type": "markdown",
   "metadata": {},
   "source": [
    "# <font color='green'>Project 1 \n",
    "## Group 26 \n",
    "### Members: \n",
    "1.Durgalakshmi Sundaraman(dxs190016)                                                                                         \n",
    "2.Kruthika Natarajan Nirmala(kxn190008)"
   ]
  },
  {
   "cell_type": "markdown",
   "metadata": {},
   "source": [
    "## <font color='green'> Classification"
   ]
  },
  {
   "cell_type": "markdown",
   "metadata": {},
   "source": [
    "### This project predicts the target variable which is categorical in nature. Thus the models used in this are mainly:\n",
    "\n",
    "\n",
    "#### 1) KNN classification\n",
    "#### 2) Logistic Regression\n",
    "#### 3) Decision Tree\n",
    "#### 4) Linear SVM\n",
    "#### 5) Kernel SVM (RBF, Linear, Poly)"
   ]
  },
  {
   "cell_type": "markdown",
   "metadata": {},
   "source": [
    "### Importing necessary libraries for the project"
   ]
  },
  {
   "cell_type": "code",
   "execution_count": 1,
   "metadata": {},
   "outputs": [],
   "source": [
    "#Importing the required libraries\n",
    "import numpy as np\n",
    "import pandas as pd\n",
    "import matplotlib.pyplot as plt\n",
    "import seaborn as sns\n",
    "from sklearn.neighbors import KNeighborsClassifier\n",
    "from sklearn.model_selection import train_test_split\n",
    "from sklearn.preprocessing import StandardScaler\n",
    "from sklearn.preprocessing import MinMaxScaler\n",
    "\n",
    "from sklearn import neighbors\n",
    "from sklearn.metrics import mean_squared_error \n",
    "from sklearn.metrics import mean_absolute_error\n",
    "from sklearn.metrics import r2_score\n",
    "from math import sqrt"
   ]
  },
  {
   "cell_type": "markdown",
   "metadata": {},
   "source": [
    "### Dataset for classification"
   ]
  },
  {
   "cell_type": "code",
   "execution_count": 2,
   "metadata": {
    "scrolled": true
   },
   "outputs": [
    {
     "data": {
      "text/plain": [
       "(1207, 19)"
      ]
     },
     "execution_count": 2,
     "metadata": {},
     "output_type": "execute_result"
    }
   ],
   "source": [
    "#reading the dataset\n",
    "df_hotel = pd.read_excel(\"C:\\\\Users\\\\sundh\\\\Desktop\\\\ML Project\\\\ML Classification\\\\hotel_cancel_predictions.xlsx\")\n",
    "#checking the shape of the dataset\n",
    "df_hotel.shape"
   ]
  },
  {
   "cell_type": "markdown",
   "metadata": {},
   "source": [
    "This dataset is  taken from kaggel from  Global Health Observatory (GHO) data repository under World Health Organization (WHO). It contains hotel booking information and includes information such as for which date booking was made, the lead time,the week night and weekend night stay, the number of adults, children, and/or babies, and the number of available parking spaces etc. There are <b>1207 total observations</b> with <b>19 columns</b>. Out of this 19 columns we have 6 categorical variables and the target column is with 1 representing a cancellation made and 0 representing no cancellation.\n",
    "\n",
    "The <b>target variable</b> in this is <b>is_canceled</b> variable . The model works to predict the life expectancy of a person given his living conditions\n"
   ]
  },
  {
   "cell_type": "markdown",
   "metadata": {},
   "source": [
    "<b>Column                         : Description</b><br>\n",
    "<b>is_canceled </b>                    : Target variable if booking was cancelled<br>\n",
    "<b>lead_time  </b>                     : No. of days between booking and hotel checkin <br>\n",
    "<b>arrival_date_month</b>              : Month of hotel booking<br>\n",
    "<b>arrival_date_week_number  </b>      : Week number of hotel booking<br>\n",
    "<b>arrival_date_day_of_month </b>      : Day of hotel booking<br>\n",
    "<b>stays_in_weekend_nights  </b>       : No. of weekend nights stayed<br>\n",
    "<b>stays_in_week_nights   </b>         : No. of week nights stayed<br>\n",
    "<b>adults              </b>            : No. of adults<br>\n",
    "<b>children         </b>               : No. of children<br>\n",
    "<b>babies         </b>                 : No. of babies<br>\n",
    "<b>meal            </b>                : Meal plan booked<br>\n",
    "<b>market_segment   </b>               : Market segment of the customer<br>\n",
    "<b>distribution_channel </b>           : distribution channel the customer is in<br>\n",
    "<b>booking_changes    </b>             : No. of booking changes made<br>\n",
    "<b>deposit_type    </b>                : Deposite type made<br>\n",
    "<b>days_in_waiting_list  </b>          : No. of days in waiting for booking<br>\n",
    "<b>adr                   </b>          : Dollars paid<br>\n",
    "<b>required_car_parking_spaces   </b>  : No. of car parking spaces<br>\n",
    "<b>reservation_status      </b>        : status of reservation<br>\n"
   ]
  },
  {
   "cell_type": "markdown",
   "metadata": {},
   "source": [
    "## Exploratory Data Analysis"
   ]
  },
  {
   "cell_type": "markdown",
   "metadata": {},
   "source": [
    "The exploratory data analysis is performed on the dataset to understand the variations, range, detect outliers and collinearity if it exists in the dataset."
   ]
  },
  {
   "cell_type": "markdown",
   "metadata": {},
   "source": [
    "### <b>Check for null</b>"
   ]
  },
  {
   "cell_type": "markdown",
   "metadata": {},
   "source": [
    " Upon checking for null we find that 1728 of the data cells in the dataset have a randomly disbursed null presence"
   ]
  },
  {
   "cell_type": "code",
   "execution_count": 3,
   "metadata": {},
   "outputs": [
    {
     "name": "stdout",
     "output_type": "stream",
     "text": [
      "<class 'pandas.core.frame.DataFrame'>\n",
      "RangeIndex: 1207 entries, 0 to 1206\n",
      "Data columns (total 19 columns):\n",
      " #   Column                       Non-Null Count  Dtype  \n",
      "---  ------                       --------------  -----  \n",
      " 0   is_canceled                  1112 non-null   float64\n",
      " 1   lead_time                    1132 non-null   float64\n",
      " 2   arrival_date_month           1120 non-null   object \n",
      " 3   arrival_date_week_number     1119 non-null   float64\n",
      " 4   arrival_date_day_of_month    1097 non-null   float64\n",
      " 5   stays_in_weekend_nights      1111 non-null   float64\n",
      " 6   stays_in_week_nights         1114 non-null   float64\n",
      " 7   adults                       1116 non-null   float64\n",
      " 8   children                     1117 non-null   float64\n",
      " 9   babies                       1124 non-null   float64\n",
      " 10  meal                         1118 non-null   object \n",
      " 11  market_segment               1125 non-null   object \n",
      " 12  distribution_channel         1107 non-null   object \n",
      " 13  booking_changes              1110 non-null   float64\n",
      " 14  deposit_type                 1117 non-null   object \n",
      " 15  days_in_waiting_list         1114 non-null   float64\n",
      " 16  adr                          1117 non-null   float64\n",
      " 17  required_car_parking_spaces  1127 non-null   float64\n",
      " 18  reservation_status           1108 non-null   object \n",
      "dtypes: float64(13), object(6)\n",
      "memory usage: 179.3+ KB\n"
     ]
    }
   ],
   "source": [
    "#Checking data information\n",
    "df_hotel.info()"
   ]
  },
  {
   "cell_type": "markdown",
   "metadata": {},
   "source": [
    "There are totally 19 columns with more than two categorical columns "
   ]
  },
  {
   "cell_type": "code",
   "execution_count": 4,
   "metadata": {},
   "outputs": [
    {
     "data": {
      "text/plain": [
       "1728"
      ]
     },
     "execution_count": 4,
     "metadata": {},
     "output_type": "execute_result"
    }
   ],
   "source": [
    "#Total count of null\n",
    "df_hotel.isna().sum().sum()"
   ]
  },
  {
   "cell_type": "code",
   "execution_count": 5,
   "metadata": {},
   "outputs": [
    {
     "data": {
      "text/plain": [
       "is_canceled                     95\n",
       "lead_time                       75\n",
       "arrival_date_month              87\n",
       "arrival_date_week_number        88\n",
       "arrival_date_day_of_month      110\n",
       "stays_in_weekend_nights         96\n",
       "stays_in_week_nights            93\n",
       "adults                          91\n",
       "children                        90\n",
       "babies                          83\n",
       "meal                            89\n",
       "market_segment                  82\n",
       "distribution_channel           100\n",
       "booking_changes                 97\n",
       "deposit_type                    90\n",
       "days_in_waiting_list            93\n",
       "adr                             90\n",
       "required_car_parking_spaces     80\n",
       "reservation_status              99\n",
       "dtype: int64"
      ]
     },
     "execution_count": 5,
     "metadata": {},
     "output_type": "execute_result"
    }
   ],
   "source": [
    "#Count of null by column\n",
    "df_hotel.isna().sum()"
   ]
  },
  {
   "cell_type": "markdown",
   "metadata": {},
   "source": [
    "To handle the null we check the data in the first five rows"
   ]
  },
  {
   "cell_type": "code",
   "execution_count": 6,
   "metadata": {
    "scrolled": true
   },
   "outputs": [
    {
     "data": {
      "text/html": [
       "<div>\n",
       "<style scoped>\n",
       "    .dataframe tbody tr th:only-of-type {\n",
       "        vertical-align: middle;\n",
       "    }\n",
       "\n",
       "    .dataframe tbody tr th {\n",
       "        vertical-align: top;\n",
       "    }\n",
       "\n",
       "    .dataframe thead th {\n",
       "        text-align: right;\n",
       "    }\n",
       "</style>\n",
       "<table border=\"1\" class=\"dataframe\">\n",
       "  <thead>\n",
       "    <tr style=\"text-align: right;\">\n",
       "      <th></th>\n",
       "      <th>is_canceled</th>\n",
       "      <th>lead_time</th>\n",
       "      <th>arrival_date_month</th>\n",
       "      <th>arrival_date_week_number</th>\n",
       "      <th>arrival_date_day_of_month</th>\n",
       "      <th>stays_in_weekend_nights</th>\n",
       "      <th>stays_in_week_nights</th>\n",
       "      <th>adults</th>\n",
       "      <th>children</th>\n",
       "      <th>babies</th>\n",
       "      <th>meal</th>\n",
       "      <th>market_segment</th>\n",
       "      <th>distribution_channel</th>\n",
       "      <th>booking_changes</th>\n",
       "      <th>deposit_type</th>\n",
       "      <th>days_in_waiting_list</th>\n",
       "      <th>adr</th>\n",
       "      <th>required_car_parking_spaces</th>\n",
       "      <th>reservation_status</th>\n",
       "    </tr>\n",
       "  </thead>\n",
       "  <tbody>\n",
       "    <tr>\n",
       "      <th>0</th>\n",
       "      <td>0.0</td>\n",
       "      <td>26.0</td>\n",
       "      <td>March</td>\n",
       "      <td>12.0</td>\n",
       "      <td>17.0</td>\n",
       "      <td>2.0</td>\n",
       "      <td>NaN</td>\n",
       "      <td>2.0</td>\n",
       "      <td>0.0</td>\n",
       "      <td>0.0</td>\n",
       "      <td>NaN</td>\n",
       "      <td>Online TA</td>\n",
       "      <td>TA/TO</td>\n",
       "      <td>0.0</td>\n",
       "      <td>No Deposit</td>\n",
       "      <td>0.0</td>\n",
       "      <td>72.89</td>\n",
       "      <td>0.0</td>\n",
       "      <td>Check-Out</td>\n",
       "    </tr>\n",
       "    <tr>\n",
       "      <th>1</th>\n",
       "      <td>1.0</td>\n",
       "      <td>NaN</td>\n",
       "      <td>October</td>\n",
       "      <td>44.0</td>\n",
       "      <td>28.0</td>\n",
       "      <td>2.0</td>\n",
       "      <td>5.0</td>\n",
       "      <td>2.0</td>\n",
       "      <td>0.0</td>\n",
       "      <td>0.0</td>\n",
       "      <td>BB</td>\n",
       "      <td>Online TA</td>\n",
       "      <td>TA/TO</td>\n",
       "      <td>0.0</td>\n",
       "      <td>No Deposit</td>\n",
       "      <td>0.0</td>\n",
       "      <td>63.03</td>\n",
       "      <td>0.0</td>\n",
       "      <td>Canceled</td>\n",
       "    </tr>\n",
       "    <tr>\n",
       "      <th>2</th>\n",
       "      <td>0.0</td>\n",
       "      <td>0.0</td>\n",
       "      <td>April</td>\n",
       "      <td>16.0</td>\n",
       "      <td>12.0</td>\n",
       "      <td>0.0</td>\n",
       "      <td>5.0</td>\n",
       "      <td>1.0</td>\n",
       "      <td>0.0</td>\n",
       "      <td>0.0</td>\n",
       "      <td>BB</td>\n",
       "      <td>Offline TA/TO</td>\n",
       "      <td>NaN</td>\n",
       "      <td>0.0</td>\n",
       "      <td>No Deposit</td>\n",
       "      <td>0.0</td>\n",
       "      <td>55.00</td>\n",
       "      <td>0.0</td>\n",
       "      <td>NaN</td>\n",
       "    </tr>\n",
       "    <tr>\n",
       "      <th>3</th>\n",
       "      <td>0.0</td>\n",
       "      <td>0.0</td>\n",
       "      <td>May</td>\n",
       "      <td>21.0</td>\n",
       "      <td>NaN</td>\n",
       "      <td>1.0</td>\n",
       "      <td>1.0</td>\n",
       "      <td>2.0</td>\n",
       "      <td>0.0</td>\n",
       "      <td>0.0</td>\n",
       "      <td>BB</td>\n",
       "      <td>Online TA</td>\n",
       "      <td>TA/TO</td>\n",
       "      <td>1.0</td>\n",
       "      <td>No Deposit</td>\n",
       "      <td>0.0</td>\n",
       "      <td>79.20</td>\n",
       "      <td>0.0</td>\n",
       "      <td>Check-Out</td>\n",
       "    </tr>\n",
       "    <tr>\n",
       "      <th>4</th>\n",
       "      <td>0.0</td>\n",
       "      <td>138.0</td>\n",
       "      <td>NaN</td>\n",
       "      <td>13.0</td>\n",
       "      <td>NaN</td>\n",
       "      <td>0.0</td>\n",
       "      <td>3.0</td>\n",
       "      <td>2.0</td>\n",
       "      <td>0.0</td>\n",
       "      <td>0.0</td>\n",
       "      <td>BB</td>\n",
       "      <td>Offline TA/TO</td>\n",
       "      <td>TA/TO</td>\n",
       "      <td>1.0</td>\n",
       "      <td>No Deposit</td>\n",
       "      <td>0.0</td>\n",
       "      <td>42.67</td>\n",
       "      <td>0.0</td>\n",
       "      <td>Check-Out</td>\n",
       "    </tr>\n",
       "  </tbody>\n",
       "</table>\n",
       "</div>"
      ],
      "text/plain": [
       "   is_canceled  lead_time arrival_date_month  arrival_date_week_number  \\\n",
       "0          0.0       26.0              March                      12.0   \n",
       "1          1.0        NaN            October                      44.0   \n",
       "2          0.0        0.0              April                      16.0   \n",
       "3          0.0        0.0                May                      21.0   \n",
       "4          0.0      138.0                NaN                      13.0   \n",
       "\n",
       "   arrival_date_day_of_month  stays_in_weekend_nights  stays_in_week_nights  \\\n",
       "0                       17.0                      2.0                   NaN   \n",
       "1                       28.0                      2.0                   5.0   \n",
       "2                       12.0                      0.0                   5.0   \n",
       "3                        NaN                      1.0                   1.0   \n",
       "4                        NaN                      0.0                   3.0   \n",
       "\n",
       "   adults  children  babies meal market_segment distribution_channel  \\\n",
       "0     2.0       0.0     0.0  NaN      Online TA                TA/TO   \n",
       "1     2.0       0.0     0.0   BB      Online TA                TA/TO   \n",
       "2     1.0       0.0     0.0   BB  Offline TA/TO                  NaN   \n",
       "3     2.0       0.0     0.0   BB      Online TA                TA/TO   \n",
       "4     2.0       0.0     0.0   BB  Offline TA/TO                TA/TO   \n",
       "\n",
       "   booking_changes deposit_type  days_in_waiting_list    adr  \\\n",
       "0              0.0   No Deposit                   0.0  72.89   \n",
       "1              0.0   No Deposit                   0.0  63.03   \n",
       "2              0.0   No Deposit                   0.0  55.00   \n",
       "3              1.0   No Deposit                   0.0  79.20   \n",
       "4              1.0   No Deposit                   0.0  42.67   \n",
       "\n",
       "   required_car_parking_spaces reservation_status  \n",
       "0                          0.0          Check-Out  \n",
       "1                          0.0           Canceled  \n",
       "2                          0.0                NaN  \n",
       "3                          0.0          Check-Out  \n",
       "4                          0.0          Check-Out  "
      ]
     },
     "execution_count": 6,
     "metadata": {},
     "output_type": "execute_result"
    }
   ],
   "source": [
    "#reading the first five rows in the dataset\n",
    "df_hotel.head()"
   ]
  },
  {
   "cell_type": "markdown",
   "metadata": {},
   "source": [
    "<b>Handle Null</b>\n",
    "To handle the null, we choose to impute the mean value of the numeric columns and for categorical variables we have imputed the value with most count"
   ]
  },
  {
   "cell_type": "code",
   "execution_count": 7,
   "metadata": {},
   "outputs": [],
   "source": [
    "#Fill NULL with mean of the column data\n",
    "df_hotel['is_canceled'].fillna(df_hotel['is_canceled'].mean(), inplace=True)\n",
    "df_hotel['lead_time'].fillna(df_hotel['lead_time'].mean(), inplace=True)\n",
    "df_hotel['arrival_date_day_of_month'].fillna(df_hotel['arrival_date_day_of_month'].mean(), inplace=True)\n",
    "df_hotel['stays_in_weekend_nights'].fillna(df_hotel['stays_in_weekend_nights'].mean(), inplace=True)\n",
    "df_hotel['stays_in_week_nights'].fillna(df_hotel['stays_in_week_nights'].mean(), inplace=True)\n",
    "df_hotel['adults'].fillna(df_hotel['adults'].mean(), inplace=True)\n",
    "df_hotel['children'].fillna(df_hotel['children'].mean(), inplace=True)\n",
    "df_hotel['adr'].fillna(df_hotel['adr'].mean(), inplace=True)\n",
    "df_hotel['booking_changes'].fillna(df_hotel['booking_changes'].mean(), inplace=True)\n",
    "df_hotel['market_segment'].fillna(df_hotel['market_segment'].value_counts().index[0], inplace=True)\n",
    "df_hotel['arrival_date_week_number'].fillna(df_hotel['arrival_date_week_number'].mean(), inplace=True)\n",
    "df_hotel['arrival_date_month'].fillna(df_hotel['arrival_date_month'].value_counts().index[0], inplace=True)\n",
    "df_hotel['babies'].fillna(df_hotel['babies'].mean(), inplace=True)\n",
    "df_hotel['meal'].fillna(df_hotel['meal'].value_counts().index[0], inplace=True)\n",
    "df_hotel['distribution_channel'].fillna(df_hotel['distribution_channel'].value_counts().index[0], inplace=True)\n",
    "df_hotel['required_car_parking_spaces'].fillna(df_hotel['required_car_parking_spaces'].mean(), inplace=True)\n",
    "df_hotel['reservation_status'].fillna(df_hotel['reservation_status'].value_counts().index[0], inplace=True)\n",
    "df_hotel['days_in_waiting_list'].fillna(df_hotel['days_in_waiting_list'].mean(), inplace=True)\n",
    "df_hotel['deposit_type'].fillna(df_hotel['deposit_type'].value_counts().index[0], inplace=True)\n"
   ]
  },
  {
   "cell_type": "markdown",
   "metadata": {},
   "source": [
    "We check to see if all the columns have 0 null presence"
   ]
  },
  {
   "cell_type": "code",
   "execution_count": 8,
   "metadata": {},
   "outputs": [
    {
     "data": {
      "text/plain": [
       "is_canceled                    0\n",
       "lead_time                      0\n",
       "arrival_date_month             0\n",
       "arrival_date_week_number       0\n",
       "arrival_date_day_of_month      0\n",
       "stays_in_weekend_nights        0\n",
       "stays_in_week_nights           0\n",
       "adults                         0\n",
       "children                       0\n",
       "babies                         0\n",
       "meal                           0\n",
       "market_segment                 0\n",
       "distribution_channel           0\n",
       "booking_changes                0\n",
       "deposit_type                   0\n",
       "days_in_waiting_list           0\n",
       "adr                            0\n",
       "required_car_parking_spaces    0\n",
       "reservation_status             0\n",
       "dtype: int64"
      ]
     },
     "execution_count": 8,
     "metadata": {},
     "output_type": "execute_result"
    }
   ],
   "source": [
    "#checking for nulls in each column\n",
    "df_hotel.isna().sum()"
   ]
  },
  {
   "cell_type": "code",
   "execution_count": 9,
   "metadata": {},
   "outputs": [],
   "source": [
    "#Changing the datatype from float to integer\n",
    "df_hotel['lead_time']=df_hotel['lead_time'].astype(int)\n",
    "df_hotel['arrival_date_day_of_month']=df_hotel['arrival_date_day_of_month'].astype(int)\n",
    "df_hotel['stays_in_weekend_nights']=df_hotel['stays_in_weekend_nights'].astype(int)\n",
    "df_hotel['stays_in_week_nights']=df_hotel['stays_in_week_nights'].astype(int)\n",
    "df_hotel['stays_in_weekend_nights']=df_hotel['stays_in_weekend_nights'].astype(int)\n",
    "df_hotel['adults']=df_hotel['adults'].astype(int)\n",
    "df_hotel['children']=df_hotel['children'].astype(int)\n",
    "df_hotel['booking_changes']=df_hotel['booking_changes'].astype(int)\n",
    "df_hotel['is_canceled']=df_hotel['is_canceled'].astype(int)\n",
    "\n"
   ]
  },
  {
   "cell_type": "markdown",
   "metadata": {},
   "source": [
    "### Data Visualisation"
   ]
  },
  {
   "cell_type": "markdown",
   "metadata": {},
   "source": [
    "We check the spread of the target variable is_canceled. We see that most of the hotel bookings in our dataset are not canceled."
   ]
  },
  {
   "cell_type": "code",
   "execution_count": 10,
   "metadata": {},
   "outputs": [
    {
     "data": {
      "image/png": "[encoded data removed]",
      "text/plain": [
       "<Figure size 432x288 with 1 Axes>"
      ]
     },
     "metadata": {
      "needs_background": "light"
     },
     "output_type": "display_data"
    }
   ],
   "source": [
    "#Plot depicting the number of cancellations\n",
    "sns.countplot(data=df_hotel,x=df_hotel.is_canceled)\n",
    "plt.show()"
   ]
  },
  {
   "cell_type": "markdown",
   "metadata": {},
   "source": [
    "Visualising the spread of cancellations and booking over the months. \n",
    "It can be seen that most of the bookings done in March are not cancelled and August has least booking.\n",
    "Maximum booking cancellation are also done in March with least in January"
   ]
  },
  {
   "cell_type": "code",
   "execution_count": 11,
   "metadata": {},
   "outputs": [
    {
     "data": {
      "image/png": "[encoded data removed]",
      "text/plain": [
       "<Figure size 1152x432 with 1 Axes>"
      ]
     },
     "metadata": {
      "needs_background": "light"
     },
     "output_type": "display_data"
    }
   ],
   "source": [
    "#Plotting number of cancellations and confirmed bookings done month-wise\n",
    "plt.figure(figsize=(16, 6))\n",
    "plot2=sns.countplot(data=df_hotel,x=df_hotel.arrival_date_month,hue=df_hotel.is_canceled,color='Pink')\n",
    "plot2.set(xlabel=\"Arrival_month\", ylabel=\"Number of bookings\")\n",
    "plt.show()"
   ]
  },
  {
   "cell_type": "markdown",
   "metadata": {},
   "source": [
    "Checking the presence of outliera in is_canceled with respect to the lead time which is the number of days between the booking made and the date of hotel stay\n",
    "We find that as the lead days increases, the outliers are present in both cancelled as well as confirmed bookings.\n",
    "But we dont remove these to as it would be the case in real time data"
   ]
  },
  {
   "cell_type": "code",
   "execution_count": 12,
   "metadata": {},
   "outputs": [
    {
     "data": {
      "text/plain": [
       "<Figure size 1440x432 with 0 Axes>"
      ]
     },
     "metadata": {},
     "output_type": "display_data"
    },
    {
     "data": {
      "image/png": "[encoded data removed]",
      "text/plain": [
       "<Figure size 360x360 with 1 Axes>"
      ]
     },
     "metadata": {
      "needs_background": "light"
     },
     "output_type": "display_data"
    }
   ],
   "source": [
    "#PLotting the scatterplot of lead times of canceled and confirmed bookings\n",
    "plt.figure(figsize=(20, 6))\n",
    "plot2=sns.catplot(data=df_hotel,x='is_canceled',y='lead_time',color='Pink')#,order=[0,1]\n",
    "plot2.set(xlabel=\"is_canceled\", ylabel=\"Lead time\")\n",
    "plt.show()"
   ]
  },
  {
   "cell_type": "markdown",
   "metadata": {},
   "source": [
    "Cancelled a booking always puts a hole in the pocket. We can see the variation in the dollars spent in this case."
   ]
  },
  {
   "cell_type": "code",
   "execution_count": 13,
   "metadata": {},
   "outputs": [
    {
     "data": {
      "image/png": "[encoded data removed]",
      "text/plain": [
       "<Figure size 1152x432 with 1 Axes>"
      ]
     },
     "metadata": {
      "needs_background": "light"
     },
     "output_type": "display_data"
    }
   ],
   "source": [
    "# Plotting the box plot depicting the dollar amount spent for canceled and confirmed bookings\n",
    "plt.figure(figsize=(16, 6))\n",
    "plot3=sns.boxplot(data=df_hotel,x='is_canceled', y='adr',\n",
    "            palette=[\"m\", \"g\"])\n",
    "#sns.despine(offset=10, trim=True)\n",
    "plot3.set(xlabel=\"is_canceled\", ylabel=\"Dollars\")\n",
    "plt.show()"
   ]
  },
  {
   "cell_type": "markdown",
   "metadata": {},
   "source": [
    "Weekends are always for getaways and sometime it ends up with a spoiler. This can be seen in the plot below showing that cancellations are more in weekend night stays as people tentatively make a booking"
   ]
  },
  {
   "cell_type": "code",
   "execution_count": 14,
   "metadata": {},
   "outputs": [
    {
     "data": {
      "text/plain": [
       "<Figure size 1440x432 with 0 Axes>"
      ]
     },
     "metadata": {},
     "output_type": "display_data"
    },
    {
     "data": {
      "image/png": "[encoded data removed]",
      "text/plain": [
       "<Figure size 432x288 with 2 Axes>"
      ]
     },
     "metadata": {
      "needs_background": "light"
     },
     "output_type": "display_data"
    }
   ],
   "source": [
    "#Plotting the count of canceled and confirmed bookings having weekend and week nights \n",
    "plt.figure(figsize=(20, 6))\n",
    "fig, ax =plt.subplots(1,2)\n",
    "sns.countplot(data=df_hotel,x='stays_in_weekend_nights',hue='is_canceled',color='Pink', ax=ax[0])\n",
    "sns.countplot(data=df_hotel,x='stays_in_week_nights',hue='is_canceled',color='Pink', ax=ax[1])\n",
    "plt.show()\n"
   ]
  },
  {
   "cell_type": "markdown",
   "metadata": {},
   "source": [
    "The number of changes made to a booking are visualised and can be infered that people who dont cancel make more changes to their bookings"
   ]
  },
  {
   "cell_type": "code",
   "execution_count": 15,
   "metadata": {},
   "outputs": [
    {
     "data": {
      "image/png": "[encoded data removed]",
      "text/plain": [
       "<Figure size 360x360 with 1 Axes>"
      ]
     },
     "metadata": {
      "needs_background": "light"
     },
     "output_type": "display_data"
    }
   ],
   "source": [
    "#Plotting the booking changes done for canceled and confirmed bookings\n",
    "plot2=sns.catplot(data=df_hotel,x='is_canceled',y='booking_changes',color='Pink')\n",
    "plot2.set(xlabel=\"is_canceled\", ylabel=\"No of booking changes\")\n",
    "plt.show()"
   ]
  },
  {
   "cell_type": "markdown",
   "metadata": {},
   "source": [
    "When no deposit is expected upfront to make a booking, people are seen to book more and cancel it as well"
   ]
  },
  {
   "cell_type": "code",
   "execution_count": 16,
   "metadata": {},
   "outputs": [
    {
     "data": {
      "image/png": "[encoded data removed]",
      "text/plain": [
       "<Figure size 1152x432 with 1 Axes>"
      ]
     },
     "metadata": {
      "needs_background": "light"
     },
     "output_type": "display_data"
    }
   ],
   "source": [
    "#Plotting the deposit type for confirmed and canceled bookings\n",
    "plt.figure(figsize=(16, 6))\n",
    "plot2=sns.countplot(data=df_hotel,x='deposit_type',hue='is_canceled',color='Pink')\n",
    "plot2.set(xlabel=\"Deposit type\", ylabel=\"Number of bookings\")\n",
    "plt.show()5PPPPO           "
   ]
  },
  {
   "cell_type": "markdown",
   "metadata": {},
   "source": [
    "We check for correlation among the variables"
   ]
  },
  {
   "cell_type": "code",
   "execution_count": 17,
   "metadata": {},
   "outputs": [
    {
     "data": {
      "image/png": "[encoded data removed]",
      "text/plain": [
       "<Figure size 1440x1080 with 2 Axes>"
      ]
     },
     "metadata": {
      "needs_background": "light"
     },
     "output_type": "display_data"
    }
   ],
   "source": [
    "# Making Correlation Matrix to find the relations between the variables\n",
    "plt.figure(figsize=(20,15))\n",
    "sns.heatmap(df_hotel.corr(), cmap='RdBu', annot=True)\n",
    "plt.tight_layout()"
   ]
  },
  {
   "cell_type": "markdown",
   "metadata": {},
   "source": [
    "Distribution of all variables"
   ]
  },
  {
   "cell_type": "code",
   "execution_count": 18,
   "metadata": {},
   "outputs": [
    {
     "data": {
      "text/plain": [
       "array([[<matplotlib.axes._subplots.AxesSubplot object at 0x0000019EBCBA2908>,\n",
       "        <matplotlib.axes._subplots.AxesSubplot object at 0x0000019EBCBB4D08>,\n",
       "        <matplotlib.axes._subplots.AxesSubplot object at 0x0000019EBCBE4B88>,\n",
       "        <matplotlib.axes._subplots.AxesSubplot object at 0x0000019EBCC1DCC8>],\n",
       "       [<matplotlib.axes._subplots.AxesSubplot object at 0x0000019EBCC56DC8>,\n",
       "        <matplotlib.axes._subplots.AxesSubplot object at 0x0000019EBC8D71C8>,\n",
       "        <matplotlib.axes._subplots.AxesSubplot object at 0x0000019EBC7E3D08>,\n",
       "        <matplotlib.axes._subplots.AxesSubplot object at 0x0000019EBC8ACF08>],\n",
       "       [<matplotlib.axes._subplots.AxesSubplot object at 0x0000019EBC8B3548>,\n",
       "        <matplotlib.axes._subplots.AxesSubplot object at 0x0000019EBC73BBC8>,\n",
       "        <matplotlib.axes._subplots.AxesSubplot object at 0x0000019EBBA47A08>,\n",
       "        <matplotlib.axes._subplots.AxesSubplot object at 0x0000019EBBA93D08>],\n",
       "       [<matplotlib.axes._subplots.AxesSubplot object at 0x0000019EBBA15788>,\n",
       "        <matplotlib.axes._subplots.AxesSubplot object at 0x0000019EBBA6D2C8>,\n",
       "        <matplotlib.axes._subplots.AxesSubplot object at 0x0000019EBC8098C8>,\n",
       "        <matplotlib.axes._subplots.AxesSubplot object at 0x0000019EBC8FA588>]],\n",
       "      dtype=object)"
      ]
     },
     "execution_count": 18,
     "metadata": {},
     "output_type": "execute_result"
    },
    {
     "data": {
      "image/png": "[encoded data removed]",
      "text/plain": [
       "<Figure size 1152x1440 with 16 Axes>"
      ]
     },
     "metadata": {
      "needs_background": "light"
     },
     "output_type": "display_data"
    }
   ],
   "source": [
    "#Further exploration using histogram to check the distributions\n",
    "df_hotel.hist(figsize=(16, 20), bins=50, xlabelsize=8, ylabelsize=8)"
   ]
  },
  {
   "cell_type": "markdown",
   "metadata": {},
   "source": [
    "### Handle categorical variables"
   ]
  },
  {
   "cell_type": "markdown",
   "metadata": {},
   "source": [
    "The categorical variables need to be converted to dummy variables which add more columns. Categorical variables will be represented as 0 or 1 in the columns "
   ]
  },
  {
   "cell_type": "code",
   "execution_count": 19,
   "metadata": {},
   "outputs": [],
   "source": [
    "#creating dummies for arrival_date_month column\n",
    "cols = pd.get_dummies(df_hotel['arrival_date_month'], prefix= 'arrival_month')\n",
    "df_hotel[cols.columns] = cols\n",
    "df_hotel.drop('arrival_date_month', axis = 1, inplace = True)"
   ]
  },
  {
   "cell_type": "code",
   "execution_count": 20,
   "metadata": {},
   "outputs": [],
   "source": [
    "#creating dummies for meal column\n",
    "cols = pd.get_dummies(df_hotel['meal'], prefix= 'meal')\n",
    "df_hotel[cols.columns] = cols\n",
    "df_hotel.drop('meal', axis = 1, inplace = True)"
   ]
  },
  {
   "cell_type": "code",
   "execution_count": 21,
   "metadata": {},
   "outputs": [],
   "source": [
    "#creating dummies for market_segment column\n",
    "cols = pd.get_dummies(df_hotel['market_segment'], prefix= 'market_segment')\n",
    "df_hotel[cols.columns] = cols\n",
    "df_hotel.drop('market_segment', axis = 1, inplace = True)\n"
   ]
  },
  {
   "cell_type": "code",
   "execution_count": 22,
   "metadata": {},
   "outputs": [],
   "source": [
    "#creating dummies for deposit_type column\n",
    "cols = pd.get_dummies(df_hotel['deposit_type'], prefix= 'deposit_type')\n",
    "df_hotel[cols.columns] = cols\n",
    "df_hotel.drop('deposit_type', axis = 1, inplace = True)"
   ]
  },
  {
   "cell_type": "code",
   "execution_count": 23,
   "metadata": {},
   "outputs": [],
   "source": [
    "#creating dummies for arrival_date_month column\n",
    "cols = pd.get_dummies(df_hotel['distribution_channel'], prefix= 'distribution_channel')\n",
    "df_hotel[cols.columns] = cols\n",
    "df_hotel.drop('distribution_channel', axis = 1, inplace = True)"
   ]
  },
  {
   "cell_type": "code",
   "execution_count": 24,
   "metadata": {},
   "outputs": [],
   "source": [
    "#creating dummies for reservation_status column\n",
    "cols = pd.get_dummies(df_hotel['reservation_status'], prefix= 'reservation_status')\n",
    "df_hotel[cols.columns] = cols\n",
    "df_hotel.drop('reservation_status', axis = 1, inplace = True)"
   ]
  },
  {
   "cell_type": "code",
   "execution_count": 25,
   "metadata": {
    "scrolled": false
   },
   "outputs": [
    {
     "data": {
      "text/html": [
       "<div>\n",
       "<style scoped>\n",
       "    .dataframe tbody tr th:only-of-type {\n",
       "        vertical-align: middle;\n",
       "    }\n",
       "\n",
       "    .dataframe tbody tr th {\n",
       "        vertical-align: top;\n",
       "    }\n",
       "\n",
       "    .dataframe thead th {\n",
       "        text-align: right;\n",
       "    }\n",
       "</style>\n",
       "<table border=\"1\" class=\"dataframe\">\n",
       "  <thead>\n",
       "    <tr style=\"text-align: right;\">\n",
       "      <th></th>\n",
       "      <th>is_canceled</th>\n",
       "      <th>lead_time</th>\n",
       "      <th>arrival_date_week_number</th>\n",
       "      <th>arrival_date_day_of_month</th>\n",
       "      <th>stays_in_weekend_nights</th>\n",
       "      <th>stays_in_week_nights</th>\n",
       "      <th>adults</th>\n",
       "      <th>children</th>\n",
       "      <th>babies</th>\n",
       "      <th>booking_changes</th>\n",
       "      <th>...</th>\n",
       "      <th>market_segment_Online TA</th>\n",
       "      <th>deposit_type_No Deposit</th>\n",
       "      <th>deposit_type_Non Refund</th>\n",
       "      <th>deposit_type_Refundable</th>\n",
       "      <th>distribution_channel_Corporate</th>\n",
       "      <th>distribution_channel_Direct</th>\n",
       "      <th>distribution_channel_TA/TO</th>\n",
       "      <th>reservation_status_Canceled</th>\n",
       "      <th>reservation_status_Check-Out</th>\n",
       "      <th>reservation_status_No-Show</th>\n",
       "    </tr>\n",
       "  </thead>\n",
       "  <tbody>\n",
       "    <tr>\n",
       "      <th>0</th>\n",
       "      <td>0</td>\n",
       "      <td>26</td>\n",
       "      <td>12.0</td>\n",
       "      <td>17</td>\n",
       "      <td>2</td>\n",
       "      <td>3</td>\n",
       "      <td>2</td>\n",
       "      <td>0</td>\n",
       "      <td>0.0</td>\n",
       "      <td>0</td>\n",
       "      <td>...</td>\n",
       "      <td>1</td>\n",
       "      <td>1</td>\n",
       "      <td>0</td>\n",
       "      <td>0</td>\n",
       "      <td>0</td>\n",
       "      <td>0</td>\n",
       "      <td>1</td>\n",
       "      <td>0</td>\n",
       "      <td>1</td>\n",
       "      <td>0</td>\n",
       "    </tr>\n",
       "    <tr>\n",
       "      <th>1</th>\n",
       "      <td>1</td>\n",
       "      <td>95</td>\n",
       "      <td>44.0</td>\n",
       "      <td>28</td>\n",
       "      <td>2</td>\n",
       "      <td>5</td>\n",
       "      <td>2</td>\n",
       "      <td>0</td>\n",
       "      <td>0.0</td>\n",
       "      <td>0</td>\n",
       "      <td>...</td>\n",
       "      <td>1</td>\n",
       "      <td>1</td>\n",
       "      <td>0</td>\n",
       "      <td>0</td>\n",
       "      <td>0</td>\n",
       "      <td>0</td>\n",
       "      <td>1</td>\n",
       "      <td>1</td>\n",
       "      <td>0</td>\n",
       "      <td>0</td>\n",
       "    </tr>\n",
       "    <tr>\n",
       "      <th>2</th>\n",
       "      <td>0</td>\n",
       "      <td>0</td>\n",
       "      <td>16.0</td>\n",
       "      <td>12</td>\n",
       "      <td>0</td>\n",
       "      <td>5</td>\n",
       "      <td>1</td>\n",
       "      <td>0</td>\n",
       "      <td>0.0</td>\n",
       "      <td>0</td>\n",
       "      <td>...</td>\n",
       "      <td>0</td>\n",
       "      <td>1</td>\n",
       "      <td>0</td>\n",
       "      <td>0</td>\n",
       "      <td>0</td>\n",
       "      <td>0</td>\n",
       "      <td>1</td>\n",
       "      <td>0</td>\n",
       "      <td>1</td>\n",
       "      <td>0</td>\n",
       "    </tr>\n",
       "    <tr>\n",
       "      <th>3</th>\n",
       "      <td>0</td>\n",
       "      <td>0</td>\n",
       "      <td>21.0</td>\n",
       "      <td>16</td>\n",
       "      <td>1</td>\n",
       "      <td>1</td>\n",
       "      <td>2</td>\n",
       "      <td>0</td>\n",
       "      <td>0.0</td>\n",
       "      <td>1</td>\n",
       "      <td>...</td>\n",
       "      <td>1</td>\n",
       "      <td>1</td>\n",
       "      <td>0</td>\n",
       "      <td>0</td>\n",
       "      <td>0</td>\n",
       "      <td>0</td>\n",
       "      <td>1</td>\n",
       "      <td>0</td>\n",
       "      <td>1</td>\n",
       "      <td>0</td>\n",
       "    </tr>\n",
       "    <tr>\n",
       "      <th>4</th>\n",
       "      <td>0</td>\n",
       "      <td>138</td>\n",
       "      <td>13.0</td>\n",
       "      <td>16</td>\n",
       "      <td>0</td>\n",
       "      <td>3</td>\n",
       "      <td>2</td>\n",
       "      <td>0</td>\n",
       "      <td>0.0</td>\n",
       "      <td>1</td>\n",
       "      <td>...</td>\n",
       "      <td>0</td>\n",
       "      <td>1</td>\n",
       "      <td>0</td>\n",
       "      <td>0</td>\n",
       "      <td>0</td>\n",
       "      <td>0</td>\n",
       "      <td>1</td>\n",
       "      <td>0</td>\n",
       "      <td>1</td>\n",
       "      <td>0</td>\n",
       "    </tr>\n",
       "  </tbody>\n",
       "</table>\n",
       "<p>5 rows × 44 columns</p>\n",
       "</div>"
      ],
      "text/plain": [
       "   is_canceled  lead_time  arrival_date_week_number  \\\n",
       "0            0         26                      12.0   \n",
       "1            1         95                      44.0   \n",
       "2            0          0                      16.0   \n",
       "3            0          0                      21.0   \n",
       "4            0        138                      13.0   \n",
       "\n",
       "   arrival_date_day_of_month  stays_in_weekend_nights  stays_in_week_nights  \\\n",
       "0                         17                        2                     3   \n",
       "1                         28                        2                     5   \n",
       "2                         12                        0                     5   \n",
       "3                         16                        1                     1   \n",
       "4                         16                        0                     3   \n",
       "\n",
       "   adults  children  babies  booking_changes  ...  market_segment_Online TA  \\\n",
       "0       2         0     0.0                0  ...                         1   \n",
       "1       2         0     0.0                0  ...                         1   \n",
       "2       1         0     0.0                0  ...                         0   \n",
       "3       2         0     0.0                1  ...                         1   \n",
       "4       2         0     0.0                1  ...                         0   \n",
       "\n",
       "   deposit_type_No Deposit  deposit_type_Non Refund  deposit_type_Refundable  \\\n",
       "0                        1                        0                        0   \n",
       "1                        1                        0                        0   \n",
       "2                        1                        0                        0   \n",
       "3                        1                        0                        0   \n",
       "4                        1                        0                        0   \n",
       "\n",
       "   distribution_channel_Corporate  distribution_channel_Direct  \\\n",
       "0                               0                            0   \n",
       "1                               0                            0   \n",
       "2                               0                            0   \n",
       "3                               0                            0   \n",
       "4                               0                            0   \n",
       "\n",
       "   distribution_channel_TA/TO  reservation_status_Canceled  \\\n",
       "0                           1                            0   \n",
       "1                           1                            1   \n",
       "2                           1                            0   \n",
       "3                           1                            0   \n",
       "4                           1                            0   \n",
       "\n",
       "   reservation_status_Check-Out  reservation_status_No-Show  \n",
       "0                             1                           0  \n",
       "1                             0                           0  \n",
       "2                             1                           0  \n",
       "3                             1                           0  \n",
       "4                             1                           0  \n",
       "\n",
       "[5 rows x 44 columns]"
      ]
     },
     "execution_count": 25,
     "metadata": {},
     "output_type": "execute_result"
    }
   ],
   "source": [
    "#reading the first five rows in the dataset\n",
    "df_hotel.head()"
   ]
  },
  {
   "cell_type": "code",
   "execution_count": 26,
   "metadata": {},
   "outputs": [
    {
     "name": "stdout",
     "output_type": "stream",
     "text": [
      "<class 'pandas.core.frame.DataFrame'>\n",
      "RangeIndex: 1207 entries, 0 to 1206\n",
      "Data columns (total 44 columns):\n",
      " #   Column                          Non-Null Count  Dtype  \n",
      "---  ------                          --------------  -----  \n",
      " 0   is_canceled                     1207 non-null   int32  \n",
      " 1   lead_time                       1207 non-null   int32  \n",
      " 2   arrival_date_week_number        1207 non-null   float64\n",
      " 3   arrival_date_day_of_month       1207 non-null   int32  \n",
      " 4   stays_in_weekend_nights         1207 non-null   int32  \n",
      " 5   stays_in_week_nights            1207 non-null   int32  \n",
      " 6   adults                          1207 non-null   int32  \n",
      " 7   children                        1207 non-null   int32  \n",
      " 8   babies                          1207 non-null   float64\n",
      " 9   booking_changes                 1207 non-null   int32  \n",
      " 10  days_in_waiting_list            1207 non-null   float64\n",
      " 11  adr                             1207 non-null   float64\n",
      " 12  required_car_parking_spaces     1207 non-null   float64\n",
      " 13  arrival_month_April             1207 non-null   uint8  \n",
      " 14  arrival_month_August            1207 non-null   uint8  \n",
      " 15  arrival_month_December          1207 non-null   uint8  \n",
      " 16  arrival_month_February          1207 non-null   uint8  \n",
      " 17  arrival_month_January           1207 non-null   uint8  \n",
      " 18  arrival_month_July              1207 non-null   uint8  \n",
      " 19  arrival_month_June              1207 non-null   uint8  \n",
      " 20  arrival_month_March             1207 non-null   uint8  \n",
      " 21  arrival_month_May               1207 non-null   uint8  \n",
      " 22  arrival_month_November          1207 non-null   uint8  \n",
      " 23  arrival_month_October           1207 non-null   uint8  \n",
      " 24  arrival_month_September         1207 non-null   uint8  \n",
      " 25  meal_BB                         1207 non-null   uint8  \n",
      " 26  meal_FB                         1207 non-null   uint8  \n",
      " 27  meal_HB                         1207 non-null   uint8  \n",
      " 28  meal_Undefined                  1207 non-null   uint8  \n",
      " 29  market_segment_Complementary    1207 non-null   uint8  \n",
      " 30  market_segment_Corporate        1207 non-null   uint8  \n",
      " 31  market_segment_Direct           1207 non-null   uint8  \n",
      " 32  market_segment_Groups           1207 non-null   uint8  \n",
      " 33  market_segment_Offline TA/TO    1207 non-null   uint8  \n",
      " 34  market_segment_Online TA        1207 non-null   uint8  \n",
      " 35  deposit_type_No Deposit         1207 non-null   uint8  \n",
      " 36  deposit_type_Non Refund         1207 non-null   uint8  \n",
      " 37  deposit_type_Refundable         1207 non-null   uint8  \n",
      " 38  distribution_channel_Corporate  1207 non-null   uint8  \n",
      " 39  distribution_channel_Direct     1207 non-null   uint8  \n",
      " 40  distribution_channel_TA/TO      1207 non-null   uint8  \n",
      " 41  reservation_status_Canceled     1207 non-null   uint8  \n",
      " 42  reservation_status_Check-Out    1207 non-null   uint8  \n",
      " 43  reservation_status_No-Show      1207 non-null   uint8  \n",
      "dtypes: float64(5), int32(8), uint8(31)\n",
      "memory usage: 121.5 KB\n"
     ]
    }
   ],
   "source": [
    "df_hotel.info()"
   ]
  },
  {
   "cell_type": "code",
   "execution_count": 27,
   "metadata": {},
   "outputs": [
    {
     "name": "stdout",
     "output_type": "stream",
     "text": [
      "is_canceled\n",
      "lead_time\n",
      "arrival_date_week_number\n",
      "arrival_date_day_of_month\n",
      "stays_in_weekend_nights\n",
      "stays_in_week_nights\n",
      "adults\n",
      "children\n",
      "babies\n",
      "booking_changes\n",
      "days_in_waiting_list\n",
      "adr\n",
      "required_car_parking_spaces\n",
      "arrival_month_April\n",
      "arrival_month_August\n",
      "arrival_month_December\n",
      "arrival_month_February\n",
      "arrival_month_January\n",
      "arrival_month_July\n",
      "arrival_month_June\n",
      "arrival_month_March\n",
      "arrival_month_May\n",
      "arrival_month_November\n",
      "arrival_month_October\n",
      "arrival_month_September\n",
      "meal_BB\n",
      "meal_FB\n",
      "meal_HB\n",
      "meal_Undefined\n",
      "market_segment_Complementary\n",
      "market_segment_Corporate\n",
      "market_segment_Direct\n",
      "market_segment_Groups\n",
      "market_segment_Offline TA/TO\n",
      "market_segment_Online TA\n",
      "deposit_type_No Deposit\n",
      "deposit_type_Non Refund\n",
      "deposit_type_Refundable\n",
      "distribution_channel_Corporate\n",
      "distribution_channel_Direct\n",
      "distribution_channel_TA/TO\n",
      "reservation_status_Canceled\n",
      "reservation_status_Check-Out\n",
      "reservation_status_No-Show\n"
     ]
    }
   ],
   "source": [
    "#Checking the final list of columns\n",
    "for col in df_hotel.columns: \n",
    "    print(col) "
   ]
  },
  {
   "cell_type": "code",
   "execution_count": 28,
   "metadata": {},
   "outputs": [
    {
     "data": {
      "text/plain": [
       "is_canceled                       0\n",
       "lead_time                         0\n",
       "arrival_date_week_number          0\n",
       "arrival_date_day_of_month         0\n",
       "stays_in_weekend_nights           0\n",
       "stays_in_week_nights              0\n",
       "adults                            0\n",
       "children                          0\n",
       "babies                            0\n",
       "booking_changes                   0\n",
       "days_in_waiting_list              0\n",
       "adr                               0\n",
       "required_car_parking_spaces       0\n",
       "arrival_month_April               0\n",
       "arrival_month_August              0\n",
       "arrival_month_December            0\n",
       "arrival_month_February            0\n",
       "arrival_month_January             0\n",
       "arrival_month_July                0\n",
       "arrival_month_June                0\n",
       "arrival_month_March               0\n",
       "arrival_month_May                 0\n",
       "arrival_month_November            0\n",
       "arrival_month_October             0\n",
       "arrival_month_September           0\n",
       "meal_BB                           0\n",
       "meal_FB                           0\n",
       "meal_HB                           0\n",
       "meal_Undefined                    0\n",
       "market_segment_Complementary      0\n",
       "market_segment_Corporate          0\n",
       "market_segment_Direct             0\n",
       "market_segment_Groups             0\n",
       "market_segment_Offline TA/TO      0\n",
       "market_segment_Online TA          0\n",
       "deposit_type_No Deposit           0\n",
       "deposit_type_Non Refund           0\n",
       "deposit_type_Refundable           0\n",
       "distribution_channel_Corporate    0\n",
       "distribution_channel_Direct       0\n",
       "distribution_channel_TA/TO        0\n",
       "reservation_status_Canceled       0\n",
       "reservation_status_Check-Out      0\n",
       "reservation_status_No-Show        0\n",
       "dtype: int64"
      ]
     },
     "execution_count": 28,
     "metadata": {},
     "output_type": "execute_result"
    }
   ],
   "source": [
    "#checking the number of nulls in each column\n",
    "df_hotel.isna().sum()"
   ]
  },
  {
   "cell_type": "code",
   "execution_count": 29,
   "metadata": {},
   "outputs": [
    {
     "data": {
      "text/plain": [
       "(1207, 44)"
      ]
     },
     "execution_count": 29,
     "metadata": {},
     "output_type": "execute_result"
    }
   ],
   "source": [
    "#Checking the number of rows and columns\n",
    "df_hotel.shape"
   ]
  },
  {
   "cell_type": "markdown",
   "metadata": {},
   "source": [
    "### Train and Test Split\n",
    "The test and train split is done with 0.2"
   ]
  },
  {
   "cell_type": "code",
   "execution_count": 30,
   "metadata": {},
   "outputs": [],
   "source": [
    "#X and y split\n",
    "y = df_hotel['is_canceled'].values\n",
    "X = df_hotel.drop(['is_canceled'], axis = 1).values"
   ]
  },
  {
   "cell_type": "code",
   "execution_count": 31,
   "metadata": {},
   "outputs": [],
   "source": [
    "#test and train split\n",
    "X_train, X_test, y_train, y_test = train_test_split(X, y,random_state=0,test_size=0.2)"
   ]
  },
  {
   "cell_type": "code",
   "execution_count": 32,
   "metadata": {},
   "outputs": [
    {
     "data": {
      "text/plain": [
       "array([[ 26.,  12.,  17., ...,   0.,   1.,   0.],\n",
       "       [ 95.,  44.,  28., ...,   1.,   0.,   0.],\n",
       "       [  0.,  16.,  12., ...,   0.,   1.,   0.],\n",
       "       ...,\n",
       "       [112.,  39.,  19., ...,   0.,   1.,   0.],\n",
       "       [ 32.,  35.,  27., ...,   0.,   1.,   0.],\n",
       "       [106.,  17.,  23., ...,   1.,   0.,   0.]])"
      ]
     },
     "execution_count": 32,
     "metadata": {},
     "output_type": "execute_result"
    }
   ],
   "source": [
    "#checking X values\n",
    "X"
   ]
  },
  {
   "cell_type": "markdown",
   "metadata": {},
   "source": [
    "### Scaling\n",
    "Scaling is done with MinMax scaler which scales the data with respect to the minimum and maximum values, this is better than the standard scaler which will mostly incline towards the mean of the data."
   ]
  },
  {
   "cell_type": "code",
   "execution_count": 33,
   "metadata": {},
   "outputs": [],
   "source": [
    "# Scaling the dataset\n",
    "#through histogram we see that data is not much normally distributed for some of the columns.  \n",
    "#Hence we use Standard Scaler to normalize and scale\n",
    "from sklearn.preprocessing import MinMaxScaler\n",
    "scaler = MinMaxScaler()\n",
    "X_train = scaler.fit_transform(X_train)\n",
    "X_test = scaler.transform(X_test)"
   ]
  },
  {
   "cell_type": "markdown",
   "metadata": {},
   "source": [
    "## REGRESSION MODELS\n",
    "\n",
    "### K Nearest Neighbors\n",
    "The KNN model is run on the dataframe with checking for neighbours upto 10 to find a suitable neighbour to run.\n",
    "N=1 provides a overfitting model in training but will not do well in test. While a large nighbour will smoothen the classification boundary"
   ]
  },
  {
   "cell_type": "code",
   "execution_count": 34,
   "metadata": {},
   "outputs": [
    {
     "data": {
      "text/plain": [
       "GridSearchCV(cv=5, error_score=nan,\n",
       "             estimator=KNeighborsClassifier(algorithm='auto', leaf_size=30,\n",
       "                                            metric='minkowski',\n",
       "                                            metric_params=None, n_jobs=None,\n",
       "                                            n_neighbors=5, p=2,\n",
       "                                            weights='uniform'),\n",
       "             iid='deprecated', n_jobs=None,\n",
       "             param_grid=[{'n_neighbors': array([ 1,  2,  3,  4,  5,  6,  7,  8,  9, 10])}],\n",
       "             pre_dispatch='2*n_jobs', refit=True, return_train_score=False,\n",
       "             scoring=None, verbose=0)"
      ]
     },
     "execution_count": 34,
     "metadata": {},
     "output_type": "execute_result"
    }
   ],
   "source": [
    "#using K Nearest Neighbors\n",
    "from sklearn.neighbors import KNeighborsClassifier\n",
    "from sklearn.model_selection import GridSearchCV\n",
    "\n",
    "# Create a new knn model\n",
    "knn = KNeighborsClassifier()\n",
    "\n",
    "# n_neighbors to test\n",
    "k = np.arange(10)+1\n",
    "param_knn= [{'n_neighbors':k}]\n",
    "\n",
    "#using gridsearch to test all values for n-neighbors\n",
    "knn_clf = GridSearchCV(knn, param_knn, cv=5)\n",
    "\n",
    "#fitting the model\n",
    "knn_clf.fit(X_train,y_train)"
   ]
  },
  {
   "cell_type": "code",
   "execution_count": 35,
   "metadata": {},
   "outputs": [
    {
     "data": {
      "text/plain": [
       "{'n_neighbors': 9}"
      ]
     },
     "execution_count": 35,
     "metadata": {},
     "output_type": "execute_result"
    }
   ],
   "source": [
    "#Best n_neighbhor value\n",
    "knn_clf.best_params_"
   ]
  },
  {
   "cell_type": "code",
   "execution_count": 36,
   "metadata": {},
   "outputs": [
    {
     "data": {
      "text/plain": [
       "0.9264248704663214"
      ]
     },
     "execution_count": 36,
     "metadata": {},
     "output_type": "execute_result"
    }
   ],
   "source": [
    "#Validation score\n",
    "knn_clf.best_score_"
   ]
  },
  {
   "cell_type": "markdown",
   "metadata": {},
   "source": [
    "It can be seen that at N=9 we get a model with the best parameters and it is used to run the regression"
   ]
  },
  {
   "cell_type": "code",
   "execution_count": 37,
   "metadata": {},
   "outputs": [
    {
     "name": "stdout",
     "output_type": "stream",
     "text": [
      "Accuracy of KNN classifier on training set: 0.94\n",
      "Accuracy of KNN classifier on test set: 0.94\n"
     ]
    }
   ],
   "source": [
    "KNN_best = KNeighborsClassifier(n_neighbors=9).fit(X_train, y_train)\n",
    "\n",
    "print('Accuracy of KNN classifier on training set: {:.2f}'\n",
    "     .format(KNN_best.score(X_train, y_train)))\n",
    "print('Accuracy of KNN classifier on test set: {:.2f}'\n",
    "     .format(KNN_best.score(X_test, y_test)))"
   ]
  },
  {
   "cell_type": "code",
   "execution_count": 38,
   "metadata": {},
   "outputs": [
    {
     "name": "stdout",
     "output_type": "stream",
     "text": [
      "Cross validation scores: [0.94818653 0.88601036 0.94300518 0.91709845 0.92746114]\n",
      "Average cross-validation scroe: 0.9244\n"
     ]
    }
   ],
   "source": [
    "#Cross Validation\n",
    "from sklearn.model_selection import cross_val_score\n",
    "cvscore = cross_val_score(knn,X_train,y_train, cv=5)\n",
    "print(\"Cross validation scores: {}\".format(cvscore))\n",
    "print(\"Average cross-validation scroe: {:.4f}\".format(cvscore.mean()))"
   ]
  },
  {
   "cell_type": "markdown",
   "metadata": {},
   "source": [
    "##### Confusion matrix  \n",
    "Confusion matrix is a good representation of the accuracy with which the model as predicted"
   ]
  },
  {
   "cell_type": "code",
   "execution_count": 39,
   "metadata": {},
   "outputs": [
    {
     "data": {
      "text/plain": [
       "array([[143,   8],\n",
       "       [  7,  84]], dtype=int64)"
      ]
     },
     "execution_count": 39,
     "metadata": {},
     "output_type": "execute_result"
    }
   ],
   "source": [
    "#Confusion Matrix\n",
    "from sklearn.metrics import confusion_matrix\n",
    "\n",
    "KNN_predicted = KNN_best.predict(X_test)\n",
    "cm = confusion_matrix(y_test, KNN_predicted)\n",
    "cm"
   ]
  },
  {
   "cell_type": "code",
   "execution_count": 40,
   "metadata": {},
   "outputs": [
    {
     "data": {
      "text/plain": [
       "93.80165289256198"
      ]
     },
     "execution_count": 40,
     "metadata": {},
     "output_type": "execute_result"
    }
   ],
   "source": [
    "# Checking the accuracy\n",
    "from sklearn.metrics import accuracy_score\n",
    "accuracy_score(y_test,KNN_predicted)*100"
   ]
  },
  {
   "cell_type": "markdown",
   "metadata": {},
   "source": [
    "### Logistic Regression"
   ]
  },
  {
   "cell_type": "markdown",
   "metadata": {},
   "source": [
    "Logistics regression classified the model by drawing a boundary separating the regions using a algebraic equation. Penalty term L2 is introduced to penalise the varibales with large coefficients.\n",
    "We model is C parameters to take the best C to model with"
   ]
  },
  {
   "cell_type": "code",
   "execution_count": 41,
   "metadata": {},
   "outputs": [],
   "source": [
    "#using Logistic Regression\n",
    "from sklearn.linear_model import LogisticRegression\n",
    "logit = LogisticRegression(max_iter=100000000)\n",
    "param_grid = {'C': [0.001, 0.01, 0.1, 1, 10],'penalty':['l2'] }"
   ]
  },
  {
   "cell_type": "code",
   "execution_count": 42,
   "metadata": {},
   "outputs": [
    {
     "data": {
      "text/plain": [
       "GridSearchCV(cv=5, error_score=nan,\n",
       "             estimator=LogisticRegression(C=1.0, class_weight=None, dual=False,\n",
       "                                          fit_intercept=True,\n",
       "                                          intercept_scaling=1, l1_ratio=None,\n",
       "                                          max_iter=100000000,\n",
       "                                          multi_class='auto', n_jobs=None,\n",
       "                                          penalty='l2', random_state=None,\n",
       "                                          solver='lbfgs', tol=0.0001, verbose=0,\n",
       "                                          warm_start=False),\n",
       "             iid='deprecated', n_jobs=None,\n",
       "             param_grid={'C': [0.001, 0.01, 0.1, 1, 10], 'penalty': ['l2']},\n",
       "             pre_dispatch='2*n_jobs', refit=True, return_train_score=False,\n",
       "             scoring=None, verbose=0)"
      ]
     },
     "execution_count": 42,
     "metadata": {},
     "output_type": "execute_result"
    }
   ],
   "source": [
    "# Using Grid search to find the best parameters and fitting the model\n",
    "logit_clf = GridSearchCV(logit, param_grid,cv=5)\n",
    "logit_clf.fit(X_train,y_train)"
   ]
  },
  {
   "cell_type": "code",
   "execution_count": 43,
   "metadata": {},
   "outputs": [
    {
     "data": {
      "text/plain": [
       "{'C': 1, 'penalty': 'l2'}"
      ]
     },
     "execution_count": 43,
     "metadata": {},
     "output_type": "execute_result"
    }
   ],
   "source": [
    "logit_clf.best_params_\n"
   ]
  },
  {
   "cell_type": "markdown",
   "metadata": {},
   "source": [
    "C=1 has the best accuracy in the model and thus we take c=1 to build a model "
   ]
  },
  {
   "cell_type": "code",
   "execution_count": 44,
   "metadata": {},
   "outputs": [
    {
     "name": "stdout",
     "output_type": "stream",
     "text": [
      "Accuracy of logistic regression on training set: 0.9461\n",
      "Accuracy of logistic regression on test set: 0.9339\n"
     ]
    }
   ],
   "source": [
    "#using the parmeter to find out the train and test accuracy\n",
    "LR = LogisticRegression(penalty = 'l2', C= 1)\n",
    "LR.fit(X_train,y_train)\n",
    "\n",
    "print('Accuracy of logistic regression on training set: {:.4f}'\n",
    "     .format(LR.score(X_train, y_train)))\n",
    "print('Accuracy of logistic regression on test set: {:.4f}'\n",
    "     .format(logit_clf.score(X_test, y_test)))"
   ]
  },
  {
   "cell_type": "code",
   "execution_count": 45,
   "metadata": {},
   "outputs": [
    {
     "name": "stdout",
     "output_type": "stream",
     "text": [
      "Cross validation scores: [0.96891192 0.92746114 0.94300518 0.91709845 0.97409326]\n",
      "Average cross-validation score: 0.9461\n"
     ]
    }
   ],
   "source": [
    "#Cross Validation\n",
    "cvscore = cross_val_score(LR,X_train,y_train, cv=5)\n",
    "print(\"Cross validation scores: {}\".format(cvscore))\n",
    "print(\"Average cross-validation score: {:.4f}\".format(cvscore.mean()))"
   ]
  },
  {
   "cell_type": "code",
   "execution_count": 46,
   "metadata": {},
   "outputs": [
    {
     "data": {
      "text/plain": [
       "array([[143,   8],\n",
       "       [  8,  83]], dtype=int64)"
      ]
     },
     "execution_count": 46,
     "metadata": {},
     "output_type": "execute_result"
    }
   ],
   "source": [
    "#Confusion Matrix\n",
    "from sklearn.metrics import confusion_matrix\n",
    "LR_pred = LR.predict(X_test)\n",
    "cm = confusion_matrix(y_test, LR_pred)\n",
    "cm"
   ]
  },
  {
   "cell_type": "code",
   "execution_count": 47,
   "metadata": {},
   "outputs": [
    {
     "data": {
      "text/plain": [
       "93.38842975206612"
      ]
     },
     "execution_count": 47,
     "metadata": {},
     "output_type": "execute_result"
    }
   ],
   "source": [
    "#Accuracy\n",
    "accuracy_score(y_test,LR_pred)*100"
   ]
  },
  {
   "cell_type": "markdown",
   "metadata": {},
   "source": [
    "### Decision Tree\n",
    "Decision tree model builds a parent - child node based tree to map the values a varible can take to land up at a conclusion \n",
    "We check with varying depths to take the best depth which would give a good accuracy."
   ]
  },
  {
   "cell_type": "code",
   "execution_count": 48,
   "metadata": {},
   "outputs": [
    {
     "data": {
      "text/plain": [
       "GridSearchCV(cv=5, error_score=nan,\n",
       "             estimator=DecisionTreeClassifier(ccp_alpha=0.0, class_weight=None,\n",
       "                                              criterion='gini', max_depth=None,\n",
       "                                              max_features=None,\n",
       "                                              max_leaf_nodes=None,\n",
       "                                              min_impurity_decrease=0.0,\n",
       "                                              min_impurity_split=None,\n",
       "                                              min_samples_leaf=1,\n",
       "                                              min_samples_split=2,\n",
       "                                              min_weight_fraction_leaf=0.0,\n",
       "                                              presort='deprecated',\n",
       "                                              random_state=None,\n",
       "                                              splitter='best'),\n",
       "             iid='deprecated', n_jobs=None,\n",
       "             param_grid={'max_depth': [2, 3, 5, 7, 15]},\n",
       "             pre_dispatch='2*n_jobs', refit=True, return_train_score=True,\n",
       "             scoring=None, verbose=0)"
      ]
     },
     "execution_count": 48,
     "metadata": {},
     "output_type": "execute_result"
    }
   ],
   "source": [
    "#using decision tree\n",
    "from sklearn.tree import DecisionTreeClassifier\n",
    "from sklearn.model_selection import GridSearchCV\n",
    "dt_clf = DecisionTreeClassifier()\n",
    "param_grid = {'max_depth': [2,3,5,7,15]}\n",
    "# Using Grid search to find the best parameters and fitting the model\n",
    "grid_search = GridSearchCV(dt_clf, param_grid, cv = 5, return_train_score=True)\n",
    "grid_search.fit(X_train, y_train)"
   ]
  },
  {
   "cell_type": "code",
   "execution_count": 49,
   "metadata": {},
   "outputs": [
    {
     "data": {
      "text/plain": [
       "{'max_depth': 2}"
      ]
     },
     "execution_count": 49,
     "metadata": {},
     "output_type": "execute_result"
    }
   ],
   "source": [
    "#fiding out the best parameter- depth here\n",
    "grid_search.best_params_"
   ]
  },
  {
   "cell_type": "code",
   "execution_count": 50,
   "metadata": {},
   "outputs": [
    {
     "data": {
      "text/plain": [
       "0.945077720207254"
      ]
     },
     "execution_count": 50,
     "metadata": {},
     "output_type": "execute_result"
    }
   ],
   "source": [
    "#best score\n",
    "grid_search.best_score_"
   ]
  },
  {
   "cell_type": "code",
   "execution_count": 51,
   "metadata": {},
   "outputs": [
    {
     "name": "stdout",
     "output_type": "stream",
     "text": [
      "Train score: 0.95\n",
      "Test score: 0.94\n"
     ]
    }
   ],
   "source": [
    "#training set and test set best accuracy\n",
    "dt_clf_best = DecisionTreeClassifier(max_depth = 2)\n",
    "dt_clf_best.fit(X_train,y_train)\n",
    "\n",
    "print('Train score: {0:0.2f}'.format(dt_clf_best.score(X_train, y_train)))\n",
    "print('Test score: {0:0.2f}'.format(dt_clf_best.score(X_test, y_test)))"
   ]
  },
  {
   "cell_type": "code",
   "execution_count": 52,
   "metadata": {},
   "outputs": [
    {
     "name": "stdout",
     "output_type": "stream",
     "text": [
      "Cross validation scores: [0.96373057 0.92746114 0.94300518 0.91709845 0.97409326]\n",
      "Average cross-validation score: 0.95\n"
     ]
    }
   ],
   "source": [
    "#Cross Validation\n",
    "from sklearn.model_selection import cross_val_score\n",
    "scores = cross_val_score(dt_clf_best,X_train,y_train, cv=5)\n",
    "print(\"Cross validation scores: {}\".format(scores))\n",
    "print(\"Average cross-validation score: {:.2f}\".format(scores.mean()))"
   ]
  },
  {
   "cell_type": "code",
   "execution_count": 53,
   "metadata": {},
   "outputs": [
    {
     "data": {
      "text/plain": [
       "array([[143,   8],\n",
       "       [  7,  84]], dtype=int64)"
      ]
     },
     "execution_count": 53,
     "metadata": {},
     "output_type": "execute_result"
    }
   ],
   "source": [
    "#Confusion Matrix\n",
    "from sklearn.metrics import confusion_matrix\n",
    "dt_predicted = dt_clf_best.predict(X_test)\n",
    "cm = confusion_matrix(y_test, dt_predicted)\n",
    "cm"
   ]
  },
  {
   "cell_type": "code",
   "execution_count": 54,
   "metadata": {},
   "outputs": [
    {
     "data": {
      "text/plain": [
       "93.80165289256198"
      ]
     },
     "execution_count": 54,
     "metadata": {},
     "output_type": "execute_result"
    }
   ],
   "source": [
    "#Accuracy\n",
    "from sklearn.metrics import accuracy_score\n",
    "accuracy_score(y_test,dt_predicted)*100"
   ]
  },
  {
   "cell_type": "markdown",
   "metadata": {},
   "source": [
    "### Support Vector Machine\n",
    "SVM uses a hyperplane to divide the data can find a good boundary between the two regions.\n",
    "We provide different C values to check the performance"
   ]
  },
  {
   "cell_type": "code",
   "execution_count": 55,
   "metadata": {},
   "outputs": [],
   "source": [
    "#using SVM\n",
    "from sklearn.svm import SVC\n",
    "LinSVC = SVC(kernel='linear',max_iter=100000000)\n",
    "LinSVM_params = {'C':[0.001, 0.01, 0.1, 1, 10,100,1000]}"
   ]
  },
  {
   "cell_type": "code",
   "execution_count": null,
   "metadata": {},
   "outputs": [],
   "source": [
    "# Using Grid search to find the best parameters and fitting the model\n",
    "LinearSVC_clf = GridSearchCV(LinSVC, LinSVM_params,cv=5)\n",
    "LinearSVC_clf.fit(X_train,y_train)"
   ]
  },
  {
   "cell_type": "code",
   "execution_count": null,
   "metadata": {},
   "outputs": [],
   "source": [
    "#finding the best parameter\n",
    "LinearSVC_clf.best_params_"
   ]
  },
  {
   "cell_type": "code",
   "execution_count": null,
   "metadata": {},
   "outputs": [],
   "source": [
    "#applying the best paramerter and finding the test and train accuracy\n",
    "from sklearn.svm import SVC, LinearSVC\n",
    "\n",
    "clf = LinearSVC (C=0.01,max_iter=100000000)\n",
    "clf.fit(X_train,y_train)\n",
    "clf.score(X_train,y_train)\n",
    "print('Accuracy of linear SVM on training set: {:.4f}'\n",
    "     .format(clf.score(X_train, y_train)))\n",
    "print('Accuracy of linear SVM on test set: {:.4f}'\n",
    "     .format(LinearSVC_clf.score(X_test, y_test)))"
   ]
  },
  {
   "cell_type": "code",
   "execution_count": null,
   "metadata": {},
   "outputs": [],
   "source": [
    "#Cross Validation\n",
    "cvscore = cross_val_score(SVC(kernel='linear',C=1),X_train,y_train, cv=5)\n",
    "print(\"Cross validation scores: {}\".format(cvscore))\n",
    "print(\"Average cross-validation score: {:.4f}\".format(cvscore.mean()))"
   ]
  },
  {
   "cell_type": "code",
   "execution_count": null,
   "metadata": {},
   "outputs": [],
   "source": [
    "#Making the Confusion Matrix\n",
    "from sklearn.metrics import confusion_matrix\n",
    "LSVM_pred = clf.predict(X_test)\n",
    "cm = confusion_matrix(y_test, LSVM_pred)\n",
    "cm"
   ]
  },
  {
   "cell_type": "code",
   "execution_count": null,
   "metadata": {},
   "outputs": [],
   "source": [
    "#Accuracy\n",
    "from sklearn.metrics import accuracy_score\n",
    "accuracy_score(y_test,LSVM_pred)*100"
   ]
  },
  {
   "cell_type": "markdown",
   "metadata": {},
   "source": [
    "### SVM With kernel RBF and linear\n",
    "This svm uses the kernel trick and it has another penalising term gamma\n",
    "We try C and Gamma with different values to find a best "
   ]
  },
  {
   "cell_type": "code",
   "execution_count": null,
   "metadata": {},
   "outputs": [],
   "source": [
    "#using Kernel SVM\n",
    "from sklearn.svm import SVC \n",
    "KernelSVC = SVC(max_iter=10000000)\n",
    "kernelSVC_params = {'C':[0.001, 0.01, 0.1, 1],'gamma':[1,0.1,0.001], 'kernel':['rbf','linear']}"
   ]
  },
  {
   "cell_type": "code",
   "execution_count": null,
   "metadata": {},
   "outputs": [],
   "source": [
    "# Using Grid search to find the best parameters and fitting the model\n",
    "KernelSVC_clf = GridSearchCV(KernelSVC, kernelSVC_params,cv=5)\n",
    "KernelSVC_clf.fit(X_train,y_train)"
   ]
  },
  {
   "cell_type": "code",
   "execution_count": null,
   "metadata": {},
   "outputs": [],
   "source": [
    "#finding the best paramrter\n",
    "KernelSVC_clf.best_params_"
   ]
  },
  {
   "cell_type": "markdown",
   "metadata": {},
   "source": [
    "Thus we run the model with c=0.01 and gamma=1 \n",
    "#### Kernel SVM with RBF"
   ]
  },
  {
   "cell_type": "code",
   "execution_count": null,
   "metadata": {},
   "outputs": [],
   "source": [
    "#finding thet train and test accuracy\n",
    "KernelSVC_clf= SVC(kernel='rbf', C= 0.01, gamma= 1)\n",
    "KernelSVC_clf.fit(X_train,y_train)\n",
    "KernelSVC_clf.score(X_train,y_train)\n",
    "print('Accuracy of Kernelized SVM on training set: {:.2f}'\n",
    "     .format(KernelSVC_clf.score(X_train, y_train)))\n",
    "print('Accuracy of Kernelized SVM on test set: {:.4f}'\n",
    "     .format(KernelSVC_clf.score(X_test, y_test)))"
   ]
  },
  {
   "cell_type": "code",
   "execution_count": null,
   "metadata": {},
   "outputs": [],
   "source": [
    "#Cross Validation\n",
    "cvscore = cross_val_score(SVC(kernel='rbf',C=10,gamma=0.1),X_train,y_train, cv=5)\n",
    "print(\"Cross validation scores: {}\".format(cvscore))\n",
    "print(\"Average cross-validation score: {:.4f}\".format(cvscore.mean()))"
   ]
  },
  {
   "cell_type": "code",
   "execution_count": null,
   "metadata": {},
   "outputs": [],
   "source": [
    "#Making the Confusion Matrix\n",
    "from sklearn.metrics import confusion_matrix\n",
    "KSVM_pred = KernelSVC_clf.predict(X_test)\n",
    "cm = confusion_matrix(y_test, KSVM_pred)\n",
    "cm"
   ]
  },
  {
   "cell_type": "code",
   "execution_count": null,
   "metadata": {},
   "outputs": [],
   "source": [
    "#Accuracy\n",
    "from sklearn.metrics import accuracy_score\n",
    "accuracy_score(y_test,KSVM_pred)*100"
   ]
  },
  {
   "cell_type": "markdown",
   "metadata": {},
   "source": [
    "#### Kernel SVM With Poly"
   ]
  },
  {
   "cell_type": "code",
   "execution_count": null,
   "metadata": {},
   "outputs": [],
   "source": [
    "#using kernel SVM poly\n",
    "from sklearn.svm import SVC \n",
    "KernelSVC = SVC(max_iter=10000000)\n",
    "kernelSVC_params = {'C':[0.01, 0.1, 1, 10],'gamma':[0.01,0.1,1], 'kernel':['poly']}"
   ]
  },
  {
   "cell_type": "code",
   "execution_count": null,
   "metadata": {},
   "outputs": [],
   "source": [
    "# Using Grid search to find the best parameters and fitting the model\n",
    "KernelSVC_clf = GridSearchCV(KernelSVC, kernelSVC_params,cv=5)\n",
    "KernelSVC_clf.fit(X_train,y_train)"
   ]
  },
  {
   "cell_type": "code",
   "execution_count": null,
   "metadata": {},
   "outputs": [],
   "source": [
    "#fiding the best parameter\n",
    "KernelSVC_clf.best_params_"
   ]
  },
  {
   "cell_type": "code",
   "execution_count": null,
   "metadata": {},
   "outputs": [],
   "source": [
    "#accuracy on both training and test set\n",
    "kernel_clf= SVC(kernel='poly', C= 1, gamma= 0.1)\n",
    "kernel_clf.fit(X_train,y_train)\n",
    "kernel_clf.score(X_train,y_train)\n",
    "print('Accuracy of Kernelized SVM on training set: {:.4f}'\n",
    "     .format(kernel_clf.score(X_train, y_train)))\n",
    "print('Accuracy of Kernelized SVM on test set: {:.4f}'\n",
    "     .format(KernelSVC_clf.score(X_test, y_test)))"
   ]
  },
  {
   "cell_type": "code",
   "execution_count": null,
   "metadata": {},
   "outputs": [],
   "source": [
    "#Cross Validation\n",
    "from sklearn.model_selection import cross_val_score\n",
    "cvscore = cross_val_score(SVC(kernel='linear',C=1,gamma=1),X_train,y_train, cv=5)\n",
    "print(\"Cross validation scores: {}\".format(cvscore))\n",
    "print(\"Average cross-validation score: {:.4f}\".format(cvscore.mean()))"
   ]
  },
  {
   "cell_type": "code",
   "execution_count": null,
   "metadata": {},
   "outputs": [],
   "source": [
    "#Making the Confusion Matrix\n",
    "from sklearn.metrics import confusion_matrix\n",
    "KPSVM_pred = kernel_clf.predict(X_test)\n",
    "cm = confusion_matrix(y_test, KPSVM_pred)\n",
    "cm"
   ]
  },
  {
   "cell_type": "code",
   "execution_count": null,
   "metadata": {},
   "outputs": [],
   "source": [
    "#Accuracy\n",
    "from sklearn.metrics import accuracy_score\n",
    "accuracy_score(y_test,KPSVM_pred)*100  "
   ]
  },
  {
   "cell_type": "markdown",
   "metadata": {},
   "source": [
    "## All Models at a Glance"
   ]
  },
  {
   "cell_type": "code",
   "execution_count": null,
   "metadata": {},
   "outputs": [],
   "source": [
    "models_class=[]\n",
    "\n",
    "models_class.append({'Model Name' : 'K Nearest Neighbors','Train score': round(KNN_best.score(X_train, y_train),4),\n",
    "               'Test score': round(KNN_best.score(X_test, y_test),4), 'Accuracy Score' : accuracy_score(y_test,KNN_predicted)*100})\n",
    "\n",
    "models_class.append({'Model Name' : 'Logistic Regression','Train score': round(LR.score(X_train, y_train),4),\n",
    "               'Test score': round(LR.score(X_test, y_test),4), 'Accuracy Score' : accuracy_score(y_test,LR_pred)*100})\n",
    "\n",
    "models_class.append({'Model Name' : 'Decision Tree','Train score': round(dt_clf_best.score(X_train, y_train),4),\n",
    "               'Test score': round(dt_clf_best.score(X_test, y_test),4), 'Accuracy Score' : accuracy_score(y_test,dt_predicted)*100})\n",
    "\n",
    "models_class.append({'Model Name' : 'Linear SVM','Train score': round(clf.score(X_train, y_train),4),\n",
    "                     'Test score': round(clf.score(X_test, y_test),4), 'Accuracy Score' : accuracy_score(y_test,LSVM_pred)*100})\n",
    "\n",
    "models_class.append({'Model Name' : 'Kernel SVM (RBF and Linear)','Train score': round(KernelSVC_clf.score(X_train, y_train),4),\n",
    "                     'Test score': round(KernelSVC_clf.score(X_test, y_test),4), 'Accuracy Score' : accuracy_score(y_test,KSVM_pred)*100})\n",
    "\n",
    "models_class.append({'Model Name' : 'Kernel SVM (Poly)','Train score': round(kernel_clf.score(X_train, y_train),4),\n",
    "                     'Test score': round(kernel_clf.score(X_test, y_test),4), 'Accuracy Score' : round(accuracy_score(y_test,KPSVM_pred)*100)})"
   ]
  },
  {
   "cell_type": "code",
   "execution_count": null,
   "metadata": {},
   "outputs": [],
   "source": [
    "model_class = pd.DataFrame(models_class)\n",
    "model_class.set_index('Model Name', inplace = True)\n",
    "model_class"
   ]
  },
  {
   "cell_type": "markdown",
   "metadata": {},
   "source": [
    "Thus seeing all the models ran we can decide the best model first by checking on the accuracy score and then choosing the least gap between the traina and test score. This helps to pick a model which is efficient in real time data<br>\n",
    "The model which is identified to be the best is:\n",
    "<b>Kernel SVM Poly</b> as it has the highest accuracy of <b>94</b>  and less gap between the train and test. "
   ]
  },
  {
   "cell_type": "markdown",
   "metadata": {},
   "source": [
    "Thus we use c=1 and gamma=0.1\n",
    "C=1 is little intolerant towards the misclassifications and gamma=0.1 is a good penaliser else a higher gamma will result in island formations"
   ]
  },
  {
   "cell_type": "code",
   "execution_count": null,
   "metadata": {},
   "outputs": [],
   "source": [
    "#accuracy on both training and test set\n",
    "kernel_clf= SVC(kernel='poly', C= 1, gamma= 0.1)\n",
    "kernel_clf.fit(X_train,y_train)\n",
    "kernel_clf.score(X_train,y_train)\n",
    "print('Accuracy of Kernelized SVM on training set: {:.4f}'\n",
    "     .format(kernel_clf.score(X_train, y_train)))\n",
    "print('Accuracy of Kernelized SVM on test set: {:.4f}'\n",
    "     .format(KernelSVC_clf.score(X_test, y_test)))"
   ]
  },
  {
   "cell_type": "code",
   "execution_count": null,
   "metadata": {},
   "outputs": [],
   "source": [
    "#Cross Validation\n",
    "from sklearn.model_selection import cross_val_score\n",
    "cvscore = cross_val_score(SVC(kernel='linear',C=1,gamma=1),X_train,y_train, cv=5)\n",
    "print(\"Cross validation scores: {}\".format(cvscore))\n",
    "print(\"Average cross-validation score: {:.4f}\".format(cvscore.mean()))"
   ]
  },
  {
   "cell_type": "code",
   "execution_count": null,
   "metadata": {},
   "outputs": [],
   "source": [
    "#Cross Validation\n",
    "from sklearn.model_selection import cross_val_score\n",
    "cvscore = cross_val_score(SVC(kernel='linear',C=1,gamma=1),X_train,y_train, cv=5)\n",
    "print(\"Cross validation scores: {}\".format(cvscore))\n",
    "print(\"Average cross-validation score: {:.4f}\".format(cvscore.mean()))"
   ]
  },
  {
   "cell_type": "code",
   "execution_count": null,
   "metadata": {},
   "outputs": [],
   "source": [
    "#Accuracy\n",
    "from sklearn.metrics import accuracy_score\n",
    "accuracy_score(y_test,KPSVM_pred)*100  "
   ]
  },
  {
   "cell_type": "markdown",
   "metadata": {},
   "source": [
    "Thus our model with kernel svm poly predicts if a hotel booking will be cancelled or not with an accuracy of 94%"
   ]
  }
 ],
 "metadata": {
  "kernelspec": {
   "display_name": "Python 3",
   "language": "python",
   "name": "python3"
  },
  "language_info": {
   "codemirror_mode": {
    "name": "ipython",
    "version": 3
   },
   "file_extension": ".py",
   "mimetype": "text/x-python",
   "name": "python",
   "nbconvert_exporter": "python",
   "pygments_lexer": "ipython3",
   "version": "3.8.8"
  }
 },
 "nbformat": 4,
 "nbformat_minor": 4
}
